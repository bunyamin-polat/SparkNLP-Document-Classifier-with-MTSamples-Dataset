{
  "nbformat": 4,
  "nbformat_minor": 0,
  "metadata": {
    "colab": {
      "name": "MTSamples Document Classifier.ipynb",
      "provenance": [],
      "collapsed_sections": [],
      "mount_file_id": "1pR8x3FTgdFP0jN1bx4LroMx5ltaC62Lw",
      "authorship_tag": "ABX9TyNWraMbGb7+MTKp6sVfgApT",
      "include_colab_link": true
    },
    "kernelspec": {
      "name": "python3",
      "display_name": "Python 3"
    },
    "language_info": {
      "name": "python"
    }
  },
  "cells": [
    {
      "cell_type": "markdown",
      "metadata": {
        "id": "view-in-github",
        "colab_type": "text"
      },
      "source": [
        "<a href=\"https://colab.research.google.com/github/bunyamin-polat/SparkNLP-Document-Classifier-with-MTSamples-Dataset/blob/main/MTSamples_Document_Classifier.ipynb\" target=\"_parent\"><img src=\"https://colab.research.google.com/assets/colab-badge.svg\" alt=\"Open In Colab\"/></a>"
      ]
    },
    {
      "cell_type": "markdown",
      "source": [
        "# Colab Setup"
      ],
      "metadata": {
        "id": "7yUSVXo8i5EO"
      }
    },
    {
      "cell_type": "code",
      "source": [
        "import json\n",
        "import os\n",
        "\n",
        "from google.colab import files\n",
        "\n",
        "license_keys = files.upload()\n",
        "\n",
        "with open(list(license_keys.keys())[0]) as f:\n",
        "    license_keys = json.load(f)\n",
        "\n",
        "# Defining license key-value pairs as local variables\n",
        "locals().update(license_keys)\n",
        "\n",
        "# Adding license key-value pairs to environment variables\n",
        "os.environ.update(license_keys)"
      ],
      "metadata": {
        "id": "DFNc-eJhqVNb",
        "colab": {
          "resources": {
            "http://localhost:8080/nbextensions/google.colab/files.js": {
              "data": "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",
              "ok": true,
              "headers": [
                [
                  "content-type",
                  "application/javascript"
                ]
              ],
              "status": 200,
              "status_text": ""
            }
          },
          "base_uri": "https://localhost:8080/",
          "height": 73
        },
        "outputId": "d701c70d-e67d-4bda-d984-bb42be3a4517"
      },
      "execution_count": 1,
      "outputs": [
        {
          "output_type": "display_data",
          "data": {
            "text/html": [
              "\n",
              "     <input type=\"file\" id=\"files-a90321e0-d7f2-4a81-9ae7-847b7c4a9f81\" name=\"files[]\" multiple disabled\n",
              "        style=\"border:none\" />\n",
              "     <output id=\"result-a90321e0-d7f2-4a81-9ae7-847b7c4a9f81\">\n",
              "      Upload widget is only available when the cell has been executed in the\n",
              "      current browser session. Please rerun this cell to enable.\n",
              "      </output>\n",
              "      <script src=\"/nbextensions/google.colab/files.js\"></script> "
            ],
            "text/plain": [
              "<IPython.core.display.HTML object>"
            ]
          },
          "metadata": {}
        },
        {
          "output_type": "stream",
          "name": "stdout",
          "text": [
            "Saving spark_nlp_for_healthcare_spark_ocr.json to spark_nlp_for_healthcare_spark_ocr.json\n"
          ]
        }
      ]
    },
    {
      "cell_type": "code",
      "source": [
        "# Installing pyspark and spark-nlp\n",
        "! pip install --upgrade -q pyspark==3.1.2 spark-nlp==$PUBLIC_VERSION\n",
        "\n",
        "# Installing Spark NLP Healthcare\n",
        "! pip install --upgrade -q spark-nlp-jsl==$JSL_VERSION  --extra-index-url https://pypi.johnsnowlabs.com/$SECRET\n",
        "\n",
        "# Installing Spark NLP Display Library for visualization\n",
        "! pip install -q spark-nlp-display"
      ],
      "metadata": {
        "id": "0GwK4ryZqVQZ",
        "colab": {
          "base_uri": "https://localhost:8080/"
        },
        "outputId": "85d32f2d-d608-49ad-f684-14608596c44b"
      },
      "execution_count": 2,
      "outputs": [
        {
          "output_type": "stream",
          "name": "stdout",
          "text": [
            "\u001b[K     |████████████████████████████████| 212.4 MB 66 kB/s \n",
            "\u001b[K     |████████████████████████████████| 140 kB 20.8 MB/s \n",
            "\u001b[K     |████████████████████████████████| 198 kB 59.2 MB/s \n",
            "\u001b[?25h  Building wheel for pyspark (setup.py) ... \u001b[?25l\u001b[?25hdone\n",
            "\u001b[K     |████████████████████████████████| 144 kB 38.7 MB/s \n",
            "\u001b[K     |████████████████████████████████| 95 kB 3.9 MB/s \n",
            "\u001b[K     |████████████████████████████████| 66 kB 6.0 MB/s \n",
            "\u001b[?25h"
          ]
        }
      ]
    },
    {
      "cell_type": "code",
      "source": [
        "import json\n",
        "import os\n",
        "from pyspark.ml import Pipeline,PipelineModel\n",
        "from pyspark.sql import SparkSession\n",
        "from pyspark.sql import functions as F\n",
        "\n",
        "from sparknlp.annotator import *\n",
        "from sparknlp_jsl.annotator import *\n",
        "from sparknlp.common import *\n",
        "from sparknlp.base import *\n",
        "import sparknlp_jsl\n",
        "import sparknlp\n",
        "\n",
        "import warnings\n",
        "warnings.filterwarnings('ignore')\n",
        "\n",
        "print (\"Spark NLP Version :\", sparknlp.version())\n",
        "print (\"Spark NLP_JSL Version :\", sparknlp_jsl.version())\n",
        "\n",
        "\n",
        "spark = sparknlp_jsl.start(license_keys['SECRET'])\n",
        "\n",
        "spark"
      ],
      "metadata": {
        "id": "jBL6dBu6qVTR",
        "colab": {
          "base_uri": "https://localhost:8080/",
          "height": 254
        },
        "outputId": "3adf0756-c208-41cf-ee97-864117f74b0b"
      },
      "execution_count": 3,
      "outputs": [
        {
          "output_type": "stream",
          "name": "stdout",
          "text": [
            "Spark NLP Version : 3.4.0\n",
            "Spark NLP_JSL Version : 3.4.0\n"
          ]
        },
        {
          "output_type": "execute_result",
          "data": {
            "text/html": [
              "\n",
              "            <div>\n",
              "                <p><b>SparkSession - in-memory</b></p>\n",
              "                \n",
              "        <div>\n",
              "            <p><b>SparkContext</b></p>\n",
              "\n",
              "            <p><a href=\"http://ad67a76351e8:4040\">Spark UI</a></p>\n",
              "\n",
              "            <dl>\n",
              "              <dt>Version</dt>\n",
              "                <dd><code>v3.1.2</code></dd>\n",
              "              <dt>Master</dt>\n",
              "                <dd><code>local[*]</code></dd>\n",
              "              <dt>AppName</dt>\n",
              "                <dd><code>Spark NLP Licensed</code></dd>\n",
              "            </dl>\n",
              "        </div>\n",
              "        \n",
              "            </div>\n",
              "        "
            ],
            "text/plain": [
              "<pyspark.sql.session.SparkSession at 0x7f4e3c247110>"
            ]
          },
          "metadata": {},
          "execution_count": 3
        }
      ]
    },
    {
      "cell_type": "code",
      "source": [
        "import pandas as pd\n",
        "import numpy as np\n",
        "\n",
        "from pyspark.sql import functions as F\n",
        "\n",
        "from pyspark.ml.feature import CountVectorizer, HashingTF, IDF, OneHotEncoder, StringIndexer, VectorAssembler, SQLTransformer\n",
        "\n",
        "from pyspark.ml.classification import LogisticRegression\n",
        "\n",
        "from sklearn.metrics import confusion_matrix, classification_report, accuracy_score\n"
      ],
      "metadata": {
        "id": "9pytYACJoNXk"
      },
      "execution_count": 4,
      "outputs": []
    },
    {
      "cell_type": "markdown",
      "source": [
        "# Import MTSamples Data\n",
        "- MTSamples data was read separately for each category and converted into a spark dataframe.\n",
        "\n",
        "- Added category information to each dataframe\n",
        "\n",
        "- Then all the dataframes were merged, \"text\" and \"category\" information was taken and saved as a spark dataframe.\n"
      ],
      "metadata": {
        "id": "phWIrGS7i48p"
      }
    },
    {
      "cell_type": "code",
      "source": [
        "# textFiles1 = spark.sparkContext.wholeTextFiles(\"/content/drive/MyDrive/Colab Notebooks/SparkNLP/dataset/train-data/Gastroenterology/*.txt\")\n",
        "# textFiles2 = spark.sparkContext.wholeTextFiles(\"/content/drive/MyDrive/Colab Notebooks/SparkNLP/dataset/train-data/Neurology/*.txt\")\n",
        "# textFiles3 = spark.sparkContext.wholeTextFiles(\"/content/drive/MyDrive/Colab Notebooks/SparkNLP/dataset/train-data/Orthopedic/*.txt\")\n",
        "# textFiles4 = spark.sparkContext.wholeTextFiles(\"/content/drive/MyDrive/Colab Notebooks/SparkNLP/dataset/train-data/Radiology/*.txt\")\n",
        "# textFiles5 = spark.sparkContext.wholeTextFiles(\"/content/drive/MyDrive/Colab Notebooks/SparkNLP/dataset/train-data/Urology/*.txt\") \n",
        "\n",
        "# spark_df1 = textFiles1.toDF(schema=[\"path\",\"text\"])\n",
        "# spark_df2 = textFiles2.toDF(schema=[\"path\",\"text\"])\n",
        "# spark_df3 = textFiles3.toDF(schema=[\"path\",\"text\"])\n",
        "# spark_df4 = textFiles4.toDF(schema=[\"path\",\"text\"])\n",
        "# spark_df5 = textFiles5.toDF(schema=[\"path\",\"text\"])\n",
        "\n",
        "# spark_df1 = spark_df1.withColumn(\"category\",F.lit(\"Gastroenterology\"))\n",
        "# spark_df2 = spark_df2.withColumn(\"category\",F.lit(\"Neurology\"))\n",
        "# spark_df3 = spark_df3.withColumn(\"category\",F.lit(\"Orthopedic\"))\n",
        "# spark_df4 = spark_df4.withColumn(\"category\",F.lit(\"Radiology\"))\n",
        "# spark_df5 = spark_df5.withColumn(\"category\",F.lit(\"Urology\"))"
      ],
      "metadata": {
        "id": "vbycH4MuPaLq"
      },
      "execution_count": null,
      "outputs": []
    },
    {
      "cell_type": "code",
      "source": [
        "# spark_df = spark_df1.union(spark_df2.union(spark_df3.union(spark_df4.union(spark_df5))))\n",
        "\n",
        "# spark_df = spark_df.select(\"text\",\"category\")\n"
      ],
      "metadata": {
        "id": "T-t2tgzFlL_2"
      },
      "execution_count": null,
      "outputs": []
    },
    {
      "cell_type": "markdown",
      "source": [
        "## Data Preprocessing and Save\n",
        "\n",
        "- Since there are blank lines and html tags in our data, the related cleaning processes were performed by applying the normalization process.\n",
        "\n",
        "- Then our data was saved to the drive in parquet format."
      ],
      "metadata": {
        "id": "C2Bt775d8PAk"
      }
    },
    {
      "cell_type": "code",
      "source": [
        "# documentAssembler = DocumentAssembler() \\\n",
        "#     .setInputCol('text') \\\n",
        "#     .setOutputCol('document')\n",
        "\n",
        "# cleanUpPatterns = [\"<[^>]*>\"]\n",
        "\n",
        "# documentNormalizer = DocumentNormalizer() \\\n",
        "#     .setInputCols(\"document\") \\\n",
        "#     .setOutputCol(\"normalizedDocument\") \\\n",
        "#     .setAction(\"clean\") \\\n",
        "#     .setPatterns(cleanUpPatterns) \\\n",
        "#     .setReplacement(\"\") \\\n",
        "#     .setPolicy(\"pretty_all\") \\\n",
        "#     .setLowercase(False)\n",
        "\n",
        "# docPatternRemoverPipeline = Pipeline() \\\n",
        "#     .setStages([\n",
        "#         documentAssembler,\n",
        "#         documentNormalizer])\n",
        "    \n",
        "# empty_df = spark.createDataFrame([['']]).toDF(\"text\")\n",
        "\n",
        "# pipelineModel = docPatternRemoverPipeline.fit(empty_df)"
      ],
      "metadata": {
        "id": "Af4a2vgv4HRa"
      },
      "execution_count": 7,
      "outputs": []
    },
    {
      "cell_type": "code",
      "source": [
        "# result_df = pipelineModel.transform(spark_df)\n",
        "\n",
        "# result_df = result_df.select(\"category\", F.explode('normalizedDocument.result').alias('text'))\n",
        "\n",
        "# result_df.write.parquet(\"/content/drive/MyDrive/mtsamples.parquet\")"
      ],
      "metadata": {
        "id": "GWODENz-4HUh"
      },
      "execution_count": null,
      "outputs": []
    },
    {
      "cell_type": "markdown",
      "source": [
        "# Read MTSamples Data"
      ],
      "metadata": {
        "id": "-6mPNdd78YPf"
      }
    },
    {
      "cell_type": "code",
      "source": [
        "spark_df = spark.read.parquet(\"/content/drive/MyDrive/SparkNLPTask/mtsamples.parquet\")\n",
        "\n",
        "spark_df.show(truncate=100)"
      ],
      "metadata": {
        "colab": {
          "base_uri": "https://localhost:8080/"
        },
        "id": "1Tlb4GaN7fnv",
        "outputId": "d438749f-21ea-4a85-c45d-c18fc9e1324b"
      },
      "execution_count": 12,
      "outputs": [
        {
          "output_type": "stream",
          "name": "stdout",
          "text": [
            "+----------+----------------------------------------------------------------------------------------------------+\n",
            "|  category|                                                                                                text|\n",
            "+----------+----------------------------------------------------------------------------------------------------+\n",
            "|Orthopedic| PREOPERATIVE DIAGNOSES 1. EMG-proven left carpal tunnel syndrome. 2. Tenosynovitis of the left t...|\n",
            "|Orthopedic| PREOPERATIVE DIAGNOSIS: Bunion, left foot. POSTOPERATIVE DIAGNOSIS: Bunion, left foot. PROCEDURE...|\n",
            "|Orthopedic| RICE stands for the most important elements of treatment for many injuries---rest, ice, compress...|\n",
            "|Orthopedic| The patient is an 84-year-old retired male who is referred to our office by Dr. O. He comes in t...|\n",
            "|Orthopedic| PREOPERATIVE DIAGNOSES: 1. Left carpal tunnel syndrome (354.0). 2. Left ulnar nerve entrapment a...|\n",
            "|Orthopedic| PREOPERATIVE DIAGNOSIS: Herniated nucleus pulposus T8-T9. POSTOPERATIVE DIAGNOSIS: Herniated nuc...|\n",
            "|Orthopedic| This is a 30-year-old female with pain and swelling, status post injury. FINDINGS: There are pos...|\n",
            "|Orthopedic| PREOPERATIVE DIAGNOSES: 1. Left diabetic foot abscess and infection. 2. Left calcaneus fracture ...|\n",
            "|Orthopedic| PREOPERATIVE DIAGNOSES: 1. Mass, left second toe. 2. Tumor. 3. Left hallux bone invasion of the ...|\n",
            "|Orthopedic| PREOPERATIVE DIAGNOSIS: Carpal tunnel syndrome. POSTOPERATIVE DIAGNOSIS: Carpal tunnel syndrome....|\n",
            "|Orthopedic| PREOPERATIVE DIAGNOSES: 1. Pathologic insufficiency. 2. Fracture of the T8 vertebrae and T9 vert...|\n",
            "|Orthopedic| PREOPERATIVE DIAGNOSIS: Severely comminuted fracture of the distal radius, left. POSTOPERATIVE D...|\n",
            "|Orthopedic| PREOPERATIVE DIAGNOSES: 1. Hallux abductovalgus deformity, right foot. 2. Tailor bunion deformit...|\n",
            "|Orthopedic| PREOPERATIVE DIAGNOSIS: Hammertoe deformity of the right second digit. POSTOPERATIVE DIAGNOSIS: ...|\n",
            "|Orthopedic| PREOPERATIVE DIAGNOSES: 1. Torn anterior cruciate ligament, right knee. 2. Patellofemoral instab...|\n",
            "|Orthopedic| CHIEF COMPLAINT: Left hip pain. HISTORY OF PRESENT ILLNESS: The patient is a 32-year-old male se...|\n",
            "|Orthopedic| PREOPERATIVE DIAGNOSES: 1. Bunion left foot. 2. Hammertoe, left second toe. POSTOPERATIVE DIAGNO...|\n",
            "|Orthopedic| PREOPERATIVE DIAGNOSES: Cervical degenerative disc disease, spondylosis, severe myelopathy, spin...|\n",
            "|Orthopedic| PREOPERATIVE DIAGNOSIS: Osteomyelitis, left hallux. POSTOPERATIVE DIAGNOSIS: Osteomyelitis, left...|\n",
            "|Orthopedic| PREOPERATIVE DIAGNOSIS: Herniated nucleus pulposus, C5-C6, with spinal stenosis. POSTOPERATIVE D...|\n",
            "+----------+----------------------------------------------------------------------------------------------------+\n",
            "only showing top 20 rows\n",
            "\n"
          ]
        }
      ]
    },
    {
      "cell_type": "code",
      "source": [
        "spark_df = spark_df.filter(spark_df.text != \"\")\n",
        "# None values in the text column of our data were removed from the data"
      ],
      "metadata": {
        "id": "lYiwhc6jLN7k"
      },
      "execution_count": 13,
      "outputs": []
    },
    {
      "cell_type": "code",
      "source": [
        "spark_df.groupBy(\"category\").count().show()"
      ],
      "metadata": {
        "colab": {
          "base_uri": "https://localhost:8080/"
        },
        "id": "ktNvL4nSMTTI",
        "outputId": "e84deafa-73b5-48fc-b19c-a8ff31623fec"
      },
      "execution_count": 16,
      "outputs": [
        {
          "output_type": "stream",
          "name": "stdout",
          "text": [
            "+----------------+-----+\n",
            "|        category|count|\n",
            "+----------------+-----+\n",
            "|         Urology|  110|\n",
            "|       Neurology|  141|\n",
            "|      Orthopedic|  222|\n",
            "|Gastroenterology|  157|\n",
            "|       Radiology|  188|\n",
            "+----------------+-----+\n",
            "\n"
          ]
        }
      ]
    },
    {
      "cell_type": "code",
      "source": [
        "!wget https://raw.githubusercontent.com/kavgan/clinical-concepts/master/clinical-stopwords.txt\n",
        "\n",
        "# Since we will build a model with clinical data, clinical stop words data was used instead of general stopwords data."
      ],
      "metadata": {
        "id": "mXfdNOFuJaKU",
        "colab": {
          "base_uri": "https://localhost:8080/"
        },
        "outputId": "105d02e3-0331-48bf-f776-0fa7b5100680"
      },
      "execution_count": 8,
      "outputs": [
        {
          "output_type": "stream",
          "name": "stdout",
          "text": [
            "--2022-01-24 01:06:42--  https://raw.githubusercontent.com/kavgan/clinical-concepts/master/clinical-stopwords.txt\n",
            "Resolving raw.githubusercontent.com (raw.githubusercontent.com)... 185.199.108.133, 185.199.109.133, 185.199.110.133, ...\n",
            "Connecting to raw.githubusercontent.com (raw.githubusercontent.com)|185.199.108.133|:443... connected.\n",
            "HTTP request sent, awaiting response... 200 OK\n",
            "Length: 6582 (6.4K) [text/plain]\n",
            "Saving to: ‘clinical-stopwords.txt’\n",
            "\n",
            "\rclinical-stopwords.   0%[                    ]       0  --.-KB/s               \rclinical-stopwords. 100%[===================>]   6.43K  --.-KB/s    in 0s      \n",
            "\n",
            "2022-01-24 01:06:42 (69.6 MB/s) - ‘clinical-stopwords.txt’ saved [6582/6582]\n",
            "\n"
          ]
        }
      ]
    },
    {
      "cell_type": "code",
      "source": [
        "with open ('clinical-stopwords.txt', 'r') as f:\n",
        "    stops = f.readlines()"
      ],
      "metadata": {
        "id": "9krIsdyOJi7y"
      },
      "execution_count": 9,
      "outputs": []
    },
    {
      "cell_type": "markdown",
      "source": [
        "# Model with Count Vectorizer + LogReg"
      ],
      "metadata": {
        "id": "t8aLu7Rk_gG4"
      }
    },
    {
      "cell_type": "code",
      "source": [
        "documentAssembler = DocumentAssembler() \\\n",
        "    .setInputCol(\"text\")\\\n",
        "    .setOutputCol(\"document\")\\\n",
        "\n",
        "tokenizer = Tokenizer()\\\n",
        "    .setInputCols([\"document\"])\\\n",
        "    .setOutputCol(\"token\")\n",
        "\n",
        "normalizer = Normalizer() \\\n",
        "    .setInputCols([\"token\"]) \\\n",
        "    .setOutputCol(\"normalized\")\\\n",
        "    .setCleanupPatterns([\"[^\\w\\d\\s]\"])\n",
        "\n",
        "stopwords_cleaner = StopWordsCleaner()\\\n",
        "    .setInputCols(\"normalized\")\\\n",
        "    .setOutputCol(\"cleanTokens\")\\\n",
        "    .setStopWords(stops)\\\n",
        "    .setCaseSensitive(False)\n",
        "\n",
        "lemmatizer = LemmatizerModel.pretrained(\"lemma_antbnc\") \\\n",
        "    .setInputCols([\"cleanTokens\"]) \\\n",
        "    .setOutputCol(\"lemma\")\n",
        "\n",
        "finisher = Finisher() \\\n",
        "    .setInputCols([\"lemma\"]) \\\n",
        "    .setOutputCols([\"token_features\"]) \\\n",
        "    .setOutputAsArray(True) \\\n",
        "    .setCleanAnnotations(False)\n",
        "\n",
        "countVectors = CountVectorizer(inputCol=\"token_features\", outputCol=\"features\", vocabSize=10000, minDF=5)\n",
        "\n",
        "label_stringIdx = StringIndexer(inputCol = \"category\", outputCol = \"label\")\n",
        "\n",
        "nlpPipeline = Pipeline(stages=[\n",
        "            documentAssembler,\n",
        "            tokenizer,\n",
        "            normalizer,\n",
        "            stopwords_cleaner,\n",
        "            lemmatizer,\n",
        "            finisher,\n",
        "            countVectors,\n",
        "            label_stringIdx\n",
        "            ])\n"
      ],
      "metadata": {
        "id": "9C8kJzU2TAjW",
        "colab": {
          "base_uri": "https://localhost:8080/"
        },
        "outputId": "bf200db7-b831-499e-f205-4b87daced8fb"
      },
      "execution_count": 10,
      "outputs": [
        {
          "output_type": "stream",
          "name": "stdout",
          "text": [
            "lemma_antbnc download started this may take some time.\n",
            "Approximate size to download 907.6 KB\n",
            "[OK!]\n"
          ]
        }
      ]
    },
    {
      "cell_type": "code",
      "source": [
        "nlp_model = nlpPipeline.fit(spark_df)\n",
        "\n",
        "processed_cv = nlp_model.transform(spark_df)\n",
        "\n",
        "processed_cv.count()"
      ],
      "metadata": {
        "colab": {
          "base_uri": "https://localhost:8080/"
        },
        "id": "sqdB4S-xbXJ2",
        "outputId": "2ae9cf9e-1d61-4df7-99f2-eece7f23405e"
      },
      "execution_count": 17,
      "outputs": [
        {
          "output_type": "execute_result",
          "data": {
            "text/plain": [
              "818"
            ]
          },
          "metadata": {},
          "execution_count": 17
        }
      ]
    },
    {
      "cell_type": "code",
      "source": [
        "processed_cv.select(\"features\",\"label\",\"category\").show(truncate = 80)"
      ],
      "metadata": {
        "id": "z5gLhZQ-WICt",
        "colab": {
          "base_uri": "https://localhost:8080/"
        },
        "outputId": "f1e236ce-6f38-4ef4-cb5e-1e22846466ee"
      },
      "execution_count": 18,
      "outputs": [
        {
          "output_type": "stream",
          "name": "stdout",
          "text": [
            "+--------------------------------------------------------------------------------+-----+----------+\n",
            "|                                                                        features|label|  category|\n",
            "+--------------------------------------------------------------------------------+-----+----------+\n",
            "|(4848,[0,1,2,3,4,6,7,8,12,13,15,16,17,20,21,25,27,28,32,33,35,36,45,47,48,50,...|  0.0|Orthopedic|\n",
            "|(4848,[0,1,2,3,4,5,6,7,8,9,10,11,12,13,14,15,16,17,20,21,22,25,27,28,29,30,31...|  0.0|Orthopedic|\n",
            "|(4848,[0,1,2,3,4,5,6,7,8,10,12,13,16,20,23,24,25,27,28,29,30,31,32,34,37,43,4...|  0.0|Orthopedic|\n",
            "|(4848,[0,1,2,3,4,5,6,7,8,9,10,12,13,14,16,17,18,19,20,23,24,25,26,28,29,30,31...|  0.0|Orthopedic|\n",
            "|(4848,[0,1,2,3,4,5,6,7,8,9,10,12,13,14,15,16,17,19,20,22,23,25,26,27,28,29,30...|  0.0|Orthopedic|\n",
            "|(4848,[0,1,2,3,4,5,6,7,8,9,10,11,12,13,15,16,18,19,20,21,23,25,27,28,29,30,32...|  0.0|Orthopedic|\n",
            "|(4848,[0,1,2,3,4,5,6,7,8,9,16,19,22,24,29,31,37,42,43,49,52,59,61,63,70,77,80...|  0.0|Orthopedic|\n",
            "|(4848,[0,1,2,3,4,5,6,7,8,9,10,12,13,14,15,16,17,18,19,22,23,25,26,27,28,32,33...|  0.0|Orthopedic|\n",
            "|(4848,[0,1,2,3,4,5,6,7,8,9,10,12,13,14,15,16,17,20,22,23,25,27,28,29,30,32,33...|  0.0|Orthopedic|\n",
            "|(4848,[0,1,2,3,4,5,6,7,8,9,10,12,15,27,31,36,38,42,50,51,53,56,64,65,67,71,75...|  0.0|Orthopedic|\n",
            "|(4848,[0,1,2,3,4,5,6,7,8,9,10,11,12,15,16,17,18,19,20,21,25,27,29,30,32,33,35...|  0.0|Orthopedic|\n",
            "|(4848,[0,1,2,3,4,5,6,7,8,9,10,12,13,14,15,16,17,19,20,22,23,24,25,26,27,28,30...|  0.0|Orthopedic|\n",
            "|(4848,[0,1,2,3,4,5,6,7,8,9,12,13,14,15,16,18,20,25,27,28,29,31,32,33,35,36,37...|  0.0|Orthopedic|\n",
            "|(4848,[0,1,2,3,4,5,6,7,8,9,10,12,13,14,15,16,17,18,19,20,25,27,28,29,31,32,33...|  0.0|Orthopedic|\n",
            "|(4848,[0,1,2,3,4,5,6,7,8,9,10,11,12,13,15,16,18,19,20,21,22,24,25,27,28,32,33...|  0.0|Orthopedic|\n",
            "|(4848,[0,1,2,3,4,5,6,7,8,9,10,12,13,14,15,16,17,19,20,22,23,24,26,27,28,29,30...|  0.0|Orthopedic|\n",
            "|(4848,[0,1,2,3,4,5,6,7,8,9,10,11,12,13,14,15,16,17,20,23,25,27,28,32,33,35,36...|  0.0|Orthopedic|\n",
            "|(4848,[0,1,2,3,4,5,6,7,8,9,10,12,13,14,15,16,17,18,19,20,23,24,25,26,28,30,32...|  0.0|Orthopedic|\n",
            "|(4848,[0,1,2,3,4,5,6,7,8,9,10,12,13,14,16,17,20,23,25,26,27,28,29,30,32,33,34...|  0.0|Orthopedic|\n",
            "|(4848,[0,1,2,3,4,5,6,7,8,9,13,15,18,27,28,32,39,45,48,56,63,64,65,66,69,77,78...|  0.0|Orthopedic|\n",
            "+--------------------------------------------------------------------------------+-----+----------+\n",
            "only showing top 20 rows\n",
            "\n"
          ]
        }
      ]
    },
    {
      "cell_type": "code",
      "source": [
        "(trainingData, testData) = processed_cv.randomSplit([0.8, 0.2], seed = 42)\n",
        "\n",
        "trainingData.count()"
      ],
      "metadata": {
        "colab": {
          "base_uri": "https://localhost:8080/"
        },
        "id": "s7rjoTrzRfva",
        "outputId": "08c59f4d-0ef3-4027-f2d1-b80750e307e4"
      },
      "execution_count": 19,
      "outputs": [
        {
          "output_type": "execute_result",
          "data": {
            "text/plain": [
              "679"
            ]
          },
          "metadata": {},
          "execution_count": 19
        }
      ]
    },
    {
      "cell_type": "code",
      "source": [
        "testData.count()"
      ],
      "metadata": {
        "colab": {
          "base_uri": "https://localhost:8080/"
        },
        "id": "E9wA7FT1oQRI",
        "outputId": "69967497-e92a-4c5d-b602-af770898909b"
      },
      "execution_count": 20,
      "outputs": [
        {
          "output_type": "execute_result",
          "data": {
            "text/plain": [
              "139"
            ]
          },
          "metadata": {},
          "execution_count": 20
        }
      ]
    },
    {
      "cell_type": "code",
      "source": [
        "trainingData.groupBy(\"category\").count().show()"
      ],
      "metadata": {
        "id": "bpKkVNFD1pvP",
        "colab": {
          "base_uri": "https://localhost:8080/"
        },
        "outputId": "e20adf30-96b2-4e69-b830-e8596ff53b34"
      },
      "execution_count": 21,
      "outputs": [
        {
          "output_type": "stream",
          "name": "stdout",
          "text": [
            "+----------------+-----+\n",
            "|        category|count|\n",
            "+----------------+-----+\n",
            "|         Urology|   84|\n",
            "|       Neurology|  124|\n",
            "|      Orthopedic|  192|\n",
            "|Gastroenterology|  125|\n",
            "|       Radiology|  154|\n",
            "+----------------+-----+\n",
            "\n"
          ]
        }
      ]
    },
    {
      "cell_type": "code",
      "source": [
        "testData.groupBy(\"category\").count().show()"
      ],
      "metadata": {
        "id": "DwN54efg1pya",
        "colab": {
          "base_uri": "https://localhost:8080/"
        },
        "outputId": "531580a8-330e-47c9-e1ad-5b99c172fa25"
      },
      "execution_count": 22,
      "outputs": [
        {
          "output_type": "stream",
          "name": "stdout",
          "text": [
            "+----------------+-----+\n",
            "|        category|count|\n",
            "+----------------+-----+\n",
            "|         Urology|   26|\n",
            "|       Neurology|   17|\n",
            "|      Orthopedic|   30|\n",
            "|Gastroenterology|   32|\n",
            "|       Radiology|   34|\n",
            "+----------------+-----+\n",
            "\n"
          ]
        }
      ]
    },
    {
      "cell_type": "code",
      "source": [
        "lr = LogisticRegression(maxIter = 10, regParam=0.3)\n",
        "\n",
        "lrModel = lr.fit(trainingData)\n",
        "\n",
        "predictions_cv = lrModel.transform(testData)\n",
        "\n",
        "predictions_cv_train = lrModel.transform(trainingData)\n",
        "\n",
        "# To check the overfit-underfit status of our model, an estimate was also taken from the train data."
      ],
      "metadata": {
        "id": "wLDdi1z6uAE0"
      },
      "execution_count": 23,
      "outputs": []
    },
    {
      "cell_type": "code",
      "source": [
        "y_true = predictions_cv.select(\"label\")\n",
        "y_true = y_true.toPandas()\n",
        "\n",
        "y_pred = predictions_cv.select(\"prediction\")\n",
        "y_pred = y_pred.toPandas()\n",
        "\n",
        "print(classification_report(y_true.label, y_pred.prediction))\n",
        "print(accuracy_score(y_true.label, y_pred.prediction))"
      ],
      "metadata": {
        "id": "IyzU9A031p_t",
        "colab": {
          "base_uri": "https://localhost:8080/"
        },
        "outputId": "3ccb65d9-91f3-4279-ad2d-d1e30caa950b"
      },
      "execution_count": 24,
      "outputs": [
        {
          "output_type": "stream",
          "name": "stdout",
          "text": [
            "              precision    recall  f1-score   support\n",
            "\n",
            "         0.0       0.76      0.73      0.75        30\n",
            "         1.0       0.70      0.82      0.76        34\n",
            "         2.0       0.97      0.88      0.92        32\n",
            "         3.0       0.50      0.47      0.48        17\n",
            "         4.0       1.00      0.96      0.98        26\n",
            "\n",
            "    accuracy                           0.80       139\n",
            "   macro avg       0.78      0.77      0.78       139\n",
            "weighted avg       0.81      0.80      0.80       139\n",
            "\n",
            "0.7985611510791367\n"
          ]
        }
      ]
    },
    {
      "cell_type": "code",
      "source": [
        "predictions_cv.select(\"label\",\"category\").distinct().show()"
      ],
      "metadata": {
        "colab": {
          "base_uri": "https://localhost:8080/"
        },
        "id": "BWC_aO4tk-m2",
        "outputId": "14270a79-8398-4e36-8835-01eaf4ddb05b"
      },
      "execution_count": 25,
      "outputs": [
        {
          "output_type": "stream",
          "name": "stdout",
          "text": [
            "+-----+----------------+\n",
            "|label|        category|\n",
            "+-----+----------------+\n",
            "|  4.0|         Urology|\n",
            "|  0.0|      Orthopedic|\n",
            "|  1.0|       Radiology|\n",
            "|  3.0|       Neurology|\n",
            "|  2.0|Gastroenterology|\n",
            "+-----+----------------+\n",
            "\n"
          ]
        }
      ]
    },
    {
      "cell_type": "code",
      "source": [
        "preds_df = predictions_cv.select(\"label\").toPandas()\n",
        "\n",
        "preds = pd.DataFrame(confusion_matrix(list(y_true.label.astype(int)), list(y_pred.prediction.astype(int))), columns = np.unique(preds_df['label']), index =  np.unique(preds_df['label']))\n",
        "\n",
        "preds"
      ],
      "metadata": {
        "colab": {
          "base_uri": "https://localhost:8080/",
          "height": 206
        },
        "id": "bcvSD8WBt3kf",
        "outputId": "9dd393cd-e4ed-4258-f538-51d07c1f3fd2"
      },
      "execution_count": 26,
      "outputs": [
        {
          "output_type": "execute_result",
          "data": {
            "text/html": [
              "\n",
              "  <div id=\"df-2971fea9-c6f8-469b-9f95-25e233b12722\">\n",
              "    <div class=\"colab-df-container\">\n",
              "      <div>\n",
              "<style scoped>\n",
              "    .dataframe tbody tr th:only-of-type {\n",
              "        vertical-align: middle;\n",
              "    }\n",
              "\n",
              "    .dataframe tbody tr th {\n",
              "        vertical-align: top;\n",
              "    }\n",
              "\n",
              "    .dataframe thead th {\n",
              "        text-align: right;\n",
              "    }\n",
              "</style>\n",
              "<table border=\"1\" class=\"dataframe\">\n",
              "  <thead>\n",
              "    <tr style=\"text-align: right;\">\n",
              "      <th></th>\n",
              "      <th>0.0</th>\n",
              "      <th>1.0</th>\n",
              "      <th>2.0</th>\n",
              "      <th>3.0</th>\n",
              "      <th>4.0</th>\n",
              "    </tr>\n",
              "  </thead>\n",
              "  <tbody>\n",
              "    <tr>\n",
              "      <th>0.0</th>\n",
              "      <td>22</td>\n",
              "      <td>5</td>\n",
              "      <td>0</td>\n",
              "      <td>3</td>\n",
              "      <td>0</td>\n",
              "    </tr>\n",
              "    <tr>\n",
              "      <th>1.0</th>\n",
              "      <td>2</td>\n",
              "      <td>28</td>\n",
              "      <td>0</td>\n",
              "      <td>4</td>\n",
              "      <td>0</td>\n",
              "    </tr>\n",
              "    <tr>\n",
              "      <th>2.0</th>\n",
              "      <td>0</td>\n",
              "      <td>3</td>\n",
              "      <td>28</td>\n",
              "      <td>1</td>\n",
              "      <td>0</td>\n",
              "    </tr>\n",
              "    <tr>\n",
              "      <th>3.0</th>\n",
              "      <td>5</td>\n",
              "      <td>4</td>\n",
              "      <td>0</td>\n",
              "      <td>8</td>\n",
              "      <td>0</td>\n",
              "    </tr>\n",
              "    <tr>\n",
              "      <th>4.0</th>\n",
              "      <td>0</td>\n",
              "      <td>0</td>\n",
              "      <td>1</td>\n",
              "      <td>0</td>\n",
              "      <td>25</td>\n",
              "    </tr>\n",
              "  </tbody>\n",
              "</table>\n",
              "</div>\n",
              "      <button class=\"colab-df-convert\" onclick=\"convertToInteractive('df-2971fea9-c6f8-469b-9f95-25e233b12722')\"\n",
              "              title=\"Convert this dataframe to an interactive table.\"\n",
              "              style=\"display:none;\">\n",
              "        \n",
              "  <svg xmlns=\"http://www.w3.org/2000/svg\" height=\"24px\"viewBox=\"0 0 24 24\"\n",
              "       width=\"24px\">\n",
              "    <path d=\"M0 0h24v24H0V0z\" fill=\"none\"/>\n",
              "    <path d=\"M18.56 5.44l.94 2.06.94-2.06 2.06-.94-2.06-.94-.94-2.06-.94 2.06-2.06.94zm-11 1L8.5 8.5l.94-2.06 2.06-.94-2.06-.94L8.5 2.5l-.94 2.06-2.06.94zm10 10l.94 2.06.94-2.06 2.06-.94-2.06-.94-.94-2.06-.94 2.06-2.06.94z\"/><path d=\"M17.41 7.96l-1.37-1.37c-.4-.4-.92-.59-1.43-.59-.52 0-1.04.2-1.43.59L10.3 9.45l-7.72 7.72c-.78.78-.78 2.05 0 2.83L4 21.41c.39.39.9.59 1.41.59.51 0 1.02-.2 1.41-.59l7.78-7.78 2.81-2.81c.8-.78.8-2.07 0-2.86zM5.41 20L4 18.59l7.72-7.72 1.47 1.35L5.41 20z\"/>\n",
              "  </svg>\n",
              "      </button>\n",
              "      \n",
              "  <style>\n",
              "    .colab-df-container {\n",
              "      display:flex;\n",
              "      flex-wrap:wrap;\n",
              "      gap: 12px;\n",
              "    }\n",
              "\n",
              "    .colab-df-convert {\n",
              "      background-color: #E8F0FE;\n",
              "      border: none;\n",
              "      border-radius: 50%;\n",
              "      cursor: pointer;\n",
              "      display: none;\n",
              "      fill: #1967D2;\n",
              "      height: 32px;\n",
              "      padding: 0 0 0 0;\n",
              "      width: 32px;\n",
              "    }\n",
              "\n",
              "    .colab-df-convert:hover {\n",
              "      background-color: #E2EBFA;\n",
              "      box-shadow: 0px 1px 2px rgba(60, 64, 67, 0.3), 0px 1px 3px 1px rgba(60, 64, 67, 0.15);\n",
              "      fill: #174EA6;\n",
              "    }\n",
              "\n",
              "    [theme=dark] .colab-df-convert {\n",
              "      background-color: #3B4455;\n",
              "      fill: #D2E3FC;\n",
              "    }\n",
              "\n",
              "    [theme=dark] .colab-df-convert:hover {\n",
              "      background-color: #434B5C;\n",
              "      box-shadow: 0px 1px 3px 1px rgba(0, 0, 0, 0.15);\n",
              "      filter: drop-shadow(0px 1px 2px rgba(0, 0, 0, 0.3));\n",
              "      fill: #FFFFFF;\n",
              "    }\n",
              "  </style>\n",
              "\n",
              "      <script>\n",
              "        const buttonEl =\n",
              "          document.querySelector('#df-2971fea9-c6f8-469b-9f95-25e233b12722 button.colab-df-convert');\n",
              "        buttonEl.style.display =\n",
              "          google.colab.kernel.accessAllowed ? 'block' : 'none';\n",
              "\n",
              "        async function convertToInteractive(key) {\n",
              "          const element = document.querySelector('#df-2971fea9-c6f8-469b-9f95-25e233b12722');\n",
              "          const dataTable =\n",
              "            await google.colab.kernel.invokeFunction('convertToInteractive',\n",
              "                                                     [key], {});\n",
              "          if (!dataTable) return;\n",
              "\n",
              "          const docLinkHtml = 'Like what you see? Visit the ' +\n",
              "            '<a target=\"_blank\" href=https://colab.research.google.com/notebooks/data_table.ipynb>data table notebook</a>'\n",
              "            + ' to learn more about interactive tables.';\n",
              "          element.innerHTML = '';\n",
              "          dataTable['output_type'] = 'display_data';\n",
              "          await google.colab.output.renderOutput(dataTable, element);\n",
              "          const docLink = document.createElement('div');\n",
              "          docLink.innerHTML = docLinkHtml;\n",
              "          element.appendChild(docLink);\n",
              "        }\n",
              "      </script>\n",
              "    </div>\n",
              "  </div>\n",
              "  "
            ],
            "text/plain": [
              "     0.0  1.0  2.0  3.0  4.0\n",
              "0.0   22    5    0    3    0\n",
              "1.0    2   28    0    4    0\n",
              "2.0    0    3   28    1    0\n",
              "3.0    5    4    0    8    0\n",
              "4.0    0    0    1    0   25"
            ]
          },
          "metadata": {},
          "execution_count": 26
        }
      ]
    },
    {
      "cell_type": "code",
      "source": [
        "y_true = predictions_cv_train.select(\"label\")\n",
        "y_true = y_true.toPandas()\n",
        "\n",
        "y_pred = predictions_cv_train.select(\"prediction\")\n",
        "y_pred = y_pred.toPandas()\n",
        "\n",
        "print(classification_report(y_true.label, y_pred.prediction))\n",
        "print(accuracy_score(y_true.label, y_pred.prediction))"
      ],
      "metadata": {
        "colab": {
          "base_uri": "https://localhost:8080/"
        },
        "id": "TcXmxwi0lwxB",
        "outputId": "23fc134b-34e9-45bf-b677-d5395259f406"
      },
      "execution_count": 27,
      "outputs": [
        {
          "output_type": "stream",
          "name": "stdout",
          "text": [
            "              precision    recall  f1-score   support\n",
            "\n",
            "         0.0       0.98      0.93      0.96       192\n",
            "         1.0       0.77      0.86      0.81       154\n",
            "         2.0       0.99      0.93      0.96       125\n",
            "         3.0       0.83      0.84      0.84       124\n",
            "         4.0       1.00      0.98      0.99        84\n",
            "\n",
            "    accuracy                           0.90       679\n",
            "   macro avg       0.92      0.91      0.91       679\n",
            "weighted avg       0.91      0.90      0.91       679\n",
            "\n",
            "0.9042709867452136\n"
          ]
        }
      ]
    },
    {
      "cell_type": "markdown",
      "source": [
        "# Model with TF-IDF + LogReg"
      ],
      "metadata": {
        "id": "g5orm2p5_tEn"
      }
    },
    {
      "cell_type": "code",
      "source": [
        "hashingTF = HashingTF(inputCol=\"token_features\", outputCol=\"rawFeatures\", numFeatures=10000)\n",
        "\n",
        "idf = IDF(inputCol=\"rawFeatures\", outputCol=\"features\", minDocFreq=5)"
      ],
      "metadata": {
        "id": "zb1UKXKwtOUT"
      },
      "execution_count": 28,
      "outputs": []
    },
    {
      "cell_type": "code",
      "source": [
        "# Updated pipeline for TF-IDF\n",
        "nlpPipeline_tf = Pipeline(stages=[\n",
        "            documentAssembler,\n",
        "            tokenizer,\n",
        "            normalizer,\n",
        "            stopwords_cleaner,\n",
        "            lemmatizer,\n",
        "            finisher,\n",
        "            hashingTF,\n",
        "            idf,\n",
        "            label_stringIdx\n",
        "            ])"
      ],
      "metadata": {
        "id": "_rOlVcZd9SVA"
      },
      "execution_count": 29,
      "outputs": []
    },
    {
      "cell_type": "code",
      "source": [
        "nlp_model_tf = nlpPipeline_tf.fit(spark_df)\n",
        "\n",
        "processed_tf = nlp_model_tf.transform(spark_df)"
      ],
      "metadata": {
        "id": "5qpFbFzQHIRC"
      },
      "execution_count": 30,
      "outputs": []
    },
    {
      "cell_type": "code",
      "source": [
        "processed_tf.select(\"features\",\"label\",\"category\").show(truncate = 80)"
      ],
      "metadata": {
        "colab": {
          "base_uri": "https://localhost:8080/"
        },
        "id": "T6NJCnH8UY0A",
        "outputId": "1e1049ca-b716-4dd1-dc7b-514e76dd60fc"
      },
      "execution_count": 31,
      "outputs": [
        {
          "output_type": "stream",
          "name": "stdout",
          "text": [
            "+--------------------------------------------------------------------------------+-----+----------+\n",
            "|                                                                        features|label|  category|\n",
            "+--------------------------------------------------------------------------------+-----+----------+\n",
            "|(10000,[86,95,138,157,164,186,228,264,269,278,286,298,325,330,333,454,486,488...|  0.0|Orthopedic|\n",
            "|(10000,[47,63,86,120,130,138,157,164,174,178,195,255,258,266,284,298,303,422,...|  0.0|Orthopedic|\n",
            "|(10000,[7,57,78,86,222,316,354,374,387,415,427,488,515,527,563,690,739,790,79...|  0.0|Orthopedic|\n",
            "|(10000,[47,49,63,79,130,144,157,164,174,199,209,237,253,260,279,286,291,298,2...|  0.0|Orthopedic|\n",
            "|(10000,[95,122,130,131,157,165,266,278,286,328,330,343,358,368,453,488,494,50...|  0.0|Orthopedic|\n",
            "|(10000,[47,157,171,222,255,279,303,330,418,453,488,493,494,528,592,674,690,76...|  0.0|Orthopedic|\n",
            "|(10000,[1,95,164,255,263,264,303,309,343,361,488,546,563,624,648,690,804,940,...|  0.0|Orthopedic|\n",
            "|(10000,[39,57,109,157,174,206,221,222,284,353,387,463,488,494,502,585,648,690...|  0.0|Orthopedic|\n",
            "|(10000,[8,138,157,174,178,195,278,284,307,319,320,358,399,427,453,488,494,502...|  0.0|Orthopedic|\n",
            "|(10000,[69,95,157,278,343,454,488,494,502,532,804,935,1036,1086,1146,1182,118...|  0.0|Orthopedic|\n",
            "|(10000,[138,157,174,221,255,279,303,325,330,336,352,392,488,493,495,502,563,6...|  0.0|Orthopedic|\n",
            "|(10000,[15,30,57,86,95,130,157,164,195,206,222,253,255,387,391,399,422,453,45...|  0.0|Orthopedic|\n",
            "|(10000,[64,78,86,138,149,157,164,178,222,228,255,278,298,307,343,454,488,494,...|  0.0|Orthopedic|\n",
            "|(10000,[56,72,86,125,157,164,171,174,178,189,228,255,278,284,298,368,488,494,...|  0.0|Orthopedic|\n",
            "|(10000,[1,7,79,95,125,157,161,164,255,266,269,298,303,307,343,404,408,453,477...|  0.0|Orthopedic|\n",
            "|(10000,[60,86,157,165,270,294,352,364,387,488,527,690,698,700,743,800,804,808...|  0.0|Orthopedic|\n",
            "|(10000,[56,63,86,138,157,164,174,178,195,214,228,255,263,266,267,278,284,303,...|  0.0|Orthopedic|\n",
            "|(10000,[51,57,60,86,130,157,171,174,186,239,279,312,330,343,353,387,394,427,4...|  0.0|Orthopedic|\n",
            "|(10000,[57,70,72,86,130,164,166,174,178,222,228,255,278,284,296,307,353,443,4...|  0.0|Orthopedic|\n",
            "|(10000,[174,279,353,453,488,841,855,948,1049,1140,1195,1246,1334,1339,1588,17...|  0.0|Orthopedic|\n",
            "+--------------------------------------------------------------------------------+-----+----------+\n",
            "only showing top 20 rows\n",
            "\n"
          ]
        }
      ]
    },
    {
      "cell_type": "code",
      "source": [
        "(trainingData, testData) = processed_tf.randomSplit([0.8, 0.2], seed = 42)\n",
        "\n",
        "lrModel_tf = lr.fit(trainingData)\n",
        "\n",
        "predictions_tf = lrModel_tf.transform(testData)\n",
        "\n",
        "predictions_tf_train = lrModel_tf.transform(trainingData)"
      ],
      "metadata": {
        "id": "7y6AJOjbHIT6"
      },
      "execution_count": 32,
      "outputs": []
    },
    {
      "cell_type": "code",
      "source": [
        "y_true = predictions_tf.select(\"label\")\n",
        "y_true = y_true.toPandas()\n",
        "\n",
        "y_pred = predictions_tf.select(\"prediction\")\n",
        "y_pred = y_pred.toPandas()\n",
        "\n",
        "print(classification_report(y_true.label, y_pred.prediction))\n",
        "print(accuracy_score(y_true.label, y_pred.prediction))"
      ],
      "metadata": {
        "colab": {
          "base_uri": "https://localhost:8080/"
        },
        "id": "7DsfsB_fHIZR",
        "outputId": "85798580-b243-4ab8-bae2-a9f7c4541d8e"
      },
      "execution_count": 33,
      "outputs": [
        {
          "output_type": "stream",
          "name": "stdout",
          "text": [
            "              precision    recall  f1-score   support\n",
            "\n",
            "         0.0       0.76      0.73      0.75        30\n",
            "         1.0       0.68      0.82      0.75        34\n",
            "         2.0       0.97      0.91      0.94        32\n",
            "         3.0       0.60      0.53      0.56        17\n",
            "         4.0       1.00      0.92      0.96        26\n",
            "\n",
            "    accuracy                           0.81       139\n",
            "   macro avg       0.80      0.78      0.79       139\n",
            "weighted avg       0.81      0.81      0.81       139\n",
            "\n",
            "0.8057553956834532\n"
          ]
        }
      ]
    },
    {
      "cell_type": "code",
      "source": [
        "preds = pd.DataFrame(confusion_matrix(list(y_true.label.astype(int)), list(y_pred.prediction.astype(int))), columns = np.unique(preds_df['label']), index =  np.unique(preds_df['label']))\n",
        "\n",
        "preds"
      ],
      "metadata": {
        "colab": {
          "base_uri": "https://localhost:8080/",
          "height": 206
        },
        "id": "KHNlhmFTHIcN",
        "outputId": "05a187ba-662f-4925-9a77-c005fb0ecc11"
      },
      "execution_count": 34,
      "outputs": [
        {
          "output_type": "execute_result",
          "data": {
            "text/html": [
              "\n",
              "  <div id=\"df-8b9d8db3-7928-4f11-a5ca-272efeaa968a\">\n",
              "    <div class=\"colab-df-container\">\n",
              "      <div>\n",
              "<style scoped>\n",
              "    .dataframe tbody tr th:only-of-type {\n",
              "        vertical-align: middle;\n",
              "    }\n",
              "\n",
              "    .dataframe tbody tr th {\n",
              "        vertical-align: top;\n",
              "    }\n",
              "\n",
              "    .dataframe thead th {\n",
              "        text-align: right;\n",
              "    }\n",
              "</style>\n",
              "<table border=\"1\" class=\"dataframe\">\n",
              "  <thead>\n",
              "    <tr style=\"text-align: right;\">\n",
              "      <th></th>\n",
              "      <th>0.0</th>\n",
              "      <th>1.0</th>\n",
              "      <th>2.0</th>\n",
              "      <th>3.0</th>\n",
              "      <th>4.0</th>\n",
              "    </tr>\n",
              "  </thead>\n",
              "  <tbody>\n",
              "    <tr>\n",
              "      <th>0.0</th>\n",
              "      <td>22</td>\n",
              "      <td>6</td>\n",
              "      <td>0</td>\n",
              "      <td>2</td>\n",
              "      <td>0</td>\n",
              "    </tr>\n",
              "    <tr>\n",
              "      <th>1.0</th>\n",
              "      <td>2</td>\n",
              "      <td>28</td>\n",
              "      <td>0</td>\n",
              "      <td>4</td>\n",
              "      <td>0</td>\n",
              "    </tr>\n",
              "    <tr>\n",
              "      <th>2.0</th>\n",
              "      <td>0</td>\n",
              "      <td>3</td>\n",
              "      <td>29</td>\n",
              "      <td>0</td>\n",
              "      <td>0</td>\n",
              "    </tr>\n",
              "    <tr>\n",
              "      <th>3.0</th>\n",
              "      <td>4</td>\n",
              "      <td>4</td>\n",
              "      <td>0</td>\n",
              "      <td>9</td>\n",
              "      <td>0</td>\n",
              "    </tr>\n",
              "    <tr>\n",
              "      <th>4.0</th>\n",
              "      <td>1</td>\n",
              "      <td>0</td>\n",
              "      <td>1</td>\n",
              "      <td>0</td>\n",
              "      <td>24</td>\n",
              "    </tr>\n",
              "  </tbody>\n",
              "</table>\n",
              "</div>\n",
              "      <button class=\"colab-df-convert\" onclick=\"convertToInteractive('df-8b9d8db3-7928-4f11-a5ca-272efeaa968a')\"\n",
              "              title=\"Convert this dataframe to an interactive table.\"\n",
              "              style=\"display:none;\">\n",
              "        \n",
              "  <svg xmlns=\"http://www.w3.org/2000/svg\" height=\"24px\"viewBox=\"0 0 24 24\"\n",
              "       width=\"24px\">\n",
              "    <path d=\"M0 0h24v24H0V0z\" fill=\"none\"/>\n",
              "    <path d=\"M18.56 5.44l.94 2.06.94-2.06 2.06-.94-2.06-.94-.94-2.06-.94 2.06-2.06.94zm-11 1L8.5 8.5l.94-2.06 2.06-.94-2.06-.94L8.5 2.5l-.94 2.06-2.06.94zm10 10l.94 2.06.94-2.06 2.06-.94-2.06-.94-.94-2.06-.94 2.06-2.06.94z\"/><path d=\"M17.41 7.96l-1.37-1.37c-.4-.4-.92-.59-1.43-.59-.52 0-1.04.2-1.43.59L10.3 9.45l-7.72 7.72c-.78.78-.78 2.05 0 2.83L4 21.41c.39.39.9.59 1.41.59.51 0 1.02-.2 1.41-.59l7.78-7.78 2.81-2.81c.8-.78.8-2.07 0-2.86zM5.41 20L4 18.59l7.72-7.72 1.47 1.35L5.41 20z\"/>\n",
              "  </svg>\n",
              "      </button>\n",
              "      \n",
              "  <style>\n",
              "    .colab-df-container {\n",
              "      display:flex;\n",
              "      flex-wrap:wrap;\n",
              "      gap: 12px;\n",
              "    }\n",
              "\n",
              "    .colab-df-convert {\n",
              "      background-color: #E8F0FE;\n",
              "      border: none;\n",
              "      border-radius: 50%;\n",
              "      cursor: pointer;\n",
              "      display: none;\n",
              "      fill: #1967D2;\n",
              "      height: 32px;\n",
              "      padding: 0 0 0 0;\n",
              "      width: 32px;\n",
              "    }\n",
              "\n",
              "    .colab-df-convert:hover {\n",
              "      background-color: #E2EBFA;\n",
              "      box-shadow: 0px 1px 2px rgba(60, 64, 67, 0.3), 0px 1px 3px 1px rgba(60, 64, 67, 0.15);\n",
              "      fill: #174EA6;\n",
              "    }\n",
              "\n",
              "    [theme=dark] .colab-df-convert {\n",
              "      background-color: #3B4455;\n",
              "      fill: #D2E3FC;\n",
              "    }\n",
              "\n",
              "    [theme=dark] .colab-df-convert:hover {\n",
              "      background-color: #434B5C;\n",
              "      box-shadow: 0px 1px 3px 1px rgba(0, 0, 0, 0.15);\n",
              "      filter: drop-shadow(0px 1px 2px rgba(0, 0, 0, 0.3));\n",
              "      fill: #FFFFFF;\n",
              "    }\n",
              "  </style>\n",
              "\n",
              "      <script>\n",
              "        const buttonEl =\n",
              "          document.querySelector('#df-8b9d8db3-7928-4f11-a5ca-272efeaa968a button.colab-df-convert');\n",
              "        buttonEl.style.display =\n",
              "          google.colab.kernel.accessAllowed ? 'block' : 'none';\n",
              "\n",
              "        async function convertToInteractive(key) {\n",
              "          const element = document.querySelector('#df-8b9d8db3-7928-4f11-a5ca-272efeaa968a');\n",
              "          const dataTable =\n",
              "            await google.colab.kernel.invokeFunction('convertToInteractive',\n",
              "                                                     [key], {});\n",
              "          if (!dataTable) return;\n",
              "\n",
              "          const docLinkHtml = 'Like what you see? Visit the ' +\n",
              "            '<a target=\"_blank\" href=https://colab.research.google.com/notebooks/data_table.ipynb>data table notebook</a>'\n",
              "            + ' to learn more about interactive tables.';\n",
              "          element.innerHTML = '';\n",
              "          dataTable['output_type'] = 'display_data';\n",
              "          await google.colab.output.renderOutput(dataTable, element);\n",
              "          const docLink = document.createElement('div');\n",
              "          docLink.innerHTML = docLinkHtml;\n",
              "          element.appendChild(docLink);\n",
              "        }\n",
              "      </script>\n",
              "    </div>\n",
              "  </div>\n",
              "  "
            ],
            "text/plain": [
              "     0.0  1.0  2.0  3.0  4.0\n",
              "0.0   22    6    0    2    0\n",
              "1.0    2   28    0    4    0\n",
              "2.0    0    3   29    0    0\n",
              "3.0    4    4    0    9    0\n",
              "4.0    1    0    1    0   24"
            ]
          },
          "metadata": {},
          "execution_count": 34
        }
      ]
    },
    {
      "cell_type": "code",
      "source": [
        "y_true = predictions_tf_train.select(\"label\")\n",
        "y_true = y_true.toPandas()\n",
        "\n",
        "y_pred = predictions_tf_train.select(\"prediction\")\n",
        "y_pred = y_pred.toPandas()\n",
        "\n",
        "print(classification_report(y_true.label, y_pred.prediction))\n",
        "print(accuracy_score(y_true.label, y_pred.prediction))"
      ],
      "metadata": {
        "colab": {
          "base_uri": "https://localhost:8080/"
        },
        "id": "ScxqWpkZm_OL",
        "outputId": "d1cf1a71-b514-460f-db2e-356703d2f1f2"
      },
      "execution_count": 35,
      "outputs": [
        {
          "output_type": "stream",
          "name": "stdout",
          "text": [
            "              precision    recall  f1-score   support\n",
            "\n",
            "         0.0       0.96      0.95      0.96       192\n",
            "         1.0       0.80      0.79      0.80       154\n",
            "         2.0       0.97      0.95      0.96       125\n",
            "         3.0       0.82      0.86      0.84       124\n",
            "         4.0       0.99      0.99      0.99        84\n",
            "\n",
            "    accuracy                           0.90       679\n",
            "   macro avg       0.91      0.91      0.91       679\n",
            "weighted avg       0.91      0.90      0.90       679\n",
            "\n",
            "0.9042709867452136\n"
          ]
        }
      ]
    },
    {
      "cell_type": "markdown",
      "source": [
        "# Model with Clinical Embeddings + LogReg"
      ],
      "metadata": {
        "id": "QkzD6dfeQPWc"
      }
    },
    {
      "cell_type": "code",
      "source": [
        "clinical_embeddings = WordEmbeddingsModel.pretrained(\"embeddings_clinical\", \"en\", \"clinical/models\")\\\n",
        "    .setInputCols([\"document\", \"lemma\"])\\\n",
        "    .setOutputCol(\"embeddings\")\\\n",
        "    .setCaseSensitive(False)\n",
        "\n",
        "embeddingsSentence = SentenceEmbeddings() \\\n",
        "    .setInputCols([\"document\", \"embeddings\"]) \\\n",
        "    .setOutputCol(\"sentence_embeddings\") \\\n",
        "    .setPoolingStrategy(\"AVERAGE\")\n",
        "\n",
        "embeddings_finisher = EmbeddingsFinisher() \\\n",
        "    .setInputCols([\"sentence_embeddings\"]) \\\n",
        "    .setOutputCols([\"finished_sentence_embeddings\"]) \\\n",
        "    .setOutputAsVector(True)\\\n",
        "    .setCleanAnnotations(False)\n",
        "\n",
        "explodeVectors = SQLTransformer(statement=\n",
        "      \"SELECT EXPLODE(finished_sentence_embeddings) AS features, * FROM __THIS__\")\n",
        "\n",
        "nlp_pipeline_w2v = Pipeline(\n",
        "    stages=[documentAssembler,\n",
        "            tokenizer,\n",
        "            normalizer,\n",
        "            stopwords_cleaner,\n",
        "            lemmatizer,\n",
        "            clinical_embeddings,\n",
        "            embeddingsSentence,\n",
        "            embeddings_finisher,\n",
        "            explodeVectors,\n",
        "            label_stringIdx])\n",
        "\n",
        "nlp_model_w2v = nlp_pipeline_w2v.fit(spark_df)\n",
        "\n",
        "processed_w2v = nlp_model_w2v.transform(spark_df)\n"
      ],
      "metadata": {
        "colab": {
          "base_uri": "https://localhost:8080/"
        },
        "id": "rQVL9TUuHIe1",
        "outputId": "538f0904-2e18-4012-8566-fc3ef8422aad"
      },
      "execution_count": 36,
      "outputs": [
        {
          "output_type": "stream",
          "name": "stdout",
          "text": [
            "embeddings_clinical download started this may take some time.\n",
            "Approximate size to download 1.6 GB\n",
            "[OK!]\n"
          ]
        }
      ]
    },
    {
      "cell_type": "code",
      "source": [
        "(trainingData, testData) = processed_w2v.randomSplit([0.8, 0.2], seed = 42)"
      ],
      "metadata": {
        "id": "v-Q0xwu9HIj-"
      },
      "execution_count": 37,
      "outputs": []
    },
    {
      "cell_type": "code",
      "source": [
        "lr = LogisticRegression(maxIter=10, regParam=0.3)\n",
        "\n",
        "lrModel_w2v = lr.fit(trainingData)\n",
        "\n",
        "predictions_w2v = lrModel_w2v.transform(testData)\n",
        "\n",
        "predictions_w2v_train = lrModel_w2v.transform(trainingData)"
      ],
      "metadata": {
        "id": "hbOlm6D4HIny"
      },
      "execution_count": 38,
      "outputs": []
    },
    {
      "cell_type": "code",
      "source": [
        "y_true = predictions_w2v.select(\"label\")\n",
        "y_true = y_true.toPandas()\n",
        "\n",
        "y_pred = predictions_w2v.select(\"prediction\")\n",
        "y_pred = y_pred.toPandas()\n",
        "\n",
        "print(classification_report(y_true.label, y_pred.prediction))\n",
        "print(accuracy_score(y_true.label, y_pred.prediction))"
      ],
      "metadata": {
        "id": "4POHcP_rE1_f",
        "colab": {
          "base_uri": "https://localhost:8080/"
        },
        "outputId": "2eb7a470-a94a-499b-dfb4-dfb0317f395e"
      },
      "execution_count": 39,
      "outputs": [
        {
          "output_type": "stream",
          "name": "stdout",
          "text": [
            "              precision    recall  f1-score   support\n",
            "\n",
            "         0.0       0.82      0.94      0.87        33\n",
            "         1.0       0.90      0.47      0.62        38\n",
            "         2.0       0.75      0.83      0.79        29\n",
            "         3.0       0.46      0.65      0.54        17\n",
            "         4.0       0.64      0.73      0.68        22\n",
            "\n",
            "    accuracy                           0.72       139\n",
            "   macro avg       0.71      0.72      0.70       139\n",
            "weighted avg       0.75      0.72      0.71       139\n",
            "\n",
            "0.7194244604316546\n"
          ]
        }
      ]
    },
    {
      "cell_type": "code",
      "source": [
        "preds = pd.DataFrame(confusion_matrix(list(y_true.label.astype(int)), list(y_pred.prediction.astype(int))), columns = np.unique(preds_df['label']), index =  np.unique(preds_df['label']))\n",
        "\n",
        "preds"
      ],
      "metadata": {
        "id": "yxcpOZxff2-0",
        "colab": {
          "base_uri": "https://localhost:8080/",
          "height": 206
        },
        "outputId": "deb56bff-dd5f-4c8c-e09f-df02064826b2"
      },
      "execution_count": 40,
      "outputs": [
        {
          "output_type": "execute_result",
          "data": {
            "text/html": [
              "\n",
              "  <div id=\"df-6c5ceec5-36bd-44e8-b660-a20729edc891\">\n",
              "    <div class=\"colab-df-container\">\n",
              "      <div>\n",
              "<style scoped>\n",
              "    .dataframe tbody tr th:only-of-type {\n",
              "        vertical-align: middle;\n",
              "    }\n",
              "\n",
              "    .dataframe tbody tr th {\n",
              "        vertical-align: top;\n",
              "    }\n",
              "\n",
              "    .dataframe thead th {\n",
              "        text-align: right;\n",
              "    }\n",
              "</style>\n",
              "<table border=\"1\" class=\"dataframe\">\n",
              "  <thead>\n",
              "    <tr style=\"text-align: right;\">\n",
              "      <th></th>\n",
              "      <th>0.0</th>\n",
              "      <th>1.0</th>\n",
              "      <th>2.0</th>\n",
              "      <th>3.0</th>\n",
              "      <th>4.0</th>\n",
              "    </tr>\n",
              "  </thead>\n",
              "  <tbody>\n",
              "    <tr>\n",
              "      <th>0.0</th>\n",
              "      <td>31</td>\n",
              "      <td>0</td>\n",
              "      <td>0</td>\n",
              "      <td>2</td>\n",
              "      <td>0</td>\n",
              "    </tr>\n",
              "    <tr>\n",
              "      <th>1.0</th>\n",
              "      <td>5</td>\n",
              "      <td>18</td>\n",
              "      <td>3</td>\n",
              "      <td>11</td>\n",
              "      <td>1</td>\n",
              "    </tr>\n",
              "    <tr>\n",
              "      <th>2.0</th>\n",
              "      <td>0</td>\n",
              "      <td>0</td>\n",
              "      <td>24</td>\n",
              "      <td>0</td>\n",
              "      <td>5</td>\n",
              "    </tr>\n",
              "    <tr>\n",
              "      <th>3.0</th>\n",
              "      <td>1</td>\n",
              "      <td>2</td>\n",
              "      <td>0</td>\n",
              "      <td>11</td>\n",
              "      <td>3</td>\n",
              "    </tr>\n",
              "    <tr>\n",
              "      <th>4.0</th>\n",
              "      <td>1</td>\n",
              "      <td>0</td>\n",
              "      <td>5</td>\n",
              "      <td>0</td>\n",
              "      <td>16</td>\n",
              "    </tr>\n",
              "  </tbody>\n",
              "</table>\n",
              "</div>\n",
              "      <button class=\"colab-df-convert\" onclick=\"convertToInteractive('df-6c5ceec5-36bd-44e8-b660-a20729edc891')\"\n",
              "              title=\"Convert this dataframe to an interactive table.\"\n",
              "              style=\"display:none;\">\n",
              "        \n",
              "  <svg xmlns=\"http://www.w3.org/2000/svg\" height=\"24px\"viewBox=\"0 0 24 24\"\n",
              "       width=\"24px\">\n",
              "    <path d=\"M0 0h24v24H0V0z\" fill=\"none\"/>\n",
              "    <path d=\"M18.56 5.44l.94 2.06.94-2.06 2.06-.94-2.06-.94-.94-2.06-.94 2.06-2.06.94zm-11 1L8.5 8.5l.94-2.06 2.06-.94-2.06-.94L8.5 2.5l-.94 2.06-2.06.94zm10 10l.94 2.06.94-2.06 2.06-.94-2.06-.94-.94-2.06-.94 2.06-2.06.94z\"/><path d=\"M17.41 7.96l-1.37-1.37c-.4-.4-.92-.59-1.43-.59-.52 0-1.04.2-1.43.59L10.3 9.45l-7.72 7.72c-.78.78-.78 2.05 0 2.83L4 21.41c.39.39.9.59 1.41.59.51 0 1.02-.2 1.41-.59l7.78-7.78 2.81-2.81c.8-.78.8-2.07 0-2.86zM5.41 20L4 18.59l7.72-7.72 1.47 1.35L5.41 20z\"/>\n",
              "  </svg>\n",
              "      </button>\n",
              "      \n",
              "  <style>\n",
              "    .colab-df-container {\n",
              "      display:flex;\n",
              "      flex-wrap:wrap;\n",
              "      gap: 12px;\n",
              "    }\n",
              "\n",
              "    .colab-df-convert {\n",
              "      background-color: #E8F0FE;\n",
              "      border: none;\n",
              "      border-radius: 50%;\n",
              "      cursor: pointer;\n",
              "      display: none;\n",
              "      fill: #1967D2;\n",
              "      height: 32px;\n",
              "      padding: 0 0 0 0;\n",
              "      width: 32px;\n",
              "    }\n",
              "\n",
              "    .colab-df-convert:hover {\n",
              "      background-color: #E2EBFA;\n",
              "      box-shadow: 0px 1px 2px rgba(60, 64, 67, 0.3), 0px 1px 3px 1px rgba(60, 64, 67, 0.15);\n",
              "      fill: #174EA6;\n",
              "    }\n",
              "\n",
              "    [theme=dark] .colab-df-convert {\n",
              "      background-color: #3B4455;\n",
              "      fill: #D2E3FC;\n",
              "    }\n",
              "\n",
              "    [theme=dark] .colab-df-convert:hover {\n",
              "      background-color: #434B5C;\n",
              "      box-shadow: 0px 1px 3px 1px rgba(0, 0, 0, 0.15);\n",
              "      filter: drop-shadow(0px 1px 2px rgba(0, 0, 0, 0.3));\n",
              "      fill: #FFFFFF;\n",
              "    }\n",
              "  </style>\n",
              "\n",
              "      <script>\n",
              "        const buttonEl =\n",
              "          document.querySelector('#df-6c5ceec5-36bd-44e8-b660-a20729edc891 button.colab-df-convert');\n",
              "        buttonEl.style.display =\n",
              "          google.colab.kernel.accessAllowed ? 'block' : 'none';\n",
              "\n",
              "        async function convertToInteractive(key) {\n",
              "          const element = document.querySelector('#df-6c5ceec5-36bd-44e8-b660-a20729edc891');\n",
              "          const dataTable =\n",
              "            await google.colab.kernel.invokeFunction('convertToInteractive',\n",
              "                                                     [key], {});\n",
              "          if (!dataTable) return;\n",
              "\n",
              "          const docLinkHtml = 'Like what you see? Visit the ' +\n",
              "            '<a target=\"_blank\" href=https://colab.research.google.com/notebooks/data_table.ipynb>data table notebook</a>'\n",
              "            + ' to learn more about interactive tables.';\n",
              "          element.innerHTML = '';\n",
              "          dataTable['output_type'] = 'display_data';\n",
              "          await google.colab.output.renderOutput(dataTable, element);\n",
              "          const docLink = document.createElement('div');\n",
              "          docLink.innerHTML = docLinkHtml;\n",
              "          element.appendChild(docLink);\n",
              "        }\n",
              "      </script>\n",
              "    </div>\n",
              "  </div>\n",
              "  "
            ],
            "text/plain": [
              "     0.0  1.0  2.0  3.0  4.0\n",
              "0.0   31    0    0    2    0\n",
              "1.0    5   18    3   11    1\n",
              "2.0    0    0   24    0    5\n",
              "3.0    1    2    0   11    3\n",
              "4.0    1    0    5    0   16"
            ]
          },
          "metadata": {},
          "execution_count": 40
        }
      ]
    },
    {
      "cell_type": "code",
      "source": [
        "y_true = predictions_w2v_train.select(\"label\")\n",
        "y_true = y_true.toPandas()\n",
        "\n",
        "y_pred = predictions_w2v_train.select(\"prediction\")\n",
        "y_pred = y_pred.toPandas()\n",
        "\n",
        "print(classification_report(y_true.label, y_pred.prediction))\n",
        "print(accuracy_score(y_true.label, y_pred.prediction))"
      ],
      "metadata": {
        "colab": {
          "base_uri": "https://localhost:8080/"
        },
        "id": "AvyQ51uyrmve",
        "outputId": "0bdd3e91-a0f4-4502-b515-052c2465ef6c"
      },
      "execution_count": 41,
      "outputs": [
        {
          "output_type": "stream",
          "name": "stdout",
          "text": [
            "              precision    recall  f1-score   support\n",
            "\n",
            "         0.0       0.82      0.91      0.86       189\n",
            "         1.0       0.77      0.50      0.60       150\n",
            "         2.0       0.83      0.95      0.89       128\n",
            "         3.0       0.61      0.71      0.66       124\n",
            "         4.0       0.89      0.83      0.86        88\n",
            "\n",
            "    accuracy                           0.78       679\n",
            "   macro avg       0.78      0.78      0.77       679\n",
            "weighted avg       0.78      0.78      0.77       679\n",
            "\n",
            "0.7790868924889544\n"
          ]
        }
      ]
    },
    {
      "cell_type": "markdown",
      "source": [
        "# Model with Clinical Embeddings + ClassifierDL"
      ],
      "metadata": {
        "id": "BOwKwSh2OJJT"
      }
    },
    {
      "cell_type": "code",
      "source": [
        "classsifierdl = ClassifierDLApproach()\\\n",
        "  .setInputCols([\"sentence_embeddings\"])\\\n",
        "  .setOutputCol(\"class\")\\\n",
        "  .setLabelColumn(\"category\")\\\n",
        "  .setBatchSize(8)\\\n",
        "  .setMaxEpochs(200)\\\n",
        "  .setLr(0.003)\\\n",
        "  .setEnableOutputLogs(True)\n",
        "\n",
        "clf_pipeline = Pipeline(\n",
        "    stages=[documentAssembler, \n",
        "            tokenizer,\n",
        "            normalizer,\n",
        "            stopwords_cleaner, \n",
        "            lemmatizer, \n",
        "            clinical_embeddings,\n",
        "            embeddingsSentence,\n",
        "            classsifierdl])\n"
      ],
      "metadata": {
        "id": "2mykBprFOS4H"
      },
      "execution_count": 42,
      "outputs": []
    },
    {
      "cell_type": "code",
      "source": [
        "%%time\n",
        "\n",
        "clf_pipelineModel = clf_pipeline.fit(trainingData)\n",
        "\n",
        "preds_clf = clf_pipelineModel.transform(testData)"
      ],
      "metadata": {
        "colab": {
          "base_uri": "https://localhost:8080/"
        },
        "id": "zKt2aki_PfDx",
        "outputId": "59a06089-a598-417f-b446-0ba16ef85754"
      },
      "execution_count": 43,
      "outputs": [
        {
          "output_type": "stream",
          "name": "stdout",
          "text": [
            "CPU times: user 1.56 s, sys: 203 ms, total: 1.77 s\n",
            "Wall time: 4min 3s\n"
          ]
        }
      ]
    },
    {
      "cell_type": "code",
      "source": [
        "!cd ~/annotator_logs/ && ls -lt"
      ],
      "metadata": {
        "colab": {
          "base_uri": "https://localhost:8080/"
        },
        "id": "k2hlvADuLuiF",
        "outputId": "c580c765-97f7-4713-81eb-50f920e7db4e"
      },
      "execution_count": 44,
      "outputs": [
        {
          "output_type": "stream",
          "name": "stdout",
          "text": [
            "total 16\n",
            "-rw-r--r-- 1 root root 14274 Jan 24 01:30 ClassifierDLApproach_7ce988c38242.log\n"
          ]
        }
      ]
    },
    {
      "cell_type": "code",
      "source": [
        "!cat ~/annotator_logs/ClassifierDLApproach_7ce988c38242.log"
      ],
      "metadata": {
        "id": "mP0asugHLulv",
        "colab": {
          "base_uri": "https://localhost:8080/"
        },
        "outputId": "cc73ada0-b30e-4991-c0f0-04c9ad8959c9"
      },
      "execution_count": 45,
      "outputs": [
        {
          "output_type": "stream",
          "name": "stdout",
          "text": [
            "Training started - epochs: 200 - learning_rate: 0.003 - batch_size: 8 - training_examples: 679 - classes: 5\n",
            "Epoch 0/200 - 1.06s - loss: 133.55841 - acc: 0.269983 - batches: 85\n",
            "Epoch 1/200 - 0.64s - loss: 127.5862 - acc: 0.40391153 - batches: 85\n",
            "Epoch 2/200 - 0.66s - loss: 121.575554 - acc: 0.46938774 - batches: 85\n",
            "Epoch 3/200 - 0.65s - loss: 117.88572 - acc: 0.5616496 - batches: 85\n",
            "Epoch 4/200 - 0.71s - loss: 115.18629 - acc: 0.6048044 - batches: 85\n",
            "Epoch 5/200 - 0.63s - loss: 113.69715 - acc: 0.61075675 - batches: 85\n",
            "Epoch 6/200 - 0.56s - loss: 112.78897 - acc: 0.61819726 - batches: 85\n",
            "Epoch 7/200 - 0.62s - loss: 112.134186 - acc: 0.61968535 - batches: 85\n",
            "Epoch 8/200 - 0.60s - loss: 111.62992 - acc: 0.61968535 - batches: 85\n",
            "Epoch 9/200 - 0.63s - loss: 111.22677 - acc: 0.61968535 - batches: 85\n",
            "Epoch 10/200 - 0.58s - loss: 110.89424 - acc: 0.61968535 - batches: 85\n",
            "Epoch 11/200 - 0.60s - loss: 110.62036 - acc: 0.62117344 - batches: 85\n",
            "Epoch 12/200 - 0.59s - loss: 110.3809 - acc: 0.6241496 - batches: 85\n",
            "Epoch 13/200 - 0.58s - loss: 110.172874 - acc: 0.62712586 - batches: 85\n",
            "Epoch 14/200 - 0.61s - loss: 109.99285 - acc: 0.62712586 - batches: 85\n",
            "Epoch 15/200 - 0.60s - loss: 109.83754 - acc: 0.63010204 - batches: 85\n",
            "Epoch 16/200 - 0.78s - loss: 109.701996 - acc: 0.6360544 - batches: 85\n",
            "Epoch 17/200 - 0.78s - loss: 109.577965 - acc: 0.6345663 - batches: 85\n",
            "Epoch 18/200 - 0.74s - loss: 109.467476 - acc: 0.6345663 - batches: 85\n",
            "Epoch 19/200 - 0.59s - loss: 109.36392 - acc: 0.6360544 - batches: 85\n",
            "Epoch 20/200 - 0.59s - loss: 109.26718 - acc: 0.64073133 - batches: 85\n",
            "Epoch 21/200 - 0.58s - loss: 109.17799 - acc: 0.64073133 - batches: 85\n",
            "Epoch 22/200 - 0.58s - loss: 109.09786 - acc: 0.6422194 - batches: 85\n",
            "Epoch 23/200 - 0.60s - loss: 109.02319 - acc: 0.64073133 - batches: 85\n",
            "Epoch 24/200 - 0.57s - loss: 108.9536 - acc: 0.6422194 - batches: 85\n",
            "Epoch 25/200 - 0.59s - loss: 108.88988 - acc: 0.6451956 - batches: 85\n",
            "Epoch 26/200 - 0.59s - loss: 108.829056 - acc: 0.6451956 - batches: 85\n",
            "Epoch 27/200 - 0.58s - loss: 108.77224 - acc: 0.6466837 - batches: 85\n",
            "Epoch 28/200 - 0.56s - loss: 108.719284 - acc: 0.6481718 - batches: 85\n",
            "Epoch 29/200 - 0.56s - loss: 108.66792 - acc: 0.6496599 - batches: 85\n",
            "Epoch 30/200 - 0.57s - loss: 108.61848 - acc: 0.6481718 - batches: 85\n",
            "Epoch 31/200 - 0.56s - loss: 108.56843 - acc: 0.6481718 - batches: 85\n",
            "Epoch 32/200 - 0.62s - loss: 108.518776 - acc: 0.6496599 - batches: 85\n",
            "Epoch 33/200 - 0.57s - loss: 108.473854 - acc: 0.6496599 - batches: 85\n",
            "Epoch 34/200 - 0.56s - loss: 108.431496 - acc: 0.6496599 - batches: 85\n",
            "Epoch 35/200 - 0.56s - loss: 108.392044 - acc: 0.6496599 - batches: 85\n",
            "Epoch 36/200 - 0.57s - loss: 108.35413 - acc: 0.6481718 - batches: 85\n",
            "Epoch 37/200 - 0.59s - loss: 108.31788 - acc: 0.6481718 - batches: 85\n",
            "Epoch 38/200 - 0.63s - loss: 108.28314 - acc: 0.6496599 - batches: 85\n",
            "Epoch 39/200 - 0.59s - loss: 108.24867 - acc: 0.65263605 - batches: 85\n",
            "Epoch 40/200 - 0.55s - loss: 108.21597 - acc: 0.6556123 - batches: 85\n",
            "Epoch 41/200 - 0.58s - loss: 108.18455 - acc: 0.6571004 - batches: 85\n",
            "Epoch 42/200 - 0.56s - loss: 108.15435 - acc: 0.6571004 - batches: 85\n",
            "Epoch 43/200 - 0.58s - loss: 108.12574 - acc: 0.6571004 - batches: 85\n",
            "Epoch 44/200 - 0.63s - loss: 108.09741 - acc: 0.65858847 - batches: 85\n",
            "Epoch 45/200 - 0.56s - loss: 108.070526 - acc: 0.65858847 - batches: 85\n",
            "Epoch 46/200 - 0.58s - loss: 108.04432 - acc: 0.66007656 - batches: 85\n",
            "Epoch 47/200 - 0.65s - loss: 108.01863 - acc: 0.66156465 - batches: 85\n",
            "Epoch 48/200 - 0.59s - loss: 107.99362 - acc: 0.6645408 - batches: 85\n",
            "Epoch 49/200 - 0.57s - loss: 107.96882 - acc: 0.6645408 - batches: 85\n",
            "Epoch 50/200 - 0.58s - loss: 107.94454 - acc: 0.6645408 - batches: 85\n",
            "Epoch 51/200 - 0.59s - loss: 107.92157 - acc: 0.6645408 - batches: 85\n",
            "Epoch 52/200 - 0.58s - loss: 107.899055 - acc: 0.6645408 - batches: 85\n",
            "Epoch 53/200 - 0.58s - loss: 107.87697 - acc: 0.6660289 - batches: 85\n",
            "Epoch 54/200 - 0.58s - loss: 107.85515 - acc: 0.6660289 - batches: 85\n",
            "Epoch 55/200 - 0.56s - loss: 107.83415 - acc: 0.667517 - batches: 85\n",
            "Epoch 56/200 - 0.55s - loss: 107.81314 - acc: 0.667517 - batches: 85\n",
            "Epoch 57/200 - 0.57s - loss: 107.79281 - acc: 0.667517 - batches: 85\n",
            "Epoch 58/200 - 0.60s - loss: 107.773186 - acc: 0.667517 - batches: 85\n",
            "Epoch 59/200 - 0.61s - loss: 107.75358 - acc: 0.667517 - batches: 85\n",
            "Epoch 60/200 - 0.61s - loss: 107.734726 - acc: 0.667517 - batches: 85\n",
            "Epoch 61/200 - 0.58s - loss: 107.716225 - acc: 0.667517 - batches: 85\n",
            "Epoch 62/200 - 0.57s - loss: 107.69817 - acc: 0.667517 - batches: 85\n",
            "Epoch 63/200 - 0.75s - loss: 107.68044 - acc: 0.6690051 - batches: 85\n",
            "Epoch 64/200 - 0.60s - loss: 107.66296 - acc: 0.6690051 - batches: 85\n",
            "Epoch 65/200 - 0.58s - loss: 107.64607 - acc: 0.6690051 - batches: 85\n",
            "Epoch 66/200 - 0.58s - loss: 107.629395 - acc: 0.67049325 - batches: 85\n",
            "Epoch 67/200 - 0.58s - loss: 107.61302 - acc: 0.67049325 - batches: 85\n",
            "Epoch 68/200 - 0.61s - loss: 107.59714 - acc: 0.67049325 - batches: 85\n",
            "Epoch 69/200 - 0.60s - loss: 107.5815 - acc: 0.67049325 - batches: 85\n",
            "Epoch 70/200 - 0.58s - loss: 107.56589 - acc: 0.67049325 - batches: 85\n",
            "Epoch 71/200 - 0.59s - loss: 107.55074 - acc: 0.67049325 - batches: 85\n",
            "Epoch 72/200 - 0.57s - loss: 107.53584 - acc: 0.67049325 - batches: 85\n",
            "Epoch 73/200 - 0.57s - loss: 107.52149 - acc: 0.67049325 - batches: 85\n",
            "Epoch 74/200 - 0.56s - loss: 107.50698 - acc: 0.6690051 - batches: 85\n",
            "Epoch 75/200 - 0.60s - loss: 107.49308 - acc: 0.6690051 - batches: 85\n",
            "Epoch 76/200 - 0.61s - loss: 107.479164 - acc: 0.67049325 - batches: 85\n",
            "Epoch 77/200 - 0.59s - loss: 107.46542 - acc: 0.67049325 - batches: 85\n",
            "Epoch 78/200 - 0.60s - loss: 107.452255 - acc: 0.67049325 - batches: 85\n",
            "Epoch 79/200 - 0.60s - loss: 107.43884 - acc: 0.67049325 - batches: 85\n",
            "Epoch 80/200 - 0.57s - loss: 107.42623 - acc: 0.67049325 - batches: 85\n",
            "Epoch 81/200 - 0.59s - loss: 107.41347 - acc: 0.67049325 - batches: 85\n",
            "Epoch 82/200 - 0.57s - loss: 107.400894 - acc: 0.67049325 - batches: 85\n",
            "Epoch 83/200 - 0.58s - loss: 107.38872 - acc: 0.67049325 - batches: 85\n",
            "Epoch 84/200 - 0.56s - loss: 107.37643 - acc: 0.67049325 - batches: 85\n",
            "Epoch 85/200 - 0.56s - loss: 107.36443 - acc: 0.67049325 - batches: 85\n",
            "Epoch 86/200 - 0.58s - loss: 107.35262 - acc: 0.67049325 - batches: 85\n",
            "Epoch 87/200 - 0.57s - loss: 107.34118 - acc: 0.67049325 - batches: 85\n",
            "Epoch 88/200 - 0.56s - loss: 107.329506 - acc: 0.67049325 - batches: 85\n",
            "Epoch 89/200 - 0.59s - loss: 107.3182 - acc: 0.67049325 - batches: 85\n",
            "Epoch 90/200 - 0.58s - loss: 107.30689 - acc: 0.6690051 - batches: 85\n",
            "Epoch 91/200 - 0.56s - loss: 107.29615 - acc: 0.6690051 - batches: 85\n",
            "Epoch 92/200 - 0.57s - loss: 107.28515 - acc: 0.6690051 - batches: 85\n",
            "Epoch 93/200 - 0.57s - loss: 107.27447 - acc: 0.6690051 - batches: 85\n",
            "Epoch 94/200 - 0.56s - loss: 107.26394 - acc: 0.6690051 - batches: 85\n",
            "Epoch 95/200 - 0.57s - loss: 107.25355 - acc: 0.6690051 - batches: 85\n",
            "Epoch 96/200 - 0.57s - loss: 107.24313 - acc: 0.6690051 - batches: 85\n",
            "Epoch 97/200 - 0.58s - loss: 107.23322 - acc: 0.6690051 - batches: 85\n",
            "Epoch 98/200 - 0.57s - loss: 107.22298 - acc: 0.6690051 - batches: 85\n",
            "Epoch 99/200 - 0.58s - loss: 107.21324 - acc: 0.6690051 - batches: 85\n",
            "Epoch 100/200 - 0.57s - loss: 107.20327 - acc: 0.6690051 - batches: 85\n",
            "Epoch 101/200 - 0.58s - loss: 107.19367 - acc: 0.6690051 - batches: 85\n",
            "Epoch 102/200 - 0.57s - loss: 107.18407 - acc: 0.6690051 - batches: 85\n",
            "Epoch 103/200 - 0.58s - loss: 107.17481 - acc: 0.6690051 - batches: 85\n",
            "Epoch 104/200 - 0.58s - loss: 107.165375 - acc: 0.6690051 - batches: 85\n",
            "Epoch 105/200 - 0.56s - loss: 107.15623 - acc: 0.6690051 - batches: 85\n",
            "Epoch 106/200 - 0.59s - loss: 107.146935 - acc: 0.6690051 - batches: 85\n",
            "Epoch 107/200 - 0.58s - loss: 107.13796 - acc: 0.6690051 - batches: 85\n",
            "Epoch 108/200 - 0.57s - loss: 107.12905 - acc: 0.6690051 - batches: 85\n",
            "Epoch 109/200 - 0.57s - loss: 107.12017 - acc: 0.6690051 - batches: 85\n",
            "Epoch 110/200 - 0.59s - loss: 107.111534 - acc: 0.6690051 - batches: 85\n",
            "Epoch 111/200 - 0.58s - loss: 107.1028 - acc: 0.6690051 - batches: 85\n",
            "Epoch 112/200 - 0.56s - loss: 107.09419 - acc: 0.6690051 - batches: 85\n",
            "Epoch 113/200 - 0.57s - loss: 107.08577 - acc: 0.6690051 - batches: 85\n",
            "Epoch 114/200 - 0.56s - loss: 107.07719 - acc: 0.6690051 - batches: 85\n",
            "Epoch 115/200 - 0.57s - loss: 107.06901 - acc: 0.6690051 - batches: 85\n",
            "Epoch 116/200 - 0.57s - loss: 107.06064 - acc: 0.6690051 - batches: 85\n",
            "Epoch 117/200 - 0.56s - loss: 107.05247 - acc: 0.6690051 - batches: 85\n",
            "Epoch 118/200 - 0.58s - loss: 107.0445 - acc: 0.6690051 - batches: 85\n",
            "Epoch 119/200 - 0.57s - loss: 107.03664 - acc: 0.6690051 - batches: 85\n",
            "Epoch 120/200 - 0.59s - loss: 107.028824 - acc: 0.6690051 - batches: 85\n",
            "Epoch 121/200 - 0.56s - loss: 107.02103 - acc: 0.6690051 - batches: 85\n",
            "Epoch 122/200 - 0.57s - loss: 107.01338 - acc: 0.6690051 - batches: 85\n",
            "Epoch 123/200 - 0.57s - loss: 107.00572 - acc: 0.6690051 - batches: 85\n",
            "Epoch 124/200 - 0.59s - loss: 106.998344 - acc: 0.6690051 - batches: 85\n",
            "Epoch 125/200 - 0.61s - loss: 106.99078 - acc: 0.6690051 - batches: 85\n",
            "Epoch 126/200 - 0.57s - loss: 106.983475 - acc: 0.6690051 - batches: 85\n",
            "Epoch 127/200 - 0.59s - loss: 106.976105 - acc: 0.6690051 - batches: 85\n",
            "Epoch 128/200 - 0.59s - loss: 106.96878 - acc: 0.6690051 - batches: 85\n",
            "Epoch 129/200 - 0.57s - loss: 106.961525 - acc: 0.6690051 - batches: 85\n",
            "Epoch 130/200 - 0.58s - loss: 106.95439 - acc: 0.6690051 - batches: 85\n",
            "Epoch 131/200 - 0.57s - loss: 106.94716 - acc: 0.6690051 - batches: 85\n",
            "Epoch 132/200 - 0.56s - loss: 106.94012 - acc: 0.6690051 - batches: 85\n",
            "Epoch 133/200 - 0.56s - loss: 106.933136 - acc: 0.6690051 - batches: 85\n",
            "Epoch 134/200 - 0.56s - loss: 106.92632 - acc: 0.6690051 - batches: 85\n",
            "Epoch 135/200 - 0.57s - loss: 106.91952 - acc: 0.6690051 - batches: 85\n",
            "Epoch 136/200 - 0.58s - loss: 106.91288 - acc: 0.667517 - batches: 85\n",
            "Epoch 137/200 - 0.57s - loss: 106.905975 - acc: 0.667517 - batches: 85\n",
            "Epoch 138/200 - 0.57s - loss: 106.89947 - acc: 0.667517 - batches: 85\n",
            "Epoch 139/200 - 0.57s - loss: 106.8927 - acc: 0.6660289 - batches: 85\n",
            "Epoch 140/200 - 0.58s - loss: 106.88626 - acc: 0.667517 - batches: 85\n",
            "Epoch 141/200 - 0.57s - loss: 106.87969 - acc: 0.667517 - batches: 85\n",
            "Epoch 142/200 - 0.58s - loss: 106.8732 - acc: 0.667517 - batches: 85\n",
            "Epoch 143/200 - 0.58s - loss: 106.86692 - acc: 0.6690051 - batches: 85\n",
            "Epoch 144/200 - 0.56s - loss: 106.86048 - acc: 0.6690051 - batches: 85\n",
            "Epoch 145/200 - 0.58s - loss: 106.854324 - acc: 0.6690051 - batches: 85\n",
            "Epoch 146/200 - 0.58s - loss: 106.84795 - acc: 0.6690051 - batches: 85\n",
            "Epoch 147/200 - 0.57s - loss: 106.84174 - acc: 0.6690051 - batches: 85\n",
            "Epoch 148/200 - 0.57s - loss: 106.83564 - acc: 0.6690051 - batches: 85\n",
            "Epoch 149/200 - 0.56s - loss: 106.82952 - acc: 0.6690051 - batches: 85\n",
            "Epoch 150/200 - 0.55s - loss: 106.82348 - acc: 0.6690051 - batches: 85\n",
            "Epoch 151/200 - 0.58s - loss: 106.81751 - acc: 0.6690051 - batches: 85\n",
            "Epoch 152/200 - 0.56s - loss: 106.81148 - acc: 0.6690051 - batches: 85\n",
            "Epoch 153/200 - 0.57s - loss: 106.80577 - acc: 0.6690051 - batches: 85\n",
            "Epoch 154/200 - 0.57s - loss: 106.799706 - acc: 0.6690051 - batches: 85\n",
            "Epoch 155/200 - 0.58s - loss: 106.79404 - acc: 0.6690051 - batches: 85\n",
            "Epoch 156/200 - 0.58s - loss: 106.78814 - acc: 0.6690051 - batches: 85\n",
            "Epoch 157/200 - 0.55s - loss: 106.78242 - acc: 0.6690051 - batches: 85\n",
            "Epoch 158/200 - 0.59s - loss: 106.776695 - acc: 0.6690051 - batches: 85\n",
            "Epoch 159/200 - 0.57s - loss: 106.77112 - acc: 0.6690051 - batches: 85\n",
            "Epoch 160/200 - 0.56s - loss: 106.765495 - acc: 0.6690051 - batches: 85\n",
            "Epoch 161/200 - 0.62s - loss: 106.759926 - acc: 0.6690051 - batches: 85\n",
            "Epoch 162/200 - 0.61s - loss: 106.75438 - acc: 0.67049325 - batches: 85\n",
            "Epoch 163/200 - 0.62s - loss: 106.74889 - acc: 0.67198133 - batches: 85\n",
            "Epoch 164/200 - 0.59s - loss: 106.743454 - acc: 0.67198133 - batches: 85\n",
            "Epoch 165/200 - 0.60s - loss: 106.73806 - acc: 0.67198133 - batches: 85\n",
            "Epoch 166/200 - 0.59s - loss: 106.73269 - acc: 0.67198133 - batches: 85\n",
            "Epoch 167/200 - 0.62s - loss: 106.72734 - acc: 0.67198133 - batches: 85\n",
            "Epoch 168/200 - 0.59s - loss: 106.72208 - acc: 0.67198133 - batches: 85\n",
            "Epoch 169/200 - 0.55s - loss: 106.71683 - acc: 0.67198133 - batches: 85\n",
            "Epoch 170/200 - 0.58s - loss: 106.711624 - acc: 0.67198133 - batches: 85\n",
            "Epoch 171/200 - 0.57s - loss: 106.70632 - acc: 0.67198133 - batches: 85\n",
            "Epoch 172/200 - 0.59s - loss: 106.701225 - acc: 0.6734694 - batches: 85\n",
            "Epoch 173/200 - 0.58s - loss: 106.69605 - acc: 0.6734694 - batches: 85\n",
            "Epoch 174/200 - 0.55s - loss: 106.69112 - acc: 0.6734694 - batches: 85\n",
            "Epoch 175/200 - 0.56s - loss: 106.68598 - acc: 0.6734694 - batches: 85\n",
            "Epoch 176/200 - 0.57s - loss: 106.68101 - acc: 0.6734694 - batches: 85\n",
            "Epoch 177/200 - 0.57s - loss: 106.676094 - acc: 0.6734694 - batches: 85\n",
            "Epoch 178/200 - 0.57s - loss: 106.67108 - acc: 0.6734694 - batches: 85\n",
            "Epoch 179/200 - 0.57s - loss: 106.66624 - acc: 0.6734694 - batches: 85\n",
            "Epoch 180/200 - 0.58s - loss: 106.66137 - acc: 0.6734694 - batches: 85\n",
            "Epoch 181/200 - 0.57s - loss: 106.65653 - acc: 0.6734694 - batches: 85\n",
            "Epoch 182/200 - 0.60s - loss: 106.65166 - acc: 0.6734694 - batches: 85\n",
            "Epoch 183/200 - 0.55s - loss: 106.647026 - acc: 0.6734694 - batches: 85\n",
            "Epoch 184/200 - 0.57s - loss: 106.642204 - acc: 0.6734694 - batches: 85\n",
            "Epoch 185/200 - 0.56s - loss: 106.637474 - acc: 0.6734694 - batches: 85\n",
            "Epoch 186/200 - 0.57s - loss: 106.63288 - acc: 0.6734694 - batches: 85\n",
            "Epoch 187/200 - 0.57s - loss: 106.62826 - acc: 0.6734694 - batches: 85\n",
            "Epoch 188/200 - 0.58s - loss: 106.623535 - acc: 0.6734694 - batches: 85\n",
            "Epoch 189/200 - 0.58s - loss: 106.618965 - acc: 0.6734694 - batches: 85\n",
            "Epoch 190/200 - 0.56s - loss: 106.614265 - acc: 0.6734694 - batches: 85\n",
            "Epoch 191/200 - 0.57s - loss: 106.60984 - acc: 0.6734694 - batches: 85\n",
            "Epoch 192/200 - 0.56s - loss: 106.60519 - acc: 0.6734694 - batches: 85\n",
            "Epoch 193/200 - 0.58s - loss: 106.60077 - acc: 0.6734694 - batches: 85\n",
            "Epoch 194/200 - 0.57s - loss: 106.5962 - acc: 0.6734694 - batches: 85\n",
            "Epoch 195/200 - 0.57s - loss: 106.59164 - acc: 0.6734694 - batches: 85\n",
            "Epoch 196/200 - 0.58s - loss: 106.587204 - acc: 0.6734694 - batches: 85\n",
            "Epoch 197/200 - 0.58s - loss: 106.582634 - acc: 0.6734694 - batches: 85\n",
            "Epoch 198/200 - 0.57s - loss: 106.57828 - acc: 0.6734694 - batches: 85\n",
            "Epoch 199/200 - 0.55s - loss: 106.57389 - acc: 0.6734694 - batches: 85\n"
          ]
        }
      ]
    },
    {
      "cell_type": "code",
      "source": [
        "preds_df = preds_clf.select(\"category\",\"text\",\"class.result\").toPandas()\n",
        "\n",
        "preds_df[\"result\"] = preds_df[\"result\"].apply(lambda x : x[0])\n",
        "\n",
        "print (classification_report(preds_df[\"category\"], preds_df[\"result\"]))"
      ],
      "metadata": {
        "colab": {
          "base_uri": "https://localhost:8080/"
        },
        "id": "5gzw0fVwP1xx",
        "outputId": "cbd9ec88-226f-4138-dc73-8657233107fa"
      },
      "execution_count": 46,
      "outputs": [
        {
          "output_type": "stream",
          "name": "stdout",
          "text": [
            "                  precision    recall  f1-score   support\n",
            "\n",
            "Gastroenterology       0.59      0.83      0.69        29\n",
            "       Neurology       0.32      0.35      0.33        17\n",
            "      Orthopedic       0.73      0.91      0.81        33\n",
            "       Radiology       0.63      0.63      0.63        38\n",
            "         Urology       0.00      0.00      0.00        22\n",
            "\n",
            "        accuracy                           0.60       139\n",
            "       macro avg       0.45      0.54      0.49       139\n",
            "    weighted avg       0.51      0.60      0.55       139\n",
            "\n"
          ]
        }
      ]
    },
    {
      "cell_type": "markdown",
      "source": [
        "# ClassifierDL with BioBert Embeddings"
      ],
      "metadata": {
        "id": "o_NAHsJHumD8"
      }
    },
    {
      "cell_type": "code",
      "source": [
        "(trainingData, testData) = spark_df.randomSplit([0.8, 0.2], seed = 42)"
      ],
      "metadata": {
        "id": "M14lrxC954tx"
      },
      "execution_count": 14,
      "outputs": []
    },
    {
      "cell_type": "code",
      "source": [
        "bert_embeddings = BertEmbeddings.pretrained(\"biobert_pubmed_base_cased\", \"en\", \"public/models\")\\\n",
        "    .setInputCols([\"document\", \"lemma\"])\\\n",
        "    .setOutputCol(\"embeddings\")\\\n",
        "\n",
        "embeddingsSentence = SentenceEmbeddings() \\\n",
        "    .setInputCols([\"document\", \"embeddings\"]) \\\n",
        "    .setOutputCol(\"sentence_embeddings\") \\\n",
        "    .setPoolingStrategy(\"AVERAGE\")\n",
        "\n",
        "classifierdl = ClassifierDLApproach()\\\n",
        "    .setInputCols([\"sentence_embeddings\"])\\\n",
        "    .setOutputCol(\"class\")\\\n",
        "    .setLabelColumn(\"category\")\\\n",
        "    .setBatchSize(8)\\\n",
        "    .setMaxEpochs(64)\\\n",
        "    .setLr(0.003)\\\n",
        "    .setEnableOutputLogs(True)\n",
        "\n",
        "biobert_clf_pipeline = Pipeline(\n",
        "    stages = [\n",
        "        documentAssembler,\n",
        "        tokenizer,\n",
        "        normalizer,\n",
        "        stopwords_cleaner,\n",
        "        lemmatizer,\n",
        "        bert_embeddings,\n",
        "        embeddingsSentence,\n",
        "        embeddings_finisher,\n",
        "        explodeVectors,\n",
        "        classifierdl\n",
        "    ])"
      ],
      "metadata": {
        "colab": {
          "base_uri": "https://localhost:8080/"
        },
        "id": "Olta5bfknSID",
        "outputId": "44c78f98-8807-4e57-c8d8-34c62ca5a42e"
      },
      "execution_count": null,
      "outputs": [
        {
          "output_type": "stream",
          "name": "stdout",
          "text": [
            "biobert_pubmed_base_cased download started this may take some time.\n",
            "Approximate size to download 386.4 MB\n",
            "[OK!]\n"
          ]
        }
      ]
    },
    {
      "cell_type": "code",
      "source": [
        "%%time \n",
        "\n",
        "biobert_clf_model = biobert_clf_pipeline.fit(trainingData)"
      ],
      "metadata": {
        "colab": {
          "base_uri": "https://localhost:8080/"
        },
        "id": "I1nL7TVBplqN",
        "outputId": "9881acb1-9f56-436a-895e-64876e082573"
      },
      "execution_count": null,
      "outputs": [
        {
          "output_type": "stream",
          "name": "stdout",
          "text": [
            "CPU times: user 3.16 s, sys: 344 ms, total: 3.51 s\n",
            "Wall time: 8min 38s\n"
          ]
        }
      ]
    },
    {
      "cell_type": "code",
      "source": [
        "!cd ~/annotator_logs/ && ls -lt"
      ],
      "metadata": {
        "id": "KfrkMF7GpltM",
        "colab": {
          "base_uri": "https://localhost:8080/"
        },
        "outputId": "d2e83ae0-e8ff-42b3-e645-a9e9355548da"
      },
      "execution_count": null,
      "outputs": [
        {
          "output_type": "stream",
          "name": "stdout",
          "text": [
            "total 24\n",
            "-rw-r--r-- 1 root root  4565 Jan 21 21:58 ClassifierDLApproach_2c3e44ceb058.log\n",
            "-rw-r--r-- 1 root root 14276 Jan 21 21:37 ClassifierDLApproach_e9fd9d2c5aba.log\n"
          ]
        }
      ]
    },
    {
      "cell_type": "code",
      "source": [
        "!cat ~/annotator_logs/ClassifierDLApproach_2c3e44ceb058.log"
      ],
      "metadata": {
        "id": "UtqCUHb0plwX",
        "colab": {
          "base_uri": "https://localhost:8080/"
        },
        "outputId": "253204e5-cba3-4ad2-8ef9-912b985dbb9f"
      },
      "execution_count": null,
      "outputs": [
        {
          "output_type": "stream",
          "name": "stdout",
          "text": [
            "Training started - epochs: 64 - learning_rate: 0.003 - batch_size: 8 - training_examples: 679 - classes: 5\n",
            "Epoch 0/64 - 0.75s - loss: 136.97824 - acc: 0.23384354 - batches: 85\n",
            "Epoch 1/64 - 0.52s - loss: 136.95721 - acc: 0.28592688 - batches: 85\n",
            "Epoch 2/64 - 0.50s - loss: 136.95636 - acc: 0.28592688 - batches: 85\n",
            "Epoch 3/64 - 0.52s - loss: 137.02136 - acc: 0.28592688 - batches: 85\n",
            "Epoch 4/64 - 0.50s - loss: 137.02878 - acc: 0.28592688 - batches: 85\n",
            "Epoch 5/64 - 0.51s - loss: 137.02463 - acc: 0.28592688 - batches: 85\n",
            "Epoch 6/64 - 0.51s - loss: 137.0191 - acc: 0.28592688 - batches: 85\n",
            "Epoch 7/64 - 0.51s - loss: 137.01468 - acc: 0.28592688 - batches: 85\n",
            "Epoch 8/64 - 0.51s - loss: 137.01083 - acc: 0.28592688 - batches: 85\n",
            "Epoch 9/64 - 0.52s - loss: 137.00761 - acc: 0.28592688 - batches: 85\n",
            "Epoch 10/64 - 0.50s - loss: 137.00467 - acc: 0.28592688 - batches: 85\n",
            "Epoch 11/64 - 0.52s - loss: 137.00291 - acc: 0.28592688 - batches: 85\n",
            "Epoch 12/64 - 0.51s - loss: 137.00082 - acc: 0.28592688 - batches: 85\n",
            "Epoch 13/64 - 0.53s - loss: 136.99889 - acc: 0.28592688 - batches: 85\n",
            "Epoch 14/64 - 0.51s - loss: 136.9975 - acc: 0.28592688 - batches: 85\n",
            "Epoch 15/64 - 0.54s - loss: 136.99614 - acc: 0.28592688 - batches: 85\n",
            "Epoch 16/64 - 0.52s - loss: 136.99492 - acc: 0.28592688 - batches: 85\n",
            "Epoch 17/64 - 0.52s - loss: 136.99391 - acc: 0.28592688 - batches: 85\n",
            "Epoch 18/64 - 0.52s - loss: 136.993 - acc: 0.28592688 - batches: 85\n",
            "Epoch 19/64 - 0.51s - loss: 136.9922 - acc: 0.28592688 - batches: 85\n",
            "Epoch 20/64 - 0.53s - loss: 136.99155 - acc: 0.28592688 - batches: 85\n",
            "Epoch 21/64 - 0.52s - loss: 136.99094 - acc: 0.28592688 - batches: 85\n",
            "Epoch 22/64 - 0.51s - loss: 136.99022 - acc: 0.28592688 - batches: 85\n",
            "Epoch 23/64 - 0.51s - loss: 136.98972 - acc: 0.28592688 - batches: 85\n",
            "Epoch 24/64 - 0.52s - loss: 136.98923 - acc: 0.28592688 - batches: 85\n",
            "Epoch 25/64 - 0.52s - loss: 136.98883 - acc: 0.28592688 - batches: 85\n",
            "Epoch 26/64 - 0.53s - loss: 136.98839 - acc: 0.28592688 - batches: 85\n",
            "Epoch 27/64 - 0.52s - loss: 136.98808 - acc: 0.28592688 - batches: 85\n",
            "Epoch 28/64 - 0.51s - loss: 136.98778 - acc: 0.28592688 - batches: 85\n",
            "Epoch 29/64 - 0.51s - loss: 136.98753 - acc: 0.28592688 - batches: 85\n",
            "Epoch 30/64 - 0.51s - loss: 136.98724 - acc: 0.28592688 - batches: 85\n",
            "Epoch 31/64 - 0.51s - loss: 136.987 - acc: 0.28592688 - batches: 85\n",
            "Epoch 32/64 - 0.52s - loss: 136.98677 - acc: 0.28592688 - batches: 85\n",
            "Epoch 33/64 - 0.50s - loss: 136.9866 - acc: 0.28592688 - batches: 85\n",
            "Epoch 34/64 - 0.52s - loss: 136.98645 - acc: 0.28592688 - batches: 85\n",
            "Epoch 35/64 - 0.51s - loss: 136.98625 - acc: 0.28592688 - batches: 85\n",
            "Epoch 36/64 - 0.51s - loss: 136.98608 - acc: 0.28592688 - batches: 85\n",
            "Epoch 37/64 - 0.52s - loss: 136.9859 - acc: 0.28592688 - batches: 85\n",
            "Epoch 38/64 - 0.56s - loss: 136.98578 - acc: 0.28592688 - batches: 85\n",
            "Epoch 39/64 - 0.52s - loss: 136.98564 - acc: 0.28592688 - batches: 85\n",
            "Epoch 40/64 - 0.52s - loss: 136.98549 - acc: 0.28592688 - batches: 85\n",
            "Epoch 41/64 - 0.50s - loss: 136.9854 - acc: 0.28592688 - batches: 85\n",
            "Epoch 42/64 - 0.52s - loss: 136.98528 - acc: 0.28592688 - batches: 85\n",
            "Epoch 43/64 - 0.52s - loss: 136.98515 - acc: 0.28592688 - batches: 85\n",
            "Epoch 44/64 - 0.52s - loss: 136.98505 - acc: 0.28592688 - batches: 85\n",
            "Epoch 45/64 - 0.51s - loss: 136.98491 - acc: 0.28592688 - batches: 85\n",
            "Epoch 46/64 - 0.53s - loss: 136.98482 - acc: 0.28592688 - batches: 85\n",
            "Epoch 47/64 - 0.51s - loss: 136.98476 - acc: 0.28592688 - batches: 85\n",
            "Epoch 48/64 - 0.53s - loss: 136.98468 - acc: 0.28592688 - batches: 85\n",
            "Epoch 49/64 - 0.50s - loss: 136.9845 - acc: 0.28592688 - batches: 85\n",
            "Epoch 50/64 - 0.53s - loss: 136.98439 - acc: 0.28592688 - batches: 85\n",
            "Epoch 51/64 - 0.50s - loss: 136.98425 - acc: 0.28592688 - batches: 85\n",
            "Epoch 52/64 - 0.52s - loss: 136.98418 - acc: 0.28592688 - batches: 85\n",
            "Epoch 53/64 - 0.51s - loss: 136.98398 - acc: 0.28592688 - batches: 85\n",
            "Epoch 54/64 - 0.52s - loss: 136.98383 - acc: 0.28592688 - batches: 85\n",
            "Epoch 55/64 - 0.52s - loss: 136.98363 - acc: 0.28592688 - batches: 85\n",
            "Epoch 56/64 - 0.51s - loss: 136.98343 - acc: 0.28592688 - batches: 85\n",
            "Epoch 57/64 - 0.50s - loss: 136.98315 - acc: 0.28592688 - batches: 85\n",
            "Epoch 58/64 - 0.54s - loss: 136.98283 - acc: 0.28592688 - batches: 85\n",
            "Epoch 59/64 - 0.51s - loss: 136.98248 - acc: 0.28592688 - batches: 85\n",
            "Epoch 60/64 - 0.52s - loss: 136.98201 - acc: 0.28592688 - batches: 85\n",
            "Epoch 61/64 - 0.54s - loss: 136.98128 - acc: 0.28592688 - batches: 85\n",
            "Epoch 62/64 - 0.51s - loss: 136.98018 - acc: 0.28592688 - batches: 85\n",
            "Epoch 63/64 - 0.51s - loss: 136.9782 - acc: 0.28592688 - batches: 85\n"
          ]
        }
      ]
    },
    {
      "cell_type": "code",
      "source": [
        "preds = biobert_clf_model.transform(testData)\n",
        "\n",
        "preds_df = preds.select(\"category\",\"text\",\"class.result\").toPandas()\n",
        "\n",
        "preds_df['result'] = preds_df['result'].apply(lambda x : x[0])\n",
        "\n",
        "print (classification_report(preds_df['category'], preds_df['result']))"
      ],
      "metadata": {
        "colab": {
          "base_uri": "https://localhost:8080/"
        },
        "id": "deYB7A6Kplyv",
        "outputId": "13c45596-ae0c-4892-881a-95478133000e"
      },
      "execution_count": null,
      "outputs": [
        {
          "output_type": "stream",
          "name": "stdout",
          "text": [
            "                  precision    recall  f1-score   support\n",
            "\n",
            "Gastroenterology       0.00      0.00      0.00        32\n",
            "       Neurology       0.00      0.00      0.00        17\n",
            "      Orthopedic       0.22      1.00      0.36        30\n",
            "       Radiology       0.00      0.00      0.00        34\n",
            "         Urology       0.00      0.00      0.00        26\n",
            "\n",
            "        accuracy                           0.22       139\n",
            "       macro avg       0.04      0.20      0.07       139\n",
            "    weighted avg       0.05      0.22      0.08       139\n",
            "\n"
          ]
        }
      ]
    },
    {
      "cell_type": "markdown",
      "source": [
        "# ClassifierDL with Universal Sentence Embeddings\n"
      ],
      "metadata": {
        "id": "kWgL_KQFmOkK"
      }
    },
    {
      "cell_type": "code",
      "source": [
        "use = UniversalSentenceEncoder.pretrained()\\\n",
        "    .setInputCols([\"document\"])\\\n",
        "    .setOutputCol(\"sentence_embeddings\")\n",
        "\n",
        "classsifierdl = ClassifierDLApproach()\\\n",
        "    .setInputCols([\"sentence_embeddings\"])\\\n",
        "    .setOutputCol(\"class\")\\\n",
        "    .setLabelColumn(\"category\")\\\n",
        "    .setBatchSize(8)\\\n",
        "    .setMaxEpochs(300)\\\n",
        "    .setLr(0.003)\\\n",
        "    .setEnableOutputLogs(True)\\\n",
        "\n",
        "use_clf_pipeline = Pipeline(\n",
        "    stages = [\n",
        "        documentAssembler,\n",
        "        use,\n",
        "        classsifierdl\n",
        "    ])"
      ],
      "metadata": {
        "colab": {
          "base_uri": "https://localhost:8080/"
        },
        "id": "VJuZrOaZmQVT",
        "outputId": "0693862d-dbc4-4d1f-b004-e72010425fa5"
      },
      "execution_count": 47,
      "outputs": [
        {
          "output_type": "stream",
          "name": "stdout",
          "text": [
            "tfhub_use download started this may take some time.\n",
            "Approximate size to download 923.7 MB\n",
            "[OK!]\n"
          ]
        }
      ]
    },
    {
      "cell_type": "code",
      "source": [
        "%%time\n",
        "use_clf_pipelineModel = use_clf_pipeline.fit(trainingData)"
      ],
      "metadata": {
        "id": "qCqjRr3ise2G",
        "colab": {
          "base_uri": "https://localhost:8080/"
        },
        "outputId": "925082a1-de91-47ca-af87-1e152d75f9f1"
      },
      "execution_count": 50,
      "outputs": [
        {
          "output_type": "stream",
          "name": "stdout",
          "text": [
            "CPU times: user 1.56 s, sys: 180 ms, total: 1.74 s\n",
            "Wall time: 4min 48s\n"
          ]
        }
      ]
    },
    {
      "cell_type": "code",
      "source": [
        "!cd ~/annotator_logs/ && ls -lt"
      ],
      "metadata": {
        "id": "2koI7tfjqmrq",
        "colab": {
          "base_uri": "https://localhost:8080/"
        },
        "outputId": "099ce112-8e3d-4aea-916a-7d9c42293065"
      },
      "execution_count": 51,
      "outputs": [
        {
          "output_type": "stream",
          "name": "stdout",
          "text": [
            "total 40\n",
            "-rw-r--r-- 1 root root 21089 Jan 24 01:38 ClassifierDLApproach_4f8255b59147.log\n",
            "-rw-r--r-- 1 root root 14274 Jan 24 01:30 ClassifierDLApproach_7ce988c38242.log\n"
          ]
        }
      ]
    },
    {
      "cell_type": "code",
      "source": [
        "!cat ~/annotator_logs/ClassifierDLApproach_4f8255b59147.log"
      ],
      "metadata": {
        "id": "IqUgtGi_jdFY",
        "colab": {
          "base_uri": "https://localhost:8080/"
        },
        "outputId": "946860fe-b60d-471d-d196-920109363183"
      },
      "execution_count": 52,
      "outputs": [
        {
          "output_type": "stream",
          "name": "stdout",
          "text": [
            "Training started - epochs: 300 - learning_rate: 0.003 - batch_size: 8 - training_examples: 679 - classes: 5\n",
            "Epoch 0/300 - 0.77s - loss: 128.26047 - acc: 0.41602892 - batches: 85\n",
            "Epoch 1/300 - 0.58s - loss: 108.36165 - acc: 0.66156465 - batches: 85\n",
            "Epoch 2/300 - 0.56s - loss: 103.60581 - acc: 0.68239796 - batches: 85\n",
            "Epoch 3/300 - 0.61s - loss: 101.861786 - acc: 0.698767 - batches: 85\n",
            "Epoch 4/300 - 0.57s - loss: 99.64581 - acc: 0.72257656 - batches: 85\n",
            "Epoch 5/300 - 0.60s - loss: 97.907196 - acc: 0.7389456 - batches: 85\n",
            "Epoch 6/300 - 0.56s - loss: 96.58372 - acc: 0.74489796 - batches: 85\n",
            "Epoch 7/300 - 0.57s - loss: 95.618904 - acc: 0.7493623 - batches: 85\n",
            "Epoch 8/300 - 0.58s - loss: 94.85293 - acc: 0.761267 - batches: 85\n",
            "Epoch 9/300 - 0.56s - loss: 94.236275 - acc: 0.76870745 - batches: 85\n",
            "Epoch 10/300 - 0.58s - loss: 93.73015 - acc: 0.77019554 - batches: 85\n",
            "Epoch 11/300 - 0.55s - loss: 93.307365 - acc: 0.77168363 - batches: 85\n",
            "Epoch 12/300 - 0.58s - loss: 92.94341 - acc: 0.7821003 - batches: 85\n",
            "Epoch 13/300 - 0.56s - loss: 92.63186 - acc: 0.78698975 - batches: 85\n",
            "Epoch 14/300 - 0.58s - loss: 92.35804 - acc: 0.78847784 - batches: 85\n",
            "Epoch 15/300 - 0.64s - loss: 92.11483 - acc: 0.78847784 - batches: 85\n",
            "Epoch 16/300 - 0.58s - loss: 91.89592 - acc: 0.78847784 - batches: 85\n",
            "Epoch 17/300 - 0.58s - loss: 91.69583 - acc: 0.79294217 - batches: 85\n",
            "Epoch 18/300 - 0.64s - loss: 91.51553 - acc: 0.79443026 - batches: 85\n",
            "Epoch 19/300 - 0.57s - loss: 91.34515 - acc: 0.79591835 - batches: 85\n",
            "Epoch 20/300 - 0.56s - loss: 91.18742 - acc: 0.7988945 - batches: 85\n",
            "Epoch 21/300 - 0.57s - loss: 91.03848 - acc: 0.8018707 - batches: 85\n",
            "Epoch 22/300 - 0.58s - loss: 90.89904 - acc: 0.8018707 - batches: 85\n",
            "Epoch 23/300 - 0.55s - loss: 90.76633 - acc: 0.806335 - batches: 85\n",
            "Epoch 24/300 - 0.57s - loss: 90.64089 - acc: 0.806335 - batches: 85\n",
            "Epoch 25/300 - 0.55s - loss: 90.52084 - acc: 0.80782306 - batches: 85\n",
            "Epoch 26/300 - 0.70s - loss: 90.40843 - acc: 0.80782306 - batches: 85\n",
            "Epoch 27/300 - 0.57s - loss: 90.30053 - acc: 0.8093112 - batches: 85\n",
            "Epoch 28/300 - 0.57s - loss: 90.197395 - acc: 0.8093112 - batches: 85\n",
            "Epoch 29/300 - 0.58s - loss: 90.09678 - acc: 0.8093112 - batches: 85\n",
            "Epoch 30/300 - 0.55s - loss: 90.00034 - acc: 0.8093112 - batches: 85\n",
            "Epoch 31/300 - 0.58s - loss: 89.9083 - acc: 0.8093112 - batches: 85\n",
            "Epoch 32/300 - 0.58s - loss: 89.81812 - acc: 0.8093112 - batches: 85\n",
            "Epoch 33/300 - 0.57s - loss: 89.73158 - acc: 0.8093112 - batches: 85\n",
            "Epoch 34/300 - 0.56s - loss: 89.648445 - acc: 0.8093112 - batches: 85\n",
            "Epoch 35/300 - 0.56s - loss: 89.56763 - acc: 0.8122874 - batches: 85\n",
            "Epoch 36/300 - 0.55s - loss: 89.48898 - acc: 0.8137755 - batches: 85\n",
            "Epoch 37/300 - 0.58s - loss: 89.412476 - acc: 0.8137755 - batches: 85\n",
            "Epoch 38/300 - 0.55s - loss: 89.338036 - acc: 0.81526357 - batches: 85\n",
            "Epoch 39/300 - 0.58s - loss: 89.265915 - acc: 0.81526357 - batches: 85\n",
            "Epoch 40/300 - 0.62s - loss: 89.19568 - acc: 0.81675166 - batches: 85\n",
            "Epoch 41/300 - 0.60s - loss: 89.127495 - acc: 0.81675166 - batches: 85\n",
            "Epoch 42/300 - 0.61s - loss: 89.06216 - acc: 0.81675166 - batches: 85\n",
            "Epoch 43/300 - 0.58s - loss: 88.99898 - acc: 0.81823975 - batches: 85\n",
            "Epoch 44/300 - 0.59s - loss: 88.938805 - acc: 0.81823975 - batches: 85\n",
            "Epoch 45/300 - 0.59s - loss: 88.88027 - acc: 0.81823975 - batches: 85\n",
            "Epoch 46/300 - 0.61s - loss: 88.82401 - acc: 0.81972784 - batches: 85\n",
            "Epoch 47/300 - 0.60s - loss: 88.7689 - acc: 0.8212159 - batches: 85\n",
            "Epoch 48/300 - 0.58s - loss: 88.715965 - acc: 0.8212159 - batches: 85\n",
            "Epoch 49/300 - 0.60s - loss: 88.66444 - acc: 0.8212159 - batches: 85\n",
            "Epoch 50/300 - 0.57s - loss: 88.61412 - acc: 0.822704 - batches: 85\n",
            "Epoch 51/300 - 0.57s - loss: 88.56583 - acc: 0.822704 - batches: 85\n",
            "Epoch 52/300 - 0.56s - loss: 88.518295 - acc: 0.822704 - batches: 85\n",
            "Epoch 53/300 - 0.56s - loss: 88.47203 - acc: 0.822704 - batches: 85\n",
            "Epoch 54/300 - 0.58s - loss: 88.42728 - acc: 0.822704 - batches: 85\n",
            "Epoch 55/300 - 0.57s - loss: 88.38352 - acc: 0.822704 - batches: 85\n",
            "Epoch 56/300 - 0.57s - loss: 88.34119 - acc: 0.822704 - batches: 85\n",
            "Epoch 57/300 - 0.57s - loss: 88.30021 - acc: 0.822704 - batches: 85\n",
            "Epoch 58/300 - 0.58s - loss: 88.26029 - acc: 0.822704 - batches: 85\n",
            "Epoch 59/300 - 0.55s - loss: 88.22154 - acc: 0.82419217 - batches: 85\n",
            "Epoch 60/300 - 0.59s - loss: 88.18365 - acc: 0.82716835 - batches: 85\n",
            "Epoch 61/300 - 0.58s - loss: 88.147255 - acc: 0.82716835 - batches: 85\n",
            "Epoch 62/300 - 0.55s - loss: 88.11135 - acc: 0.82716835 - batches: 85\n",
            "Epoch 63/300 - 0.58s - loss: 88.07615 - acc: 0.82716835 - batches: 85\n",
            "Epoch 64/300 - 0.56s - loss: 88.04225 - acc: 0.82716835 - batches: 85\n",
            "Epoch 65/300 - 0.60s - loss: 88.00906 - acc: 0.82716835 - batches: 85\n",
            "Epoch 66/300 - 0.57s - loss: 87.97694 - acc: 0.82716835 - batches: 85\n",
            "Epoch 67/300 - 0.59s - loss: 87.94591 - acc: 0.82865644 - batches: 85\n",
            "Epoch 68/300 - 0.59s - loss: 87.915565 - acc: 0.82865644 - batches: 85\n",
            "Epoch 69/300 - 0.56s - loss: 87.88573 - acc: 0.82865644 - batches: 85\n",
            "Epoch 70/300 - 0.59s - loss: 87.857 - acc: 0.8301445 - batches: 85\n",
            "Epoch 71/300 - 0.57s - loss: 87.82882 - acc: 0.8301445 - batches: 85\n",
            "Epoch 72/300 - 0.59s - loss: 87.8014 - acc: 0.8301445 - batches: 85\n",
            "Epoch 73/300 - 0.56s - loss: 87.77441 - acc: 0.8301445 - batches: 85\n",
            "Epoch 74/300 - 0.56s - loss: 87.74812 - acc: 0.8301445 - batches: 85\n",
            "Epoch 75/300 - 0.61s - loss: 87.72254 - acc: 0.8301445 - batches: 85\n",
            "Epoch 76/300 - 0.60s - loss: 87.69763 - acc: 0.8316326 - batches: 85\n",
            "Epoch 77/300 - 0.56s - loss: 87.6733 - acc: 0.8316326 - batches: 85\n",
            "Epoch 78/300 - 0.56s - loss: 87.64942 - acc: 0.8316326 - batches: 85\n",
            "Epoch 79/300 - 0.57s - loss: 87.6264 - acc: 0.8316326 - batches: 85\n",
            "Epoch 80/300 - 0.57s - loss: 87.603424 - acc: 0.8316326 - batches: 85\n",
            "Epoch 81/300 - 0.57s - loss: 87.581245 - acc: 0.8316326 - batches: 85\n",
            "Epoch 82/300 - 0.57s - loss: 87.55954 - acc: 0.8316326 - batches: 85\n",
            "Epoch 83/300 - 0.56s - loss: 87.538216 - acc: 0.8316326 - batches: 85\n",
            "Epoch 84/300 - 0.57s - loss: 87.517456 - acc: 0.8316326 - batches: 85\n",
            "Epoch 85/300 - 0.54s - loss: 87.49727 - acc: 0.8316326 - batches: 85\n",
            "Epoch 86/300 - 0.57s - loss: 87.47734 - acc: 0.8316326 - batches: 85\n",
            "Epoch 87/300 - 0.55s - loss: 87.45774 - acc: 0.8316326 - batches: 85\n",
            "Epoch 88/300 - 0.59s - loss: 87.43851 - acc: 0.8316326 - batches: 85\n",
            "Epoch 89/300 - 0.57s - loss: 87.4197 - acc: 0.8316326 - batches: 85\n",
            "Epoch 90/300 - 0.56s - loss: 87.40153 - acc: 0.8316326 - batches: 85\n",
            "Epoch 91/300 - 0.57s - loss: 87.38324 - acc: 0.8316326 - batches: 85\n",
            "Epoch 92/300 - 0.56s - loss: 87.365654 - acc: 0.8316326 - batches: 85\n",
            "Epoch 93/300 - 0.60s - loss: 87.34812 - acc: 0.8316326 - batches: 85\n",
            "Epoch 94/300 - 0.57s - loss: 87.3314 - acc: 0.8316326 - batches: 85\n",
            "Epoch 95/300 - 0.59s - loss: 87.31461 - acc: 0.8316326 - batches: 85\n",
            "Epoch 96/300 - 0.56s - loss: 87.29821 - acc: 0.8316326 - batches: 85\n",
            "Epoch 97/300 - 0.59s - loss: 87.282005 - acc: 0.8316326 - batches: 85\n",
            "Epoch 98/300 - 0.55s - loss: 87.26628 - acc: 0.8316326 - batches: 85\n",
            "Epoch 99/300 - 0.58s - loss: 87.25059 - acc: 0.8316326 - batches: 85\n",
            "Epoch 100/300 - 0.57s - loss: 87.235115 - acc: 0.8316326 - batches: 85\n",
            "Epoch 101/300 - 0.59s - loss: 87.2202 - acc: 0.8316326 - batches: 85\n",
            "Epoch 102/300 - 0.58s - loss: 87.20535 - acc: 0.8316326 - batches: 85\n",
            "Epoch 103/300 - 0.59s - loss: 87.19086 - acc: 0.8316326 - batches: 85\n",
            "Epoch 104/300 - 0.58s - loss: 87.17658 - acc: 0.8331207 - batches: 85\n",
            "Epoch 105/300 - 0.57s - loss: 87.1626 - acc: 0.8346088 - batches: 85\n",
            "Epoch 106/300 - 0.58s - loss: 87.148865 - acc: 0.8346088 - batches: 85\n",
            "Epoch 107/300 - 0.58s - loss: 87.135506 - acc: 0.8346088 - batches: 85\n",
            "Epoch 108/300 - 0.57s - loss: 87.12232 - acc: 0.8346088 - batches: 85\n",
            "Epoch 109/300 - 0.57s - loss: 87.10933 - acc: 0.8346088 - batches: 85\n",
            "Epoch 110/300 - 0.57s - loss: 87.096565 - acc: 0.8346088 - batches: 85\n",
            "Epoch 111/300 - 0.58s - loss: 87.08397 - acc: 0.8346088 - batches: 85\n",
            "Epoch 112/300 - 0.57s - loss: 87.071815 - acc: 0.8346088 - batches: 85\n",
            "Epoch 113/300 - 0.57s - loss: 87.0597 - acc: 0.8346088 - batches: 85\n",
            "Epoch 114/300 - 0.56s - loss: 87.048 - acc: 0.8346088 - batches: 85\n",
            "Epoch 115/300 - 0.57s - loss: 87.03623 - acc: 0.8346088 - batches: 85\n",
            "Epoch 116/300 - 0.55s - loss: 87.02483 - acc: 0.8346088 - batches: 85\n",
            "Epoch 117/300 - 0.59s - loss: 87.013336 - acc: 0.8346088 - batches: 85\n",
            "Epoch 118/300 - 0.58s - loss: 87.00204 - acc: 0.8346088 - batches: 85\n",
            "Epoch 119/300 - 0.57s - loss: 86.99107 - acc: 0.8346088 - batches: 85\n",
            "Epoch 120/300 - 0.59s - loss: 86.98026 - acc: 0.8346088 - batches: 85\n",
            "Epoch 121/300 - 0.56s - loss: 86.969574 - acc: 0.8346088 - batches: 85\n",
            "Epoch 122/300 - 0.57s - loss: 86.95906 - acc: 0.8346088 - batches: 85\n",
            "Epoch 123/300 - 0.56s - loss: 86.948586 - acc: 0.8346088 - batches: 85\n",
            "Epoch 124/300 - 0.56s - loss: 86.938324 - acc: 0.8346088 - batches: 85\n",
            "Epoch 125/300 - 0.56s - loss: 86.92818 - acc: 0.8346088 - batches: 85\n",
            "Epoch 126/300 - 0.55s - loss: 86.918205 - acc: 0.8346088 - batches: 85\n",
            "Epoch 127/300 - 0.56s - loss: 86.9084 - acc: 0.8346088 - batches: 85\n",
            "Epoch 128/300 - 0.56s - loss: 86.898705 - acc: 0.8346088 - batches: 85\n",
            "Epoch 129/300 - 0.60s - loss: 86.88922 - acc: 0.8346088 - batches: 85\n",
            "Epoch 130/300 - 0.56s - loss: 86.87995 - acc: 0.8346088 - batches: 85\n",
            "Epoch 131/300 - 0.57s - loss: 86.87073 - acc: 0.8346088 - batches: 85\n",
            "Epoch 132/300 - 0.55s - loss: 86.861725 - acc: 0.8346088 - batches: 85\n",
            "Epoch 133/300 - 0.59s - loss: 86.8528 - acc: 0.8346088 - batches: 85\n",
            "Epoch 134/300 - 0.57s - loss: 86.844 - acc: 0.8346088 - batches: 85\n",
            "Epoch 135/300 - 0.56s - loss: 86.83545 - acc: 0.8346088 - batches: 85\n",
            "Epoch 136/300 - 0.60s - loss: 86.82701 - acc: 0.8331207 - batches: 85\n",
            "Epoch 137/300 - 0.56s - loss: 86.818504 - acc: 0.8331207 - batches: 85\n",
            "Epoch 138/300 - 0.58s - loss: 86.81029 - acc: 0.8346088 - batches: 85\n",
            "Epoch 139/300 - 0.55s - loss: 86.80234 - acc: 0.8346088 - batches: 85\n",
            "Epoch 140/300 - 0.57s - loss: 86.79409 - acc: 0.8346088 - batches: 85\n",
            "Epoch 141/300 - 0.57s - loss: 86.78613 - acc: 0.8346088 - batches: 85\n",
            "Epoch 142/300 - 0.58s - loss: 86.77823 - acc: 0.8346088 - batches: 85\n",
            "Epoch 143/300 - 0.59s - loss: 86.77043 - acc: 0.8346088 - batches: 85\n",
            "Epoch 144/300 - 0.57s - loss: 86.76266 - acc: 0.8346088 - batches: 85\n",
            "Epoch 145/300 - 0.58s - loss: 86.75488 - acc: 0.8346088 - batches: 85\n",
            "Epoch 146/300 - 0.56s - loss: 86.74742 - acc: 0.8346088 - batches: 85\n",
            "Epoch 147/300 - 0.59s - loss: 86.73996 - acc: 0.8346088 - batches: 85\n",
            "Epoch 148/300 - 0.56s - loss: 86.73259 - acc: 0.8346088 - batches: 85\n",
            "Epoch 149/300 - 0.59s - loss: 86.72531 - acc: 0.8346088 - batches: 85\n",
            "Epoch 150/300 - 0.58s - loss: 86.718155 - acc: 0.8346088 - batches: 85\n",
            "Epoch 151/300 - 0.56s - loss: 86.711044 - acc: 0.8346088 - batches: 85\n",
            "Epoch 152/300 - 0.57s - loss: 86.70403 - acc: 0.8346088 - batches: 85\n",
            "Epoch 153/300 - 0.56s - loss: 86.697105 - acc: 0.8346088 - batches: 85\n",
            "Epoch 154/300 - 0.58s - loss: 86.690285 - acc: 0.8346088 - batches: 85\n",
            "Epoch 155/300 - 0.56s - loss: 86.683556 - acc: 0.8346088 - batches: 85\n",
            "Epoch 156/300 - 0.56s - loss: 86.676895 - acc: 0.8346088 - batches: 85\n",
            "Epoch 157/300 - 0.58s - loss: 86.67033 - acc: 0.8346088 - batches: 85\n",
            "Epoch 158/300 - 0.59s - loss: 86.66379 - acc: 0.8346088 - batches: 85\n",
            "Epoch 159/300 - 0.59s - loss: 86.65739 - acc: 0.8346088 - batches: 85\n",
            "Epoch 160/300 - 0.56s - loss: 86.65106 - acc: 0.8346088 - batches: 85\n",
            "Epoch 161/300 - 0.57s - loss: 86.64474 - acc: 0.8346088 - batches: 85\n",
            "Epoch 162/300 - 0.56s - loss: 86.63845 - acc: 0.8346088 - batches: 85\n",
            "Epoch 163/300 - 0.56s - loss: 86.63235 - acc: 0.8346088 - batches: 85\n",
            "Epoch 164/300 - 0.55s - loss: 86.62625 - acc: 0.8346088 - batches: 85\n",
            "Epoch 165/300 - 0.60s - loss: 86.62022 - acc: 0.8346088 - batches: 85\n",
            "Epoch 166/300 - 0.56s - loss: 86.614365 - acc: 0.8346088 - batches: 85\n",
            "Epoch 167/300 - 0.57s - loss: 86.60842 - acc: 0.8346088 - batches: 85\n",
            "Epoch 168/300 - 0.57s - loss: 86.602585 - acc: 0.8346088 - batches: 85\n",
            "Epoch 169/300 - 0.56s - loss: 86.59691 - acc: 0.8346088 - batches: 85\n",
            "Epoch 170/300 - 0.58s - loss: 86.59123 - acc: 0.8346088 - batches: 85\n",
            "Epoch 171/300 - 0.56s - loss: 86.58551 - acc: 0.8346088 - batches: 85\n",
            "Epoch 172/300 - 0.59s - loss: 86.57995 - acc: 0.8346088 - batches: 85\n",
            "Epoch 173/300 - 0.56s - loss: 86.57436 - acc: 0.8346088 - batches: 85\n",
            "Epoch 174/300 - 0.56s - loss: 86.5689 - acc: 0.8346088 - batches: 85\n",
            "Epoch 175/300 - 0.58s - loss: 86.563446 - acc: 0.8346088 - batches: 85\n",
            "Epoch 176/300 - 0.58s - loss: 86.55814 - acc: 0.8346088 - batches: 85\n",
            "Epoch 177/300 - 0.60s - loss: 86.552895 - acc: 0.8346088 - batches: 85\n",
            "Epoch 178/300 - 0.58s - loss: 86.54759 - acc: 0.8346088 - batches: 85\n",
            "Epoch 179/300 - 0.63s - loss: 86.542366 - acc: 0.8346088 - batches: 85\n",
            "Epoch 180/300 - 0.58s - loss: 86.537224 - acc: 0.8346088 - batches: 85\n",
            "Epoch 181/300 - 0.59s - loss: 86.53214 - acc: 0.8346088 - batches: 85\n",
            "Epoch 182/300 - 0.59s - loss: 86.527145 - acc: 0.8360969 - batches: 85\n",
            "Epoch 183/300 - 0.59s - loss: 86.52224 - acc: 0.8360969 - batches: 85\n",
            "Epoch 184/300 - 0.56s - loss: 86.51726 - acc: 0.8360969 - batches: 85\n",
            "Epoch 185/300 - 0.57s - loss: 86.512344 - acc: 0.8360969 - batches: 85\n",
            "Epoch 186/300 - 0.57s - loss: 86.50751 - acc: 0.8360969 - batches: 85\n",
            "Epoch 187/300 - 0.56s - loss: 86.50269 - acc: 0.8360969 - batches: 85\n",
            "Epoch 188/300 - 0.57s - loss: 86.497955 - acc: 0.8360969 - batches: 85\n",
            "Epoch 189/300 - 0.59s - loss: 86.493256 - acc: 0.8360969 - batches: 85\n",
            "Epoch 190/300 - 0.58s - loss: 86.48861 - acc: 0.8360969 - batches: 85\n",
            "Epoch 191/300 - 0.57s - loss: 86.48398 - acc: 0.8360969 - batches: 85\n",
            "Epoch 192/300 - 0.56s - loss: 86.47938 - acc: 0.8360969 - batches: 85\n",
            "Epoch 193/300 - 0.58s - loss: 86.4749 - acc: 0.8360969 - batches: 85\n",
            "Epoch 194/300 - 0.56s - loss: 86.470505 - acc: 0.8360969 - batches: 85\n",
            "Epoch 195/300 - 0.56s - loss: 86.46608 - acc: 0.8360969 - batches: 85\n",
            "Epoch 196/300 - 0.58s - loss: 86.46168 - acc: 0.8360969 - batches: 85\n",
            "Epoch 197/300 - 0.61s - loss: 86.45735 - acc: 0.8360969 - batches: 85\n",
            "Epoch 198/300 - 0.58s - loss: 86.453026 - acc: 0.8360969 - batches: 85\n",
            "Epoch 199/300 - 0.57s - loss: 86.44876 - acc: 0.8360969 - batches: 85\n",
            "Epoch 200/300 - 0.58s - loss: 86.44451 - acc: 0.8360969 - batches: 85\n",
            "Epoch 201/300 - 0.58s - loss: 86.44027 - acc: 0.8360969 - batches: 85\n",
            "Epoch 202/300 - 0.57s - loss: 86.43613 - acc: 0.8360969 - batches: 85\n",
            "Epoch 203/300 - 0.57s - loss: 86.43204 - acc: 0.8360969 - batches: 85\n",
            "Epoch 204/300 - 0.58s - loss: 86.42786 - acc: 0.8360969 - batches: 85\n",
            "Epoch 205/300 - 0.59s - loss: 86.4238 - acc: 0.8360969 - batches: 85\n",
            "Epoch 206/300 - 0.58s - loss: 86.41979 - acc: 0.8360969 - batches: 85\n",
            "Epoch 207/300 - 0.57s - loss: 86.415855 - acc: 0.8360969 - batches: 85\n",
            "Epoch 208/300 - 0.58s - loss: 86.4119 - acc: 0.8360969 - batches: 85\n",
            "Epoch 209/300 - 0.57s - loss: 86.40796 - acc: 0.8360969 - batches: 85\n",
            "Epoch 210/300 - 0.58s - loss: 86.40408 - acc: 0.8360969 - batches: 85\n",
            "Epoch 211/300 - 0.61s - loss: 86.400314 - acc: 0.8360969 - batches: 85\n",
            "Epoch 212/300 - 0.60s - loss: 86.396515 - acc: 0.8360969 - batches: 85\n",
            "Epoch 213/300 - 0.60s - loss: 86.3927 - acc: 0.8360969 - batches: 85\n",
            "Epoch 214/300 - 0.61s - loss: 86.38898 - acc: 0.8360969 - batches: 85\n",
            "Epoch 215/300 - 0.60s - loss: 86.38529 - acc: 0.8360969 - batches: 85\n",
            "Epoch 216/300 - 0.62s - loss: 86.381645 - acc: 0.8360969 - batches: 85\n",
            "Epoch 217/300 - 0.60s - loss: 86.37803 - acc: 0.8360969 - batches: 85\n",
            "Epoch 218/300 - 0.63s - loss: 86.37442 - acc: 0.8360969 - batches: 85\n",
            "Epoch 219/300 - 0.58s - loss: 86.37079 - acc: 0.8360969 - batches: 85\n",
            "Epoch 220/300 - 0.57s - loss: 86.36725 - acc: 0.8360969 - batches: 85\n",
            "Epoch 221/300 - 0.58s - loss: 86.36375 - acc: 0.8360969 - batches: 85\n",
            "Epoch 222/300 - 0.57s - loss: 86.3602 - acc: 0.8360969 - batches: 85\n",
            "Epoch 223/300 - 0.60s - loss: 86.35671 - acc: 0.8360969 - batches: 85\n",
            "Epoch 224/300 - 0.60s - loss: 86.35324 - acc: 0.8360969 - batches: 85\n",
            "Epoch 225/300 - 0.59s - loss: 86.34979 - acc: 0.8360969 - batches: 85\n",
            "Epoch 226/300 - 0.59s - loss: 86.34644 - acc: 0.8360969 - batches: 85\n",
            "Epoch 227/300 - 0.56s - loss: 86.34301 - acc: 0.8360969 - batches: 85\n",
            "Epoch 228/300 - 0.58s - loss: 86.33969 - acc: 0.8360969 - batches: 85\n",
            "Epoch 229/300 - 0.56s - loss: 86.33641 - acc: 0.8360969 - batches: 85\n",
            "Epoch 230/300 - 0.59s - loss: 86.33305 - acc: 0.837585 - batches: 85\n",
            "Epoch 231/300 - 0.56s - loss: 86.32977 - acc: 0.837585 - batches: 85\n",
            "Epoch 232/300 - 0.56s - loss: 86.32655 - acc: 0.837585 - batches: 85\n",
            "Epoch 233/300 - 0.59s - loss: 86.32334 - acc: 0.837585 - batches: 85\n",
            "Epoch 234/300 - 0.57s - loss: 86.32013 - acc: 0.837585 - batches: 85\n",
            "Epoch 235/300 - 0.57s - loss: 86.31699 - acc: 0.837585 - batches: 85\n",
            "Epoch 236/300 - 0.58s - loss: 86.31383 - acc: 0.837585 - batches: 85\n",
            "Epoch 237/300 - 0.60s - loss: 86.31075 - acc: 0.837585 - batches: 85\n",
            "Epoch 238/300 - 0.56s - loss: 86.30767 - acc: 0.837585 - batches: 85\n",
            "Epoch 239/300 - 0.58s - loss: 86.30458 - acc: 0.837585 - batches: 85\n",
            "Epoch 240/300 - 0.59s - loss: 86.30155 - acc: 0.837585 - batches: 85\n",
            "Epoch 241/300 - 0.58s - loss: 86.29854 - acc: 0.837585 - batches: 85\n",
            "Epoch 242/300 - 0.58s - loss: 86.29551 - acc: 0.837585 - batches: 85\n",
            "Epoch 243/300 - 0.58s - loss: 86.29254 - acc: 0.837585 - batches: 85\n",
            "Epoch 244/300 - 0.57s - loss: 86.28953 - acc: 0.837585 - batches: 85\n",
            "Epoch 245/300 - 0.57s - loss: 86.28661 - acc: 0.837585 - batches: 85\n",
            "Epoch 246/300 - 0.59s - loss: 86.28369 - acc: 0.837585 - batches: 85\n",
            "Epoch 247/300 - 0.60s - loss: 86.28078 - acc: 0.837585 - batches: 85\n",
            "Epoch 248/300 - 0.56s - loss: 86.27795 - acc: 0.837585 - batches: 85\n",
            "Epoch 249/300 - 0.61s - loss: 86.275116 - acc: 0.837585 - batches: 85\n",
            "Epoch 250/300 - 0.56s - loss: 86.27225 - acc: 0.837585 - batches: 85\n",
            "Epoch 251/300 - 0.58s - loss: 86.26941 - acc: 0.837585 - batches: 85\n",
            "Epoch 252/300 - 0.56s - loss: 86.26664 - acc: 0.837585 - batches: 85\n",
            "Epoch 253/300 - 0.57s - loss: 86.26386 - acc: 0.837585 - batches: 85\n",
            "Epoch 254/300 - 0.58s - loss: 86.26113 - acc: 0.83907306 - batches: 85\n",
            "Epoch 255/300 - 0.57s - loss: 86.25842 - acc: 0.83907306 - batches: 85\n",
            "Epoch 256/300 - 0.58s - loss: 86.25565 - acc: 0.83907306 - batches: 85\n",
            "Epoch 257/300 - 0.56s - loss: 86.252975 - acc: 0.83907306 - batches: 85\n",
            "Epoch 258/300 - 0.58s - loss: 86.25026 - acc: 0.83907306 - batches: 85\n",
            "Epoch 259/300 - 0.60s - loss: 86.2476 - acc: 0.83907306 - batches: 85\n",
            "Epoch 260/300 - 0.59s - loss: 86.24492 - acc: 0.83907306 - batches: 85\n",
            "Epoch 261/300 - 0.57s - loss: 86.24226 - acc: 0.83907306 - batches: 85\n",
            "Epoch 262/300 - 0.58s - loss: 86.23965 - acc: 0.83907306 - batches: 85\n",
            "Epoch 263/300 - 0.58s - loss: 86.23707 - acc: 0.83907306 - batches: 85\n",
            "Epoch 264/300 - 0.55s - loss: 86.23453 - acc: 0.83907306 - batches: 85\n",
            "Epoch 265/300 - 0.57s - loss: 86.23199 - acc: 0.83907306 - batches: 85\n",
            "Epoch 266/300 - 0.58s - loss: 86.22944 - acc: 0.83907306 - batches: 85\n",
            "Epoch 267/300 - 0.58s - loss: 86.22694 - acc: 0.83907306 - batches: 85\n",
            "Epoch 268/300 - 0.57s - loss: 86.224434 - acc: 0.83907306 - batches: 85\n",
            "Epoch 269/300 - 0.58s - loss: 86.22201 - acc: 0.83907306 - batches: 85\n",
            "Epoch 270/300 - 0.60s - loss: 86.21952 - acc: 0.83907306 - batches: 85\n",
            "Epoch 271/300 - 0.58s - loss: 86.21713 - acc: 0.83907306 - batches: 85\n",
            "Epoch 272/300 - 0.58s - loss: 86.21463 - acc: 0.83907306 - batches: 85\n",
            "Epoch 273/300 - 0.59s - loss: 86.21227 - acc: 0.83907306 - batches: 85\n",
            "Epoch 274/300 - 0.64s - loss: 86.20986 - acc: 0.83907306 - batches: 85\n",
            "Epoch 275/300 - 0.62s - loss: 86.2075 - acc: 0.83907306 - batches: 85\n",
            "Epoch 276/300 - 0.59s - loss: 86.20515 - acc: 0.83907306 - batches: 85\n",
            "Epoch 277/300 - 0.60s - loss: 86.20282 - acc: 0.83907306 - batches: 85\n",
            "Epoch 278/300 - 0.59s - loss: 86.20046 - acc: 0.83907306 - batches: 85\n",
            "Epoch 279/300 - 0.59s - loss: 86.19809 - acc: 0.83907306 - batches: 85\n",
            "Epoch 280/300 - 0.60s - loss: 86.19581 - acc: 0.83907306 - batches: 85\n",
            "Epoch 281/300 - 0.59s - loss: 86.19351 - acc: 0.83907306 - batches: 85\n",
            "Epoch 282/300 - 0.58s - loss: 86.191246 - acc: 0.83907306 - batches: 85\n",
            "Epoch 283/300 - 0.60s - loss: 86.188995 - acc: 0.83907306 - batches: 85\n",
            "Epoch 284/300 - 0.60s - loss: 86.18674 - acc: 0.83907306 - batches: 85\n",
            "Epoch 285/300 - 0.59s - loss: 86.184525 - acc: 0.83907306 - batches: 85\n",
            "Epoch 286/300 - 0.60s - loss: 86.18229 - acc: 0.83907306 - batches: 85\n",
            "Epoch 287/300 - 0.57s - loss: 86.18008 - acc: 0.83907306 - batches: 85\n",
            "Epoch 288/300 - 0.59s - loss: 86.177895 - acc: 0.83907306 - batches: 85\n",
            "Epoch 289/300 - 0.58s - loss: 86.175705 - acc: 0.83907306 - batches: 85\n",
            "Epoch 290/300 - 0.57s - loss: 86.17361 - acc: 0.83907306 - batches: 85\n",
            "Epoch 291/300 - 0.60s - loss: 86.17149 - acc: 0.83907306 - batches: 85\n",
            "Epoch 292/300 - 0.56s - loss: 86.16934 - acc: 0.83907306 - batches: 85\n",
            "Epoch 293/300 - 0.58s - loss: 86.16727 - acc: 0.83907306 - batches: 85\n",
            "Epoch 294/300 - 0.57s - loss: 86.16515 - acc: 0.83907306 - batches: 85\n",
            "Epoch 295/300 - 0.59s - loss: 86.16301 - acc: 0.83907306 - batches: 85\n",
            "Epoch 296/300 - 0.58s - loss: 86.16096 - acc: 0.83907306 - batches: 85\n",
            "Epoch 297/300 - 0.56s - loss: 86.158936 - acc: 0.83907306 - batches: 85\n",
            "Epoch 298/300 - 0.58s - loss: 86.15688 - acc: 0.83907306 - batches: 85\n",
            "Epoch 299/300 - 0.56s - loss: 86.154785 - acc: 0.83907306 - batches: 85\n"
          ]
        }
      ]
    },
    {
      "cell_type": "code",
      "source": [
        "preds = use_clf_pipelineModel.transform(testData)\n",
        "\n",
        "preds_df = preds.select(\"category\",\"text\",\"class.result\").toPandas()\n",
        "\n",
        "preds_df[\"result\"] = preds_df[\"result\"].apply(lambda x : x[0])\n",
        "\n",
        "print (classification_report(preds_df[\"category\"], preds_df[\"result\"]))"
      ],
      "metadata": {
        "colab": {
          "base_uri": "https://localhost:8080/"
        },
        "id": "fo2-Ix9wIUJG",
        "outputId": "b6f1b780-2473-4241-b632-54fd99b1526f"
      },
      "execution_count": 53,
      "outputs": [
        {
          "output_type": "stream",
          "name": "stdout",
          "text": [
            "                  precision    recall  f1-score   support\n",
            "\n",
            "Gastroenterology       0.73      0.83      0.77        29\n",
            "       Neurology       0.42      0.65      0.51        17\n",
            "      Orthopedic       0.87      0.82      0.84        33\n",
            "       Radiology       0.79      0.61      0.69        38\n",
            "         Urology       0.85      0.77      0.81        22\n",
            "\n",
            "        accuracy                           0.73       139\n",
            "       macro avg       0.73      0.73      0.73       139\n",
            "    weighted avg       0.76      0.73      0.74       139\n",
            "\n"
          ]
        }
      ]
    },
    {
      "cell_type": "code",
      "source": [
        "use_clf_pipelineModel.stages"
      ],
      "metadata": {
        "colab": {
          "base_uri": "https://localhost:8080/"
        },
        "id": "1dBZGgEnyFXI",
        "outputId": "5b7240b3-3fbc-4d93-afd2-d78a65bb1c8b"
      },
      "execution_count": 54,
      "outputs": [
        {
          "output_type": "execute_result",
          "data": {
            "text/plain": [
              "[DocumentAssembler_6811ed9f8d15,\n",
              " UNIVERSAL_SENTENCE_ENCODER_4de71669b7ec,\n",
              " ClassifierDLModel_dac17b73dbe1]"
            ]
          },
          "metadata": {},
          "execution_count": 54
        }
      ]
    },
    {
      "cell_type": "code",
      "source": [
        "use_clf_pipelineModel.stages[2].write().overwrite().save(\"/content/drive/MyDrive/SparkNLPTask/use_clf_e300_b8\")"
      ],
      "metadata": {
        "id": "qJo2NudHyFmB"
      },
      "execution_count": 56,
      "outputs": []
    },
    {
      "cell_type": "markdown",
      "source": [
        "# Prediction Pipeline"
      ],
      "metadata": {
        "id": "tB5KdfpN-DVt"
      }
    },
    {
      "cell_type": "code",
      "source": [
        "documentAssembler = DocumentAssembler()\\\n",
        "    .setInputCol(\"text\")\\\n",
        "    .setOutputCol(\"document\")\n",
        "\n",
        "use = UniversalSentenceEncoder.pretrained()\\\n",
        "    .setInputCols([\"document\"])\\\n",
        "    .setOutputCol(\"sentence_embeddings\")\n",
        "\n",
        "loaded_clf_model = ClassifierDLModel.load(\"/content/drive/MyDrive/SparkNLPTask/use_clf_e300_b8\")\\\n",
        "\n",
        "prediction_pipeline = Pipeline(stages = [\n",
        "      documentAssembler,\n",
        "      use,\n",
        "      loaded_clf_model,\n",
        "  ])\n",
        "\n",
        "empty_data = spark.createDataFrame([['']]).toDF(\"text\")\n",
        "\n",
        "prediction_model = prediction_pipeline.fit(empty_data)"
      ],
      "metadata": {
        "colab": {
          "base_uri": "https://localhost:8080/"
        },
        "id": "65n46GyJya4f",
        "outputId": "63506415-7525-4000-f03c-110fd8037234"
      },
      "execution_count": 57,
      "outputs": [
        {
          "output_type": "stream",
          "name": "stdout",
          "text": [
            "tfhub_use download started this may take some time.\n",
            "Approximate size to download 923.7 MB\n",
            "[OK!]\n"
          ]
        }
      ]
    },
    {
      "cell_type": "code",
      "source": [
        "from sparknlp.base import LightPipeline\n",
        "\n",
        "light_model = LightPipeline(prediction_model)"
      ],
      "metadata": {
        "id": "BHWk9vblmu07"
      },
      "execution_count": 62,
      "outputs": []
    },
    {
      "cell_type": "code",
      "source": [
        "text1 = \"\"\"\n",
        "PREOPERATIVE DIAGNOSIS: Anemia. PROCEDURE: Upper gastrointestinal endoscopy. POSTOPERATIVE DIAGNOSES: 1. Severe duodenitis. 2. Gastroesophageal junction small ulceration seen. 3. No major bleeding seen in the stomach. PROCEDURE IN DETAIL: The patient was put in left lateral position. Olympus scope was inserted from the mouth, under direct visualization advanced to the upper part of the stomach, upper part of esophagus, middle of esophagus, GE junction, and some intermittent bleeding was seen at the GE junction. Advanced into the upper part of the stomach into the antrum. The duodenum showed extreme duodenitis and the scope was then brought back. Retroflexion was performed, which was normal. Scope was then brought back slowly. Duodenitis was seen and a little bit of ulceration seen at GE junction. FINDING: Severe duodenitis, may be some source of bleeding from there, but no active bleeding at this time.\n",
        "\"\"\"\n",
        "\n",
        "result = light_model.annotate(text1)\n",
        "\n",
        "result['class']"
      ],
      "metadata": {
        "colab": {
          "base_uri": "https://localhost:8080/"
        },
        "id": "Fd6XdYp2mu32",
        "outputId": "6b7531b7-e346-42f0-a2d0-f2fb2c8bbf88"
      },
      "execution_count": 63,
      "outputs": [
        {
          "output_type": "execute_result",
          "data": {
            "text/plain": [
              "['Gastroenterology']"
            ]
          },
          "metadata": {},
          "execution_count": 63
        }
      ]
    },
    {
      "cell_type": "code",
      "source": [
        "text1 = \"\"\"\n",
        "PREOPERATIVE DIAGNOSES: 1. Epidural hematoma, cervical spine. 2. Status post cervical laminectomy, C3 through C7 postop day #10. 3. Central cord syndrome. 4. Acute quadriplegia. POSTOPERATIVE DIAGNOSES: 1. Epidural hematoma, cervical spine. 2. Status post cervical laminectomy, C3 through C7 postop day #10. 3. Central cord syndrome. 4. Acute quadriplegia. PROCEDURE PERFORMED: 1. Evacuation of epidural hematoma. 2. Insertion of epidural drain. ANESTHESIA: General. COMPLICATIONS: None. ESTIMATED BLOOD LOSS: 200 cc. HISTORY: This is a 64-year-old female who has had an extensive medical history beginning with coronary artery bypass done on emergent basis while she was in Maryland in April of 2003 after having myocardial infarction. She was then transferred to Beaumont Hospital, at which point, she developed a sternal abscess. The patient was treated for the abscess in Beaumont and then subsequently transferred to some other type of facility near her home in Warren, Michigan at which point, she developed a second what was termed minor myocardial infarction. The patient subsequently recovered in a Cardiac Rehab Facility and approximately two weeks later, brings us to the month of August, at which time she was at home ambulating with a walker or a cane, and then sustained a fall and at that point she was unable to walk and had acute progressive weakness and was identified as having a central cord syndrome based on an MRI, which showed record signal change. The patient underwent cervical laminectomy and seemed to be improving subjectively in terms of neurologic recovery, but objectively there was not much improvement. Approximately 10 days after the surgery, brings us to today's date, the health officer was notified of the patient's labored breathing. When she examined the patient, she also noted that the patient was unable to move her extremities. She was concerned and called the Orthopedic resident who identified the patient to be truly quadriplegic. I was notified and ordered the operative crew to report immediately and recommended emergent decompression for the possibility of an epidural hematoma. On clinical examination, there was swelling in the posterior aspect of the neck. The patient has no active movement in the upper and lower extremity muscle groups. Reflexes are absent in the upper and lower extremities. Long track signs are absent. Sensory level is at the C4 dermatome. Rectal tone is absent. I discussed the findings with the patient and also the daughter. We discussed the possibility of this is permanent quadriplegia, but at this time, the compression of the epidural space was warranted and certainly for exploration reasons be sure that there is a hematoma there and they have agreed to proceed with surgery. They are aware that it is possible she had known permanent neurologic status regardless of my intervention and they have agreed to accept this and has signed the consent form for surgery\n",
        "\"\"\"\n",
        "\n",
        "result = light_model.annotate(text1)\n",
        "\n",
        "result['class']"
      ],
      "metadata": {
        "colab": {
          "base_uri": "https://localhost:8080/"
        },
        "id": "uUa9hdDUmu68",
        "outputId": "24d2e58b-ca9b-4a3f-8335-917b2f36b0e7"
      },
      "execution_count": 64,
      "outputs": [
        {
          "output_type": "execute_result",
          "data": {
            "text/plain": [
              "['Orthopedic']"
            ]
          },
          "metadata": {},
          "execution_count": 64
        }
      ]
    },
    {
      "cell_type": "code",
      "source": [
        "# test = spark.sparkContext.wholeTextFiles(\"/content/drive/MyDrive/SparkNLPTask/dataset/test-data/*.txt\")\n",
        "\n",
        "# spark_test = test.toDF(schema=[\"path\",\"text\"])\n",
        "\n",
        "# spark_test = spark_test.select(\"text\")\n"
      ],
      "metadata": {
        "id": "NHzTiLijC6UZ"
      },
      "execution_count": 17,
      "outputs": []
    },
    {
      "cell_type": "code",
      "source": [
        "# test = pipelineModel.transform(spark_test)\n",
        "\n",
        "# test = test.select(F.explode('normalizedDocument.result').alias('text'))\n",
        "\n",
        "# test.write.parquet(\"/content/drive/MyDrive/SparkNLPTask/mtsamples_test.parquet\")"
      ],
      "metadata": {
        "id": "f71wQMStDIG1"
      },
      "execution_count": 16,
      "outputs": []
    },
    {
      "cell_type": "code",
      "source": [
        "test = spark.read.parquet(\"/content/drive/MyDrive/SparkNLPTask/mtsamples_test.parquet\")\n",
        "\n",
        "test = test.filter(test.text != \"\")\n",
        "\n",
        "test.show(truncate=100)"
      ],
      "metadata": {
        "id": "zrY3iWJjWAV6"
      },
      "execution_count": null,
      "outputs": []
    },
    {
      "cell_type": "code",
      "source": [
        "pd.set_option(\"display.max_colwidth\", 3000)\n",
        "\n",
        "preds = prediction_model.transform(test)\n",
        "\n",
        "result_df = preds.select(\"text\",\"class.result\").toPandas()\n",
        "\n",
        "result_df.head(30)"
      ],
      "metadata": {
        "id": "eZNryc4sUtn4",
        "colab": {
          "base_uri": "https://localhost:8080/",
          "height": 1000
        },
        "outputId": "59715265-cbfe-4db1-d104-8096c00c6908"
      },
      "execution_count": 61,
      "outputs": [
        {
          "output_type": "execute_result",
          "data": {
            "text/html": [
              "\n",
              "  <div id=\"df-28f45b4e-2ab2-4664-bdad-ff1a1232430c\">\n",
              "    <div class=\"colab-df-container\">\n",
              "      <div>\n",
              "<style scoped>\n",
              "    .dataframe tbody tr th:only-of-type {\n",
              "        vertical-align: middle;\n",
              "    }\n",
              "\n",
              "    .dataframe tbody tr th {\n",
              "        vertical-align: top;\n",
              "    }\n",
              "\n",
              "    .dataframe thead th {\n",
              "        text-align: right;\n",
              "    }\n",
              "</style>\n",
              "<table border=\"1\" class=\"dataframe\">\n",
              "  <thead>\n",
              "    <tr style=\"text-align: right;\">\n",
              "      <th></th>\n",
              "      <th>text</th>\n",
              "      <th>result</th>\n",
              "    </tr>\n",
              "  </thead>\n",
              "  <tbody>\n",
              "    <tr>\n",
              "      <th>0</th>\n",
              "      <td>PREOPERATIVE DIAGNOSIS: Anemia. PROCEDURE: Upper gastrointestinal endoscopy. POSTOPERATIVE DIAGNOSES: 1. Severe duodenitis. 2. Gastroesophageal junction small ulceration seen. 3. No major bleeding seen in the stomach. PROCEDURE IN DETAIL: The patient was put in left lateral position. Olympus scope was inserted from the mouth, under direct visualization advanced to the upper part of the stomach, upper part of esophagus, middle of esophagus, GE junction, and some intermittent bleeding was seen at the GE junction. Advanced into the upper part of the stomach into the antrum. The duodenum showed extreme duodenitis and the scope was then brought back. Retroflexion was performed, which was normal. Scope was then brought back slowly. Duodenitis was seen and a little bit of ulceration seen at GE junction. FINDING: Severe duodenitis, may be some source of bleeding from there, but no active bleeding at this time.</td>\n",
              "      <td>[Gastroenterology]</td>\n",
              "    </tr>\n",
              "    <tr>\n",
              "      <th>1</th>\n",
              "      <td>CC: Lethargy. HX: This 28y/o RHM was admitted to a local hospital on 7/14/95 for marked lethargy. He had been complaining of intermittent headaches and was noted to have subtle changes in personality for two weeks prior to 7/14/95. On the morning of 7/14/95, his partner found him markedly lethargic and complaingin of abdominal pain and vomiting. He denied fevers, chills, sweats, cough, CP, SOB or diarrhea. Upon evaluation locally, he had a temperature of 99.5F and appeared lethargic. He also had anisocoria with left pupil 0.5mm bigger than the right. There was also question of left facial weakness. An MRI was obtained and revealed a large left hemispheric mass lesion with surrounding edema and mass effect. He was given 10mg of IV Decardron,100gm of IV Mannitol, intubated and hyperventilated and transferred to UIHC. He was admitted to the Department of Medicine on 7/14/95, and transferred to the Department of Neurology on 7/17/95, after being extubated. MEDS ON ADMISSION: Bactrim DS qd, Diflucan 100mg qd, Acyclovir 400mg bid, Xanax, Stavudine 40mg bid, Rifabutin 300mg qd. PMH: 1) surgical correction of pyoloric stenosis, age 1, 2)appendectomy, 3) HIV/AIDS dx 1991. He was initially treated with AZT, then DDI. He developed chronic diarrhea and was switched to D4T in 1/95. However, he developed severe neuropathy and this was stopped 4/95. The diarrhea recured. He has Acyclovir resistant genital herpes and generalized psoriasis. He most recent CD4 count (within 1 month of admission) was 20. FHX: HTN and multiple malignancies of unknown type. SHX: Homosexual, in monogamous relationship with an HIV infected partner for the past 3 years. EXAM: 7/14/95 (by Internal Medicine): BP134/80, HR118, RR16 on vent, 38.2C, Intubated. MS: Somnolent, but opened eyes to loud voices and would follow most commands. CN: Pupils 2.5/3.0 and &amp;quot;equally reactive to light.&amp;quot; Mild horizontal nystagmus on rightward gaze. EOM were otherwise intact. MOTOR: Moved 4 extremities well. Sensory/Coord/Gait/Station/Reflexes: not done. Gen EXAM: Penil ulcerations. EXAM: 7/17/96 (by Neurology): BP144/73, HR59, RR20, 36.0, extubated. MS: Alert and mildly lethargic. Oriented to name only. Thought he was a local hospital and that it was 1/17/1994. Did not understand he had a brain lesion. CN: Pupils 6/5.5 decreasing to 4/4 on exposure to light. EOM were full and smooth. No RAPD or light-near dissociation. papilledema (OU). Right lower facial weakness and intact facial sensation to PP testing. Gag-shrug and corneal responses were intact, bilaterally. Tongue midline. MOTOR: Grade 5- strength on the right side. Sensory: no loss of sensation on PP/VIB/PROP testing. Coord: reduced speed and accuracy on right FNF and right HKS movements. Station: RUE pronator drift. Gait: not done. Reflexes: 2+/2 throughout. Babinski sign present on right and absent on left. Gen Exam: unremarkable except for the genital lesion noted by Internal medicine. COURSE: The outside MRI was reviewed and was not...</td>\n",
              "      <td>[Neurology]</td>\n",
              "    </tr>\n",
              "    <tr>\n",
              "      <th>2</th>\n",
              "      <td>EXAM: Barium enema. CLINICAL HISTORY: A 4-year-old male with a history of encopresis and constipation. TECHNIQUE: A single frontal scout radiograph of the abdomen was performed. A rectal tube was inserted in usual sterile fashion, and retrograde instillation of barium contrast was followed via spot fluoroscopic images. A post-evacuation overhead radiograph of the abdomen was performed. FINDINGS: The scout radiograph demonstrates a nonobstructive gastrointestinal pattern. There are no suspicious calcifications seen or evidence of gross free intraperitoneal air. The visualized lung bases and osseous structures are within normal limits. The rectum and colon is of normal caliber throughout its course. There is no evidence of obstruction, as contrast is seen to flow without difficulty into the right colon and cecum. A small amount of contrast is seen to opacify small bowel loops on the post-evacuation image. There is also opacification of a normal-appearing appendix documented. IMPRESSION: Normal barium enema.</td>\n",
              "      <td>[Gastroenterology]</td>\n",
              "    </tr>\n",
              "    <tr>\n",
              "      <th>3</th>\n",
              "      <td>PROCEDURES: Total knee replacement. PROCEDURE DESCRIPTION: The patient was bought to the operating room and placed in the supine position. After induction of anesthesia, a tourniquet was placed on the upper thigh. Sterile prepping and draping proceeded. The tourniquet was inflated to 300 mmHg. A midline incision was made, centered over the patella. Dissection was sharply carried down through the subcutaneous tissues. A median parapatellar arthrotomy was performed. The lateral patellar retinacular ligaments were released and the patella was retracted laterally. Proximal medial tibia was denuded, with mild release of medial soft tissues. The ACL and PCL were released. The medial and lateral menisci and suprapatellar fat pad were removed. These releases allowed for anterior subluxation of tibia. An extramedullary tibial cutting jig was pinned to the proximal tibia in the appropriate alignment and flush cut was made along tibial plateau, perpendicular to the axis of the tibia. Its alignment was checked with the rod and found to be adequate. The tibia was then allowed to relocate under the femur. An intramedullary hole was drilled into the femur and a femoral rod attached to the anterior cutting block was inserted, and the block was pinned in appropriate position, judging correct rotation using a variety of techniques. An anterior rough cut was made. The distal cutting jig was placed atop this cut surface and pinned to the distal femur, and the rod was removed. The distal cut was performed. A spacer block was placed, and adequate balance in extension was adjusted and confirmed, as was knee alignment. Femoral sizing was performed with the sizer, and the appropriate size femoral 4-in-1 chamfer-cutting block was pinned in place and the cuts were made. The notch-cutting block was pinned to the cut surface, slightly laterally, and the notch cut was then made. The trial femoral component was impacted onto the distal femur and found to have an excellent fit. A trial tibial plate and polyethylene were inserted, and stability was judged and found to be adequate in all planes. Appropriate rotation of the tibial component was identified and marked. The trials were removed and the tibia was brought forward again. The tibial plate size was checked and the plate was pinned to plateau. A keel guide was placed and the keel was then made. The femoral intramedullary hole was plugged with bone from the tibia. The trial tibial component and poly placed; and, after placement of the femoral component, range of motion and stability were checked and found to be adequate in various ranges of flexion and extension. The patella was held in a slightly everted position with knee in extension. Patellar width was checked with calipers. A free-hand cut of the patellar articular surface was performed and checked to ensure symmetry with the calipers. Sizing was then performed and 3 lug holes were drilled with the jig in place, taking care to medialize and superiorize the componen...</td>\n",
              "      <td>[Orthopedic]</td>\n",
              "    </tr>\n",
              "    <tr>\n",
              "      <th>4</th>\n",
              "      <td>PREOPERATIVE DIAGNOSES: 1. Epidural hematoma, cervical spine. 2. Status post cervical laminectomy, C3 through C7 postop day #10. 3. Central cord syndrome. 4. Acute quadriplegia. POSTOPERATIVE DIAGNOSES: 1. Epidural hematoma, cervical spine. 2. Status post cervical laminectomy, C3 through C7 postop day #10. 3. Central cord syndrome. 4. Acute quadriplegia. PROCEDURE PERFORMED: 1. Evacuation of epidural hematoma. 2. Insertion of epidural drain. ANESTHESIA: General. COMPLICATIONS: None. ESTIMATED BLOOD LOSS: 200 cc. HISTORY: This is a 64-year-old female who has had an extensive medical history beginning with coronary artery bypass done on emergent basis while she was in Maryland in April of 2003 after having myocardial infarction. She was then transferred to Beaumont Hospital, at which point, she developed a sternal abscess. The patient was treated for the abscess in Beaumont and then subsequently transferred to some other type of facility near her home in Warren, Michigan at which point, she developed a second what was termed minor myocardial infarction. The patient subsequently recovered in a Cardiac Rehab Facility and approximately two weeks later, brings us to the month of August, at which time she was at home ambulating with a walker or a cane, and then sustained a fall and at that point she was unable to walk and had acute progressive weakness and was identified as having a central cord syndrome based on an MRI, which showed record signal change. The patient underwent cervical laminectomy and seemed to be improving subjectively in terms of neurologic recovery, but objectively there was not much improvement. Approximately 10 days after the surgery, brings us to today's date, the health officer was notified of the patient's labored breathing. When she examined the patient, she also noted that the patient was unable to move her extremities. She was concerned and called the Orthopedic resident who identified the patient to be truly quadriplegic. I was notified and ordered the operative crew to report immediately and recommended emergent decompression for the possibility of an epidural hematoma. On clinical examination, there was swelling in the posterior aspect of the neck. The patient has no active movement in the upper and lower extremity muscle groups. Reflexes are absent in the upper and lower extremities. Long track signs are absent. Sensory level is at the C4 dermatome. Rectal tone is absent. I discussed the findings with the patient and also the daughter. We discussed the possibility of this is permanent quadriplegia, but at this time, the compression of the epidural space was warranted and certainly for exploration reasons be sure that there is a hematoma there and they have agreed to proceed with surgery. They are aware that it is possible she had known permanent neurologic status regardless of my intervention and they have agreed to accept this and has signed the consent form for surgery. OPERATIVE PROCEDURE: The patient was taken to...</td>\n",
              "      <td>[Orthopedic]</td>\n",
              "    </tr>\n",
              "    <tr>\n",
              "      <th>5</th>\n",
              "      <td>The patient was identified. Risks, benefits, and alternatives of the procedure were discussed with the patient. The patient understood, was consented, brought in the procedure room, and connected to the appropriate monitoring devices. Versed and fentanyl were given in divided doses. After appropriate sedation was achieved, a digital rectal examination was done and was normal. A well-lubricated colonoscope was then inserted and advanced under direct visualization to the level of the cecum. A picture was taken at the level of the cecum and the colonoscope was then slowly withdrawn. After the procedure was done, the colonoscope was removed, and the patient was returned to the recovery room in stable condition. There were no complications.</td>\n",
              "      <td>[Gastroenterology]</td>\n",
              "    </tr>\n",
              "    <tr>\n",
              "      <th>6</th>\n",
              "      <td>This is a middle-aged female with two month history of low back pain and leg pain. FINDINGS: Axial scans were performed from L1 to S2 and reformatted images were obtained in the sagittal and coronal planes. Preliminary scout film demonstrates anterior end plate spondylosis at T11-12 and T12-L1. L1-2: There is normal disc height, anterior end plate spondylosis, very minimal vacuum change with no posterior annular disc bulging or protrusion. Normal central canal, intervertebral neural foramina and facet joints (image #4). L2-3: There is mild decreased disc height, anterior end plate spondylosis, circumferential disc protrusion measuring 4.6mm (AP) and right extraforaminal osteophyte disc complex. There is mild non-compressive right neural foraminal narrowing, minimal facet arthrosis, normal central canal and left neural foramen (image #13). L3-4: There is normal disc height, anterior end plate spondylosis, and circumferential non-compressive annular disc bulging. The disc bulging flattens the ventral thecal sac and there is minimal non-compressive right neural foraminal narrowing, minimal to mild facet arthrosis with vacuum change on the right, normal central canal and left neural foramen (image #25). L4-5: There is normal disc height, minimal anterior end plate spondylosis, and posterior non-compressive annular disc bulging. There is minimal narrowing of the lateral recesses of L5, mild to moderate facet arthrosis greater on the right, normal central canal and intervertebral neural foramina (image #35). L5-S1: There is severe loss of disc height with vacuum change, spondylolisthesis with 6.9mm of anterolisthesis of L5 with no disc protrusion. There is mild to moderate neural foraminal stenosis with possible neural impingement greater on the right with elongation of the neural foramina, mild facet arthrosis, and moderate degenerative change at the level of the pars interarticularis defect. Normal central canal (image #39, 40, 42). There is no significant degenerative change at the SI joints. There is moderate arteriosclerotic calcifications in the abdominal aorta and proximal common iliac arteries. IMPRESSION: T11-12, T12-L1 anterior end plate spondylosis. L1-2 anterior end plate spondylosis, and very minimal vacuum change within the disc space. L2-3 loss of disc height, anterior end plate spondylosis, circumferential disc protrusion, right extraforaminal osteophyte disc complex, non-displaced right neural foraminal narrowing, and facet arthrosis. L3-4 anterior end plate spondylosis, circumferential non-compressive annular disc bulging, facet arthrosis, with vacuum change on the right and non-compressive right neural foraminal narrowing. L4-5 anterior end plate spondylosis, posterior annular disc bulging, facet arthrosis and narrowing of the lateral recesses of L5. L5-S1 Grade I spondylolisthesis, advanced degenerative disc disease with vacuum change, neural foraminal stenosis possibly impinging exiting L5 nerve roots, degenerative change at t...</td>\n",
              "      <td>[Radiology]</td>\n",
              "    </tr>\n",
              "    <tr>\n",
              "      <th>7</th>\n",
              "      <td>PROCEDURES PERFORMED: Phenol neurolysis left musculocutaneous nerve and bilateral obturator nerves. Botulinum toxin injection left pectoralis major, left wrist flexors, and bilateral knee extensors. PROCEDURE CODES: 64640 times three, 64614 times four, 95873 times four. PREOPERATIVE DIAGNOSIS: Spastic quadriparesis secondary to traumatic brain injury, 907.0. POSTOPERATIVE DIAGNOSIS: Spastic quadriparesis secondary to traumatic brain injury, 907.0. ANESTHESIA: MAC. COMPLICATIONS: None. DESCRIPTION OF TECHNIQUE: Informed consent was obtained from the patient's brother. The patient was brought to the minor procedure area and sedated per their protocol. The patient was positioned lying supine. Skin overlying all areas injected was prepped with chlorhexidine. The obturator nerves were identified lateral to the adductor longus tendon origin and below the femoral pulse using active EMG stimulation. Approximately 7 mL was injected on the right side and 5 mL on the left side. At all sites of phenol injections in this area injections were done at the site of maximum hip adduction contraction with least amount of stimulus. Negative drawback for blood was done prior to each injection of phenol. The musculocutaneous nerve was identified in the left upper extremity above the brachial pulse using active EMG stimulation. Approximately 5 mL of 5% phenol was injected in this location. Injections in this area were done at the site of maximum elbow flexion contraction with least amount of stimulus. Negative drawback for blood was done prior to each injection of phenol. Muscles injected with botulinum toxin were identified using active EMG stimulation. Approximately 150 units was injected in the knee extensors bilaterally, 100 units in the left pectoralis major, and 50 units in the left wrist flexors. Total amount of botulinum toxin injected was 450 units diluted 25 units to 1 mL. The patient tolerated the procedure well and no complications were encountered.</td>\n",
              "      <td>[Radiology]</td>\n",
              "    </tr>\n",
              "    <tr>\n",
              "      <th>8</th>\n",
              "      <td>CHIEF COMPLAINT: I have blood in my urine. HEMATURIA HISTORY: The patient describes the sudden onset of gross painless hematuria. The character of the urine is red with clots. The hematuria is in the total urinary stream. The patient has urinary symptoms that include hesitancy and urgency. The patient denies any associated abdominal, back, flank, or pelvic pain. No fever or chills have been recorded by the patient with the hematuria. PAST MEDICAL HISTORY: Type II Diabetes Mellitus, on insulin. Chronic sinusitis. Urolithiasis. PAST SURGICAL HISTORY: Appendectomy (1997). Laparoscopic Cholecystectomy (1998). FAMILY MEDICAL HISTORY: The patient's mother with history of Diabetes and breast cancer. OCCUPATIONAL HISTORY: Self employed. SOCIAL HISTORY: Divorced and sexually active. Smokes 1-2 packs/cigarettes per day and drinks alcohol socially. ALLERGIES: Intolerance�s / Antibiotic (s): Keflex. Intolerance/Analgesic (s): Codeine. MEDICATIONS: Diabeta. Insulin. REVIEW OF SYSTEMS: Constitutional: Generally healthy. Weight is stable. The patient is a good historian. Cardiovascular: The patient has no history of any cardiovascular problems and denies any present problems. Gastrointestinal: Patient denies any present or past gastrointestinal problems. Genitourinary: See chief complaint and history of present illness. Endocrine: Diabetes, Type 2 but on insulin supplementation. PHYSICAL EXAMINATION: Constitutional: General Appearance: Healthy, moderately overweight for habitus and anxious. Cardiovascular: Regular heart rate and rhythm without murmur or gallop. Abdomen/Flank: The abdomen is soft without tenderness or palpable masses. The liver and spleen are not palpable. Bowel sounds are active and normal. Genitalia Male: Scrotum: rash consistent with tinea cruris and Angiomata Scroti. Testes: Both testes are normally descended and normal size. Prostate: For age of the patient, the prostate is normal in size and symmetry. The prostate is not tender and there is no palpable induration. Seminal vesicles not palpable. LAB: Chemstix of the urine is positive for 3+non hemolyzed blood and 1+ glucose. Microscopic U/A: 50-100 RBCs. Cystoscopy: A lesion consistent with Transitional Cell Cancer. TC lesion located: dome. IMPRESSION / DIAGNOSIS: Transitional Cell Cancer of the Bladder (188.9). Diabetes, Type II Insulin. (250.00). MEDICATIONS PRESCRIBED: Noroxin 400mg and Detrol 2mg #2 of each. DISCUSSION/TREATMENT PLAN: Explained the diagnosis, possible etiologies, and treatment plan. The patient indicates they understand and agree with the proposed treatment plan. PROCEDURE (S) SCHEDULED: TURBT. Outpatient surgery scheduled at Hospital, 3/10/01.</td>\n",
              "      <td>[Urology]</td>\n",
              "    </tr>\n",
              "    <tr>\n",
              "      <th>9</th>\n",
              "      <td>PREOPERATIVE DIAGNOSIS: Recurring bladder infections with frequency and urge incontinence, not helped with Detrol LA. POSTOPERATIVE DIAGNOSIS: Normal cystoscopy with atrophic vaginitis. PROCEDURE PERFORMED: Flexible cystoscopy. FINDINGS: Atrophic vaginitis. PROCEDURE: The patient was brought in to the procedure suite, prepped and draped in the dorsal lithotomy position. The patient then had flexible scope placed through the urethral meatus and into the bladder. Bladder was systematically scanned noting no suspicious areas of erythema, tumor or foreign body. Significant atrophic vaginitis is noted. IMPRESSION: Atrophic vaginitis with overactive bladder with urge incontinence. PLAN: The patient will try VESIcare 5 mg with Estrace and follow up in approximately 4 weeks.</td>\n",
              "      <td>[Urology]</td>\n",
              "    </tr>\n",
              "    <tr>\n",
              "      <th>10</th>\n",
              "      <td>PROCEDURES: Esophagogastroduodenoscopy and colonoscopy with biopsy and polypectomy. REASON FOR PROCEDURE: Child with abdominal pain and rectal bleeding. Rule out inflammatory bowel disease, allergic enterocolitis, rectal polyps, and rectal vascular malformations. CONSENT: History and physical examination was performed. The procedure, indications, alternatives available, and complications, i.e. bleeding, perforation, infection, adverse medication reaction, the possible need for blood transfusion, and surgery should a complication occur were discussed with the parents who understood and indicated this. Opportunity for questions was provided and informed consent was obtained. MEDICATION: General anesthesia. INSTRUMENT: Olympus GIF-160. COMPLICATIONS: None. FINDINGS: With the patient in the supine position and intubated, the endoscope was inserted without difficulty into the hypopharynx. The esophageal mucosa and vascular pattern appeared normal. The lower esophageal sphincter was located at 25 cm from the central incisors. It appeared normal. A Z-line was identified within the lower esophageal sphincter. The endoscope was advanced into the stomach, which distended with excess air. Rugal folds flattened completely. Gastric mucosa appeared normal throughout. No hiatal hernia was noted. Pyloric valve appeared normal. The endoscope was advanced into the first, second, and third portions of duodenum, which had normal mucosa, coloration, and fold pattern. Biopsies were obtained x2 in the second portion of duodenum, antrum, and distal esophagus at 22 cm from the central incisors for histology. Additional 2 biopsies were obtained for CLO testing in the antrum. Excess air was evacuated from the stomach. The scope was removed from the patient who tolerated that part of procedure well. The patient was turned and the scope was advanced with some difficulty to the terminal ileum. The terminal ileum mucosa and the colonic mucosa throughout was normal except at approximately 10 cm where a 1 x 1 cm pedunculated juvenile-appearing polyp was noted. Biopsies were obtained x2 in the terminal ileum, cecum, ascending colon, transverse colon, descending colon, sigmoid, and rectum. Then, the polyp was snared right at the base of the polyp on the stalk and 20 watts of pure coag was applied in 2-second bursts x3. The polyp was severed. There was no bleeding at the stalk after removal of the polyp head. The polyp head was removed by suction. Excess air was evacuated from the colon. The patient tolerated that part of the procedure well and was taken to recovery in satisfactory condition. Estimated blood loss approximately 5 mL. IMPRESSION: Normal esophagus, stomach, duodenum, and colon as well as terminal ileum except for a 1 x 1-cm rectal polyp, which was removed successfully by polypectomy snare. PLAN: Histologic evaluation and CLO testing. I will contact the parents next week with biopsy results and further management plans will be discussed at that time.</td>\n",
              "      <td>[Gastroenterology]</td>\n",
              "    </tr>\n",
              "    <tr>\n",
              "      <th>11</th>\n",
              "      <td>EXAM:MRI OF THE RIGHT ANKLE CLINICAL:Pain. FINDINGS: The bone marrow demonstrates normal signal intensity. There is no evidence of bone contusion or fracture. There is no evidence of joint effusion. Tendinous structures surrounding the ankle joint are intact. No abnormal mass or fluid collection is seen surrounding the ankle joint. IMPRESSION: NORMAL MRI OF THE RIGHT ANKLE.</td>\n",
              "      <td>[Radiology]</td>\n",
              "    </tr>\n",
              "    <tr>\n",
              "      <th>12</th>\n",
              "      <td>EXAM: CT stone protocol. REASON FOR EXAM: History of stones, rule out stones. TECHNIQUE: Noncontrast CT abdomen and pelvis per renal stone protocol. FINDINGS: Correlation is made with a prior examination dated 01/20/09. Again identified are small intrarenal stones bilaterally. These are unchanged. There is no hydronephrosis or significant ureteral dilatation. There is no stone along the expected course of the ureters or within the bladder. There is a calcification in the low left pelvis not in line with ureter, this finding is stable and is compatible with a phlebolith. There is no asymmetric renal enlargement or perinephric stranding. The appendix is normal. There is no evidence of a pericolonic inflammatory process or small bowel obstruction. Scans through the pelvis disclose no free fluid or adenopathy. Lung bases aside from very mild dependent atelectasis appear clear. Given the lack of contrast, liver, spleen, adrenal glands, and the pancreas are grossly unremarkable. The gallbladder is present. There is no abdominal free fluid or pathologic adenopathy. IMPRESSION: 1. Bilateral intrarenal stones, no obstruction. 2. Normal appendix.</td>\n",
              "      <td>[Radiology]</td>\n",
              "    </tr>\n",
              "    <tr>\n",
              "      <th>13</th>\n",
              "      <td>HISTORY: The patient is a 76-year-old male, with previous history of dysphagia, status post stroke. The patient stated that he was at Hospital, secondary to his stroke, where he had his initial modified barium swallow study. The patient stated that the results of that modified revealed aspiration with thin liquids only. He is currently eating and drinking without difficulty and he feels that he can return to a regular diet with thin liquids. A modified barium swallow study was ordered to objectively evaluate the patient's swallowing function and safety and to rule out aspiration. STUDY: Modified barium swallow study was performed in the radiology suite in cooperation with Dr. X. The patient was seated upright and in a video-imaging chair throughout this assessment. To evaluate the patient's swallowing function and safety, he was administered graduated amounts of liquid and food mixed with barium in the form of thin liquids (teaspoon x3, cup sip x3); nectar-thick liquid (teaspoon x2, cup sip x3); pureed consistency (teaspoon x3); solid consistency (1/4 cracker x1). FINDINGS ORAL STAGE: The patient had no spillage out lips. Oral residual after swallow with increased viscosity requiring multiple swallows to clear oral cavity. The patient has reduced lingual retraction contributing to vallecula pooling after the swallow. Trace premature spillage was noted with thin liquids during this assessment. PHARYNGEAL STAGE: Aspiration noted on cup sips of thin liquid. Trace-to-mild penetration with teaspoon amounts of thin liquid during and after the swallow. The penetration after the swallow occurred secondary to spillage on the piriform sinuses into the laryngeal vestibule. The patient has incomplete laryngeal closure, which allowed the aspiration and penetration with thin liquids. The patient had no aspiration or penetration occur with nectar-thick liquid, puree, and solid food. The patient has a mildly reduced hyolaryngeal elevation and anterior movement that leads to incomplete epiglottic inversion that contributes to vallecula pooling. Mild-to-moderate pooling in the vallecula after the swallow with liquids and puree, this residual did decrease with the solid feed presentation. The patient has mild residual of pooling in the piriform sinuses after a swallow that did clear with sequential swallows. CERVICAL ESOPHAGEAL STAGE: The patient's upper esophageal sphincter opening is well coordinated with swallow and readily accepted the bolus. DIAGNOSTIC IMPRESSION: Mild aspiration with cup sips of thin liquid, penetration during and after the swallow with teaspoon amounts of thin liquid. No aspiration or penetration occurred with thick liquid, pureed, or solid food during this assessment. PROGNOSTIC IMPRESSION: With a modified diet, the patient's potential for swallowing safety is good. PLAN: Based on this evaluation, the following is recommended: 1. The patient should be on a regular diet with nectar-thick liquids to help prevent aspiration and penetratio...</td>\n",
              "      <td>[Gastroenterology]</td>\n",
              "    </tr>\n",
              "    <tr>\n",
              "      <th>14</th>\n",
              "      <td>PROCEDURE:: After informed consent was obtained, the patient was brought to the operating room and placed supine on the operating room table. General endotracheal anesthesia was induced. The patient was then prepped and draped in the usual sterile fashion. An #11 blade scalpel was used to make a small infraumbilical skin incision in the midline. The fascia was elevated between two Ochsner clamps and then incised. A figure-of-eight stitch of 2-0 Vicryl was placed through the fascial edges. The 11-mm port without the trocar engaged was then placed into the abdomen. A pneumoperitoneum was established. After an adequate pneumoperitoneum had been established, the laparoscope was inserted. Three additional ports were placed all under direct vision. An 11-mm port was placed in the epigastric area. Two 5-mm ports were placed in the right upper quadrant. The patient was placed in reverse Trendelenburg position and slightly rotated to the left. The fundus of the gallbladder was retracted superiorly and laterally. The infundibulum was retracted inferiorly and laterally. Electrocautery was used to carefully begin dissection of the peritoneum down around the base of the gallbladder. The triangle of Calot was carefully opened up. The cystic duct was identified heading up into the base of the gallbladder. The cystic artery was also identified within the triangle of Calot. After the triangle of Calot had been carefully dissected, a clip was then placed high up on the cystic duct near its junction with the gallbladder. The cystic artery was clipped twice proximally and once distally. Scissors were then introduced and used to make a small ductotomy in the cystic duct, and the cystic artery was divided. An intraoperative cholangiogram was obtained. This revealed good flow through the cystic duct and into the common bile duct. There was good flow into the duodenum without any filling defects. The hepatic radicals were clearly visualized. The cholangiocatheter was removed, and two clips were then placed distal to the ductotomy on the cystic duct. The cystic duct was then divided using scissors. The gallbladder was then removed up away from the liver bed using electrocautery. The gallbladder was easily removed through the epigastric port site. The liver bed was then irrigated and suctioned. All dissection areas were inspected. They were hemostatic. There was not any bile leakage. All clips were in place. The right gutter up over the edge of the liver was likewise irrigated and suctioned until dry. All ports were then removed under direct vision. The abdominal cavity was allowed to deflate. The fascia at the epigastric port site was closed with a stitch of 2-0 Vicryl. The fascia at the umbilical port was closed by tying the previously placed stitch. All skin incisions were then closed with subcuticular sutures of 4-0 Monocryl and 0.25% Marcaine with epinephrine was infiltrated into all port sites. The patient tolerated the procedure well. The patient is currently ...</td>\n",
              "      <td>[Gastroenterology]</td>\n",
              "    </tr>\n",
              "    <tr>\n",
              "      <th>15</th>\n",
              "      <td>PREOPERATIVE DIAGNOSES: Phimosis and adhesions. POSTOPERATIVE DIAGNOSES: Phimosis and adhesions. PROCEDURES PERFORMED: Circumcision and release of ventral chordee. ANESTHESIA: Local MAC. ESTIMATED BLOOD LOSS: Minimal. FLUIDS: Crystalloid. The patient was given antibiotics preop. BRIEF HISTORY: This is a 43-year-old male who presented to us with significant phimosis, difficulty retracting the foreskin. The patient had buried penis with significant obesity issues in the suprapubic area. Options such as watchful waiting, continuation of slowly retracting the skin, applying betamethasone cream, and circumcision were discussed. Risk of anesthesia, bleeding, infection, pain, MI, DVT, PE, and CVA risks were discussed. The patient had discussed this issue with Dr Khan and had been approved to get off of the Plavix. Consent had been obtained. Risk of scarring, decrease in penile sensation, and unexpected complications were discussed. The patient was told about removing the dressing tomorrow morning, okay to shower after 48 hours, etc. Consent was obtained. DESCRIPTION OF PROCEDURE: The patient was brought to the OR. Anesthesia was applied. The patient was placed in supine position. The patient was prepped and draped in usual sterile fashion. Local MAC anesthesia was applied. After draping, 17 mL of mixture of 0.25% Marcaine and 1% lidocaine plain were applied around the dorsal aspect of the penis for dorsal block. The patient had significant phimosis and slight ventral chordee. Using marking pen, the excess foreskin was marked off. Using a knife, the ventral chordee was released. The urethra was intact. The excess foreskin was removed. Hemostasis was obtained using electrocautery. A 5-0 Monocryl stitches were used for 4 interrupted stitches and horizontal mattresses were done. The patient tolerated the procedure well. There was excellent hemostasis. The penis was straight. Vaseline gauze and Kerlix were applied. The patient was brought to the recovery in stable condition. Plan was for removal of the dressing tomorrow. Okay to shower after 48 hours.</td>\n",
              "      <td>[Urology]</td>\n",
              "    </tr>\n",
              "    <tr>\n",
              "      <th>16</th>\n",
              "      <td>CLINICAL HISTORY: This is a 64-year-old male patient, who had a previous stress test, which was abnormal and hence has been referred for a stress test with imaging for further classification of coronary artery disease and ischemia. PERTINENT MEDICATIONS: Include Tylenol, Robitussin, Colace, Fosamax, multivitamins, hydrochlorothiazide, Protonix and flaxseed oil. With the patient at rest 10.5 mCi of Cardiolite technetium-99 m sestamibi was injected and myocardial perfusion imaging was obtained. PROCEDURE AND INTERPRETATION: The patient exercised for a total of 4 minutes and 41 seconds on the standard Bruce protocol. The peak workload was 7 METs. The resting heart rate was 61 beats per minute and the peak heart rate was 173 beats per minute, which was 85% of the age-predicted maximum heart rate response. The blood pressure response was normal with the resting blood pressure 126/86, and the peak blood pressure of 134/90. EKG at rest showed normal sinus rhythm with a right-bundle branch block. The peak stress EKG was abnormal with 2 mm of ST segment depression in V3 to V6, which remained abnormal till about 6 to 8 minutes into recovery. There were occasional PVCs, but no sustained arrhythmia. The patient had an episode of supraventricular tachycardia at peak stress. The ischemic threshold was at a heart rate of 118 beats per minute and at 4.6 METs. At peak stress, the patient was injected with 30.3 mCi of Cardiolite technetium-99 m sestamibi and myocardial perfusion imaging was obtained, and was compared to resting images. MYOCARDIAL PERFUSION IMAGING: 1. The overall quality of the scan was fair in view of increased abdominal uptake, increased bowel uptake seen. 2. There was a large area of moderate to reduced tracer concentration seen in the inferior wall and the inferior apex. This appeared to be partially reversible in the resting images. 3. The left ventricle appeared normal in size. 4. Gated SPECT images revealed normal wall motion and normal left ventricular systolic function with normal wall thickening. The calculated ejection fraction was 70% at rest. CONCLUSIONS: 1. Average exercise tolerance. 2. Adequate cardiac stress. 3. Abnormal EKG response to stress, consistent with ischemia. No symptoms of chest pain at rest. 4. Myocardial perfusion imaging was abnormal with a large-sized, moderate intensity partially reversible inferior wall and inferior apical defect, consistent with inferior wall ischemia and inferior apical ischemia. 5. The patient had run of SVT at peak stress. 6. Gated SPECT images revealed normal wall motion and normal left ventricular systolic function.</td>\n",
              "      <td>[Radiology]</td>\n",
              "    </tr>\n",
              "    <tr>\n",
              "      <th>17</th>\n",
              "      <td>COMMENTS: 1. The left ventricular cavity size and wall thickness appear normal. The wall motion and left ventricular systolic function appears hyperdynamic with estimated ejection fraction of 70% to 75%. There is near-cavity obliteration seen. There also appears to be increased left ventricular outflow tract gradient at the mid cavity level consistent with hyperdynamic left ventricular systolic function. There is abnormal left ventricular relaxation pattern seen as well as elevated left atrial pressures seen by Doppler examination. 2. The left atrium appears mildly dilated. 3. The right atrium and right ventricle appear normal. 4. The aortic root appears normal. 5. The aortic valve appears calcified with mild aortic valve stenosis, calculated aortic valve area is 1.3 cm square with a maximum instantaneous gradient of 34 and a mean gradient of 19 mm. 6. There is mitral annular calcification extending to leaflets and supportive structures with thickening of mitral valve leaflets with mild mitral regurgitation. 7. The tricuspid valve appears normal with trace tricuspid regurgitation with moderate pulmonary artery hypertension. Estimated pulmonary artery systolic pressure is 49 mmHg. Estimated right atrial pressure of 10 mmHg. 8. The pulmonary valve appears normal with trace pulmonary insufficiency. 9. There is no pericardial effusion or intracardiac mass seen. 10. There is a color Doppler suggestive of a patent foramen ovale with lipomatous hypertrophy of the interatrial septum. 11. The study was somewhat technically limited and hence subtle abnormalities could be missed from the study.</td>\n",
              "      <td>[Radiology]</td>\n",
              "    </tr>\n",
              "    <tr>\n",
              "      <th>18</th>\n",
              "      <td>EXAM:MRI LEFT KNEE WITHOUT CONTRAST CLINICAL:Left knee pain. FINDINGS: Comparison is made with 10/13/05 radiographs. There is a prominent suprapatellar effusion. Patient has increased signal within the medial collateral ligament as well as fluid around it, compatible with type 2 sprain. There is fluid around the lateral collateral ligament without increased signal within the ligament itself, compatible with type 1 sprain. Medial and lateral menisci contain some minimal increased signal centrally that does not extend through an articular surface and findings are felt to represent minimal myxoid degeneration. No tear is seen. Anterior cruciate and posterior cruciate ligaments are intact. There is a bone bruise of medial patellar facet measuring approximately 8 x 5 mm. There is suggestion of some mild posterior aspect of the lateral tibial plateau. MR signal on the bone marrow is otherwise normal. IMPRESSION: Type 2 sprain in the medial collateral ligament and type sprain in the lateral collateral ligament. Joint effusion and bone bruise with suggestion of some minimal overlying chondromalacia and medial patellar facet.</td>\n",
              "      <td>[Radiology]</td>\n",
              "    </tr>\n",
              "    <tr>\n",
              "      <th>19</th>\n",
              "      <td>PREOPERATIVE DIAGNOSIS: Low back pain. POSTOPERATIVE DIAGNOSIS: Low back pain. PROCEDURE PERFORMED: 1. Lumbar discogram L2-3. 2. Lumbar discogram L3-4. 3. Lumbar discogram L4-5. 4. Lumbar discogram L5-S1. ANESTHESIA: IV sedation. PROCEDURE IN DETAIL: The patient was brought to the Radiology Suite and placed prone onto a radiolucent table. The C-arm was brought into the operative field and AP, left right oblique and lateral fluoroscopic images of the L1-2 through L5-S1 levels were obtained. We then proceeded to prepare the low back with a Betadine solution and draped sterile. Using an oblique approach to the spine, the L5-S1 level was addressed using an oblique projection angled C-arm in order to allow for perpendicular penetration of the disc space. A metallic marker was then placed laterally and a needle entrance point was determined. A skin wheal was raised with 1% Xylocaine and an #18-gauge needle was advanced up to the level of the disc space using AP, oblique and lateral fluoroscopic projections. A second needle, #22-gauge 6-inch needle was then introduced into the disc space and with AP and lateral fluoroscopic projections, was placed into the center of the nucleus. We then proceeded to perform a similar placement of needles at the L4-5, L3-4 and L2-3 levels. A solution of Isovue 300 with 1 gm of Ancef was then drawn into a 10 cc syringe and without informing the patient of our injecting, we then proceeded to inject the disc spaces sequentially.</td>\n",
              "      <td>[Radiology]</td>\n",
              "    </tr>\n",
              "    <tr>\n",
              "      <th>20</th>\n",
              "      <td>Date XYZ, M.D. Suite 123, ABC Avenue City, STATE 12345 RE: XXXX, XXXX MR#: 0000000 Dear Dr. XYZ: XXXX was seen in followup in the Pediatric Urology Clinic. I appreciate you speaking with me while he was in clinic. He continues to have abdominal pain, and he had a diuretic renal scan, which indicates no evidence of obstruction and good differential function bilaterally. When I examined him, he seems to indicate that his pain is essentially in the lower abdomen in the suprapubic region; however, on actual physical examination, he seems to complain of pain through his entire right side. His parents have brought up the question of whether this could be gastrointestinal in origin and that is certainly an appropriate consideration. They also feel that since he has been on Detrol, his pain levels have been somewhat worse, and so, I have given them the option of stopping the Detrol initially. I think he should stay on MiraLax for management of his bowels. I would also suggest that he be referred to Pediatric Gastroenterology for evaluation. If they do not find any abnormalities from a gastrointestinal perspective, then the next step would be to endoscope his bladder and then make sure that he does not have any evidence of bladder anatomic abnormalities that is leading to this pain. Thank you for following XXXX along with us in Pediatric Urology Clinic. If you have any questions, please feel free to contact me. Sincerely yours,</td>\n",
              "      <td>[Urology]</td>\n",
              "    </tr>\n",
              "    <tr>\n",
              "      <th>21</th>\n",
              "      <td>PREOPERATIVE DIAGNOSES: 1. Benign prostatic hypertrophy. 2. Urinary retention. POSTOPERATIVE DIAGNOSES: 1. Benign prostatic hypertrophy. 2. Urinary retention. PROCEDURE PERFORMED: 1. Cystourethroscopy. 2. Transurethral resection of prostate (TURP). ANESTHESIA: Spinal. DRAIN: A #24 French three-way Foley catheter. SPECIMENS: Prostatic resection chips. ESTIMATED BLOOD LOSS: 150 cc. DISPOSITION: The patient was transferred to the PACU in stable condition. INDICATIONS AND FINDINGS: This is an 84-year-old male with history of BPH and subsequent urinary retention with failure of trial of void, scheduled for elective TURP procedure. FINDINGS: At the time of surgery, cystourethroscopy revealed trilobar enlargement of the prostate with prostatic varices of the median lobe. Cystoscopy showed a few cellules of the bladder with no obvious bladder tumors noted. DESCRIPTION OF PROCEDURE: After informed consent was obtained, the patient was moved to operating room and spinal anesthesia was induced by the Department of Anesthesia. The patient was prepped and draped in the normal sterile fashion and a #21 French cystoscope inserted into urethra and into the bladder. Cystoscopy performed with the above findings. Cystoscope was removed. A #27 French resectoscope with a #26 cutting loop was inserted into the bladder. Verumontanum was identified as a landmark and systematic transurethral resection of the prostate tissue was undertaken in an circumferential fashion with good resection of tissue completed. ________ irrigator was used to evacuate the bladder of prostatic chips. Resectoscope was then inserted and any residual chips were removed in piecemeal fashion with a resectoscope loop. Any obvious bleeding from the prostatic fossa was controlled with electrocautery. Resectoscope was removed. A #24 French three-way Foley catheter inserted into the urethra and into the bladder. Bladder was irrigated and connected to three-way irrigation. The patient was cleaned and sent to recovery in stable condition to be admitted overnight for continuous bladder irrigation and postop monitoring.</td>\n",
              "      <td>[Urology]</td>\n",
              "    </tr>\n",
              "    <tr>\n",
              "      <th>22</th>\n",
              "      <td>CHIEF COMPLAINT: Worsening seizures. HISTORY OF PRESENT ILLNESS: A pleasant 43-year-old female with past medical history of CP since birth, seizure disorder, complex partial seizure with secondary generalization and on top of generalized epilepsy, hypertension, dyslipidemia, and obesity. The patient stated she was in her normal state of well being when she was experiencing having frequent seizures. She lives in assisted living. She has been falling more frequently. The patient was driving a scooter and apparently was hitting into the wall with unresponsiveness in association with this. There was no head trauma, but apparently she was doing that many times and there was no responsiveness. The patient has no memory of the event. She is now back to her baseline. She states her seizures are worse in the setting of stress, but it is not clear to her why this has occurred. She is on Carbatrol 300 mg b.i.d. and she has been very compliant and without any problems. The patient is admitted for EMU monitoring for the characterization of these episodes and for the possibility of complex partial epilepsy syndrome or better characterization of this current syndrome. PAST MEDICAL HISTORY: Include dyslipidemia and hypertension. FAMILY HISTORY: Positive for stroke and sleep apnea. SOCIAL HISTORY: No smoking or drinking. No drugs. MEDICATIONS AT HOME: Include, Avapro, lisinopril, and dyslipidemia medication, she does not remember. REVIEW OF SYSTEMS: The patient does complain of gasping for air, witnessed apneas, and dry mouth in the morning. The patient also has excessive daytime sleepiness with EDS of 16. PHYSICAL EXAMINATION: VITAL SIGNS: Last blood pressure 130/85, respirations 20, and pulse 70. GENERAL: Normal. NEUROLOGICAL: As follows. Right-handed female, normal orientation, normal recollection to 3 objects. The patient has underlying MR. Speech, no aphasia, no dysarthria. Cranial nerves, funduscopic intact without papilledema. Pupils are equal, round, and reactive to light. Extraocular movements intact. No nystagmus. Her mood is intact. Symmetric face sensation. Symmetric smile and forehead. Intact hearing. Symmetric palate elevation. Symmetric shoulder shrug and tongue midline. Motor 5/5 proximal and distal. The patient does have limp on the right lower extremity. Her Babinski is hyperactive on the left lower extremity, upgoing toes on the left. Sensory, the patient does have sharp, soft touch, vibration intact and symmetric. The patient has trouble with ambulation. She does have ataxia and uses a walker to ambulate. There is no bradykinesia. Romberg is positive to the left. Cerebellar, finger-nose-finger is intact. Rapid alternating movements are intact. Upper airway examination, the patient has a Friedman tongue position with 4 oropharyngeal crowding. Neck more than 16 to 17 inches, BMI elevated above 33. Head and neck circumference very high. IMPRESSION: 1. Cerebral palsy, worsening seizures. 2. Hypertension. 3. Dyslipidemia. 4. Obstructive sleep ...</td>\n",
              "      <td>[Neurology]</td>\n",
              "    </tr>\n",
              "    <tr>\n",
              "      <th>23</th>\n",
              "      <td>PREOPERATIVE DIAGNOSIS: Bladder tumor. POSTOPERATIVE DIAGNOSIS: Bladder tumor. PROCEDURE PERFORMED: Transurethral resection of a medium bladder tumor (TURBT), left lateral wall. ANESTHESIA: Spinal. SPECIMEN TO PATHOLOGY: Bladder tumor and specimen from base of bladder tumor. DRAINS: A 22-French 3-way Foley catheter, 30 mL balloon. ESTIMATED BLOOD LOSS: Minimal. INDICATIONS FOR PROCEDURE: This is a 74-year-old male who presented with microscopic and an episode of gross hematuria. He underwent an IVP, which demonstrated enlarged prostate and normal upper tracts. Cystoscopy in the office demonstrated a 2.5- to 3-cm left lateral wall bladder tumor. He is brought to the operating room for transurethral resection of that bladder tumor. DESCRIPTION OF OPERATION: After preoperative counseling of the patient and his wife, the patient was taken to the operating room and administered a spinal anesthetic. He was placed in lithotomy position and prepped and draped in the usual fashion. Using the visual obturator, the resectoscope was then inserted per urethra into the bladder. The bladder was inspected confirming previous cystoscopic findings of a 2.5- to 3-cm left lateral wall bladder tumor away from the ureteral orifice. Using the resectoscope loop, the tumor was then resected down to its base in a stepwise fashion. Following completion of resection down to the base, the bladder was _______ free of tumor specimen. The resectoscope was then reinserted and the base of the bladder tumor was then resected to get the base of the bladder tumor specimen, this was sent as a separate pathological specimen. Hemostasis was assured with electrocautery. The base of the tumor was then fulgurated again and into the periphery out in the normal mucosa surrounding the base of the bladder tumor. Following completion of the fulguration, there was good hemostasis. The remainder of the bladder was without evidence of significant abnormality. Both ureteral orifices were visualized and noted to drain freely of clear urine. The bladder was filled and the resectoscope was removed. A 22-French 3-way Foley catheter was inserted per urethra into the bladder. The balloon was inflated to 30 mL. The catheter with sterile continuous irrigation and was noted to drain clear irrigant. The patient was then removed from lithotomy position. He was in stable condition.</td>\n",
              "      <td>[Urology]</td>\n",
              "    </tr>\n",
              "    <tr>\n",
              "      <th>24</th>\n",
              "      <td>PREOPERATIVE DIAGNOSES: Nonhealing decubitus ulcer, left ischial region? Osteomyelitis, paraplegia, and history of spina bifida. POSTOPERATIVE DIAGNOSES: Nonhealing decubitus ulcer, left ischial region? Osteomyelitis, paraplegia, and history of spina bifida. PROCEDURE PERFORMED: Debridement left ischial ulcer. ANESTHESIA: Local MAC. INDICATIONS: This is a 27-year-old white male patient, with a history of spina bifida who underwent spinal surgery about two years ago and subsequently he has been paraplegic. The patient has a nonhealing decubitus ulcer in the left ischial region, which is quite deep. It appears to be right down to the bone. MRI shows findings suggestive of osteomyelitis. The patient is being brought to operating room for debridement of this ulcer. Procedure, indication, and risks were explained to the patient. Consent obtained. PROCEDURE IN DETAIL: The patient was put in right lateral position and left buttock and ischial region was prepped and draped. Examination at this time showed fair amount of chronic granulation tissue and scarred tissue circumferentially as well as the base of this decubitus ulcer. This was sharply excised until bleeding and healthy tissue was obtained circumferentially as well as the base. The ulcer does not appear to be going into the bone itself as there was a covering on the bone, which appears to be quite healthy, normal and bone itself appeared solid. I did not rongeur the bone. The deeper portion of the excised tissue was also sent for tissue cultures. Hemostasis was achieved with cautery and the wound was irrigated with sterile saline solution and then packed with medicated Kerlix. Sterile dressing was applied. The patient transferred to recovery room in stable condition.</td>\n",
              "      <td>[Gastroenterology]</td>\n",
              "    </tr>\n",
              "    <tr>\n",
              "      <th>25</th>\n",
              "      <td>PREOPERATIVE DIAGNOSIS: Grade 1 compound fracture, right mid-shaft radius and ulna with complete displacement and shortening. POSTOPERATIVE DIAGNOSIS: Grade 1 compound fracture, right mid-shaft radius and ulna with complete displacement and shortening. OPERATIONS: 1. Irrigation and debridement of skin subcutaneous tissues, muscle, and bone, right forearm. 2. Open reduction, right both bone forearm fracture with placement of long-arm cast. COMPLICATIONS: None. TOURNIQUET: None. ESTIMATED BLOOD LOSS: 25 mL. ANESTHESIA: General. INDICATIONS: The patient suffered injury at which time he fell over a concrete bench. He landed mostly on the right arm. He noted some bleeding at the time of the injury and a small puncture wound. He was taken to the emergency room and diagnosed a compound both bone forearm fracture, and based on this, he was seen for malalignment. He was indicated the above-noted procedure. This procedure as well as alternatives of this procedure was discussed at length with the patient's parents and they understood them well. Risks and benefits were also discussed. Risks such as bleeding, infection, damage to blood vessels, damage to nerve roots, need for further surgeries, chronic pain on full range of motion, risk of continued discomfort, risk of need for repeat debridement, risk of need for internal fixation, risk of blood clots, pulmonary embolism, myocardial infarction, and risk of death were discussed. They understood these well. All questions were answered and they signed the consent for procedure as described. DESCRIPTION OF PROCEDURE: The patient was placed on the operating table and general anesthesia was achieved. The right forearm was inspected. There was noted to be a 3-mm puncture-type wound over the volar aspect of the forearm in the middle one-third overlying the radial one-half. There was bleeding in this region. No gross contamination was seen. At this point, under fluoroscopic control, I did attempt to see a fracture. I was unable to do the forearm under the close reduction techniques. At this point, the right upper extremity was then prepped and draped in the usual sterile manner. An incision was made through the puncture wound site extending this proximally and distally. There was noted to be some slight amount of nonviable tissue at the skin edge and debridement was required and performed. I also did perform a light debridement of the nonviable subcutaneous tissue, muscle, and small bony fragments were also removed. These were all completely debrided appropriately and then at this point, a thorough irrigation was performed of the radius, which I communicated through the puncture wound. Both ends were clearly visualized, and thorough irrigation was performed using total of 6 L of antibiotic solution. All nonviable gross contaminated tissue was removed. At this point with the bones in direct visualization, I did reduce the bony ends to anatomic alignment with excellent bony approximation. Proper alignment of tissu...</td>\n",
              "      <td>[Orthopedic]</td>\n",
              "    </tr>\n",
              "    <tr>\n",
              "      <th>26</th>\n",
              "      <td>ADMISSION DIAGNOSIS: Left hip fracture. CHIEF COMPLAINT: Diminished function, secondary to the above. HISTORY: This pleasant 70-year-old gentleman had a ground-level fall at home on 05/05/03 and was brought into ABCD Medical Center, evaluated by Dr. X and brought in for orthopedic stay. He had left hip fracture identified on x-rays at that time. Pain and inability to ambulate brought him in. He was evaluated and then underwent medical consultation as well, where they found a history of resolving pneumonia, hypertension, chronic obstructive pulmonary disease, congestive heart failure, hypothyroidism, depression, anxiety, seizure and chronic renal failure, as well as anemia. His medical issues are under good control. The patient underwent left femoral neck fixation with hemiarthroplasty on that left side on 05/06/03. The patient has had some medical issues including respiratory insufficiency, perioperative anemia, pneumonia, and hypertension. Cardiology has followed closely, and the patient has responded well to medical treatment, as well as physical therapy and occupational therapy. He is gradually tolerating more activities with less difficulties, made good progress and tolerated more consistent and more prolonged interventions. PAST MEDICAL HISTORY: Positive for congestive heart failure, chronic renal insufficiency, azotemia, hyperglycemia, coronary artery disease, history of paroxysmal atrial fibrillation. Remote history of subdural hematoma precluding the use of Coumadin. History of depression, panic attacks on Doxepin. Perioperative anemia. Swallowing difficulties. ALLERGIES: Zyloprim, penicillin, Vioxx, NSAIDs. CURRENT MEDICATIONS 1. Heparin. 2. Albuterol inhaler. 3. Combivent. 4. Aldactone. 5. Doxepin. 6. Xanax. 7. Aspirin. 8. Amiodarone. 9. Tegretol. 10. Synthroid. 11. Colace. SOCIAL HISTORY: Lives in a 1-story home with 1 step down; wife is there. Speech and language pathology following with current swallowing dysfunction. He is minimum assist for activities of daily living, bed mobility. REVIEW OF SYSTEMS: Currently negative for headache, nausea and vomiting, fevers, chills or shortness of breath or chest pain. PHYSICAL EXAMINATION HEENT: Oropharynx clear. CV: Regular rate and rhythm without murmurs, rubs or gallops. LUNGS: Clear to auscultation bilaterally. ABDOMEN: Nontender, nondistended. Bowel sounds positive. EXTREMITIES: Without clubbing, cyanosis, or edema. NEUROLOGIC: There are no focal motor or sensory losses to the lower extremities. Bulk and tone normal in the lower extremities. Wound site has healed well with staples out. IMPRESSION 1. Status post left hip fracture and hemiarthroplasty. 2. History of panic attack, anxiety, depression. 3. Myocardial infarction with stent placement. 4. Hypertension. 5. Hypothyroidism. 6. Subdural hematoma. 7. Seizures. 8. History of chronic obstructive pulmonary disease. Recent respiratory insufficiency. 9. Renal insufficiency. 10. Recent pneumonia. 11. O2 requiring. 12. Perioperative anem...</td>\n",
              "      <td>[Neurology]</td>\n",
              "    </tr>\n",
              "    <tr>\n",
              "      <th>27</th>\n",
              "      <td>DOBUTAMINE STRESS ECHOCARDIOGRAM REASON FOR EXAM: Chest discomfort, evaluation for coronary artery disease. PROCEDURE IN DETAIL: The patient was brought to the cardiac center. Cardiac images at rest were obtained in the parasternal long and short axis, apical four and apical two views followed by starting with a dobutamine drip in the usual fashion at 10 mcg/kg per minute for low dose, increased every 2 to 3 minutes by 10 mcg/kg per minute. The patient maximized at 30 mcg/kg per minute. Images were obtained at that level after adding 0.7 mg of atropine to reach maximal heart rate of 145. Maximal images were obtained in the same windows of parasternal long and short axis, apical four and apical two windows. Wall motion assessed at all levels as well as at recovery. The patient got nauseated, had some mild shortness of breath. No angina during the procedure and the maximal amount of dobutamine was 30 mcg/kg per minute. The resting heart rate was 78 with the resting blood pressure 186/98. Heart rate reduced by the vasodilator effects of dobutamine to 130/80. Maximal heart rate achieved was 145, which is 85% of age-predicted heart rate. The EKG at rest showed sinus rhythm with no ST-T wave depression suggestive of ischemia or injury. Incomplete right bundle-branch block was seen. The maximal stress test EKG showed sinus tachycardia. There was subtle upsloping ST depression in III and aVF, which is a normal response to the tachycardia with dobutamine, but no significant depression suggestive of ischemia and no ST elevation seen. No ventricular tachycardia or ventricular ectopy seen during the test. The heart rate recovered in a normal fashion after using metoprolol 5 mg. The heart images were somewhat suboptimal to evaluate because of obesity and some problems with the short axis windows mainly at peak exercise. The EF at rest appeared to be normal at 55 to 60 with normal wall motion including anterior, anteroseptal, inferior, lateral, and septal walls at low dose. All walls mentioned were augmented in a normal fashion. At maximum dose, all walls were augmented on all views except for the short axis was foreshortened, was uncertain about the anterolateral wall at peak exercise; however, of the other views, the lateral wall was showing normal thickening and normal augmentation. EF improved to about 70%. The wall motion score was unchanged. IMPRESSION: 1. Maximal dobutamine stress echocardiogram test achieving more than 85% of age-predicted heart rate. 2. Negative EKG criteria for ischemia. 3. Normal augmentation at low and maximum stress test with some uncertainty about the anterolateral wall in peak exercise only on the short axis view. This is considered the negative dobutamine stress echocardiogram test, medical management.</td>\n",
              "      <td>[Radiology]</td>\n",
              "    </tr>\n",
              "    <tr>\n",
              "      <th>28</th>\n",
              "      <td>Informed consent was obtained after explanation of the procedure, as well as risk factors of bleeding, perforation, adverse medication reaction. The patient was placed in the left lateral decubitus position, medicated with the above medications to achieve and maintain a conscious sedation. Vital signs were monitored throughout the procedure without evidence of hemodynamic compromise or desaturation. The Olympus single-channel endoscope was passed under direct visualization through the oral cavity and advanced to the second portion of the duodenum. FINDINGS: ESOPHAGUS: Proximal and mid esophagus were without abnormalities. STOMACH: Insufflated and retroflexed visualization of the gastric cavity revealed DUODENUM: Normal.</td>\n",
              "      <td>[Gastroenterology]</td>\n",
              "    </tr>\n",
              "    <tr>\n",
              "      <th>29</th>\n",
              "      <td>PREOPERATIVE DIAGNOSIS: Recurrent degenerative spondylolisthesis and stenosis at L4-5 and L5-S1 with L3 compression fracture adjacent to an instrumented fusion from T11 through L2 with hardware malfunction distal at the L2 end of the hardware fixation. POSTOPERATIVE DIAGNOSIS: Recurrent degenerative spondylolisthesis and stenosis at L4-5 and L5-S1 with L3 compression fracture adjacent to an instrumented fusion from T11 through L2 with hardware malfunction distal at the L2 end of the hardware fixation. PROCEDURE: Lumbar re-exploration for removal of fractured internal fixation plate from T11 through L2 followed by a repositioning of the L2 pedicle screws and evaluation of the fusion from T11 through L2 followed by a bilateral hemilaminectomy and diskectomy for decompression at L4-5 and L5-S1 with posterior lumbar interbody fusion using morselized autograft bone and the synthetic spacers from the Capstone system at L4-5 and L5-S1 followed by placement of the pedicle screw fixation devices at L3, L4, L5, and S1 and insertion of a 20 cm fixation plate that range from the T11 through S1 levels and then subsequent onlay fusion using morselized autograft bone and bone morphogenetic soaked sponge at L1-2 and then at L3-L4, L4-L5, and L5-S1 bilaterally. DESCRIPTION OF PROCEDURE: This is a 68-year-old lady who presents with a history of osteomyelitis associated with the percutaneous vertebroplasty that was actually treated several months ago with removal of the infected vertebral augmentation and placement of a posterior pedicle screw plate fixation device from T11 through L2. She subsequently actually done reasonably well until about a month ago when she developed progressive severe intractable pain. Imaging study showed that the distal hardware at the plate itself had fractured consistent with incomplete fusion across her osteomyelitis area. There was no evidence of infection on the imaging or with her laboratory studies. In addition, she developed a pretty profound stenosis at L4-L5 and L5-S1 that appeared to be recurrent as well. She now presents for revision of her hardware, extension of fusion, and decompression. The patient was brought to the operating room, placed under satisfactory general endotracheal anesthesia. She was placed on the operative table in the prone position. Back was prepared with Betadine, iodine, and alcohol. We elliptically excised her old incision and extended this caudally so that we had access from the existing hardware fixation all the way down to her sacrum. The locking nuts were removed from the screw post and both plates refractured or significantly weakened and had a crease in it. After these were removed, it was obvious that the bottom screws were somewhat loosened in the pedicle zone so we actually tightened one up and that fit good snugly into the nail when we redirected so that it actually reamed up into the upper aspect of the vertebral body in much more secure purchase. We then dressed the L4-L5 and L5-S1 leve...</td>\n",
              "      <td>[Orthopedic]</td>\n",
              "    </tr>\n",
              "  </tbody>\n",
              "</table>\n",
              "</div>\n",
              "      <button class=\"colab-df-convert\" onclick=\"convertToInteractive('df-28f45b4e-2ab2-4664-bdad-ff1a1232430c')\"\n",
              "              title=\"Convert this dataframe to an interactive table.\"\n",
              "              style=\"display:none;\">\n",
              "        \n",
              "  <svg xmlns=\"http://www.w3.org/2000/svg\" height=\"24px\"viewBox=\"0 0 24 24\"\n",
              "       width=\"24px\">\n",
              "    <path d=\"M0 0h24v24H0V0z\" fill=\"none\"/>\n",
              "    <path d=\"M18.56 5.44l.94 2.06.94-2.06 2.06-.94-2.06-.94-.94-2.06-.94 2.06-2.06.94zm-11 1L8.5 8.5l.94-2.06 2.06-.94-2.06-.94L8.5 2.5l-.94 2.06-2.06.94zm10 10l.94 2.06.94-2.06 2.06-.94-2.06-.94-.94-2.06-.94 2.06-2.06.94z\"/><path d=\"M17.41 7.96l-1.37-1.37c-.4-.4-.92-.59-1.43-.59-.52 0-1.04.2-1.43.59L10.3 9.45l-7.72 7.72c-.78.78-.78 2.05 0 2.83L4 21.41c.39.39.9.59 1.41.59.51 0 1.02-.2 1.41-.59l7.78-7.78 2.81-2.81c.8-.78.8-2.07 0-2.86zM5.41 20L4 18.59l7.72-7.72 1.47 1.35L5.41 20z\"/>\n",
              "  </svg>\n",
              "      </button>\n",
              "      \n",
              "  <style>\n",
              "    .colab-df-container {\n",
              "      display:flex;\n",
              "      flex-wrap:wrap;\n",
              "      gap: 12px;\n",
              "    }\n",
              "\n",
              "    .colab-df-convert {\n",
              "      background-color: #E8F0FE;\n",
              "      border: none;\n",
              "      border-radius: 50%;\n",
              "      cursor: pointer;\n",
              "      display: none;\n",
              "      fill: #1967D2;\n",
              "      height: 32px;\n",
              "      padding: 0 0 0 0;\n",
              "      width: 32px;\n",
              "    }\n",
              "\n",
              "    .colab-df-convert:hover {\n",
              "      background-color: #E2EBFA;\n",
              "      box-shadow: 0px 1px 2px rgba(60, 64, 67, 0.3), 0px 1px 3px 1px rgba(60, 64, 67, 0.15);\n",
              "      fill: #174EA6;\n",
              "    }\n",
              "\n",
              "    [theme=dark] .colab-df-convert {\n",
              "      background-color: #3B4455;\n",
              "      fill: #D2E3FC;\n",
              "    }\n",
              "\n",
              "    [theme=dark] .colab-df-convert:hover {\n",
              "      background-color: #434B5C;\n",
              "      box-shadow: 0px 1px 3px 1px rgba(0, 0, 0, 0.15);\n",
              "      filter: drop-shadow(0px 1px 2px rgba(0, 0, 0, 0.3));\n",
              "      fill: #FFFFFF;\n",
              "    }\n",
              "  </style>\n",
              "\n",
              "      <script>\n",
              "        const buttonEl =\n",
              "          document.querySelector('#df-28f45b4e-2ab2-4664-bdad-ff1a1232430c button.colab-df-convert');\n",
              "        buttonEl.style.display =\n",
              "          google.colab.kernel.accessAllowed ? 'block' : 'none';\n",
              "\n",
              "        async function convertToInteractive(key) {\n",
              "          const element = document.querySelector('#df-28f45b4e-2ab2-4664-bdad-ff1a1232430c');\n",
              "          const dataTable =\n",
              "            await google.colab.kernel.invokeFunction('convertToInteractive',\n",
              "                                                     [key], {});\n",
              "          if (!dataTable) return;\n",
              "\n",
              "          const docLinkHtml = 'Like what you see? Visit the ' +\n",
              "            '<a target=\"_blank\" href=https://colab.research.google.com/notebooks/data_table.ipynb>data table notebook</a>'\n",
              "            + ' to learn more about interactive tables.';\n",
              "          element.innerHTML = '';\n",
              "          dataTable['output_type'] = 'display_data';\n",
              "          await google.colab.output.renderOutput(dataTable, element);\n",
              "          const docLink = document.createElement('div');\n",
              "          docLink.innerHTML = docLinkHtml;\n",
              "          element.appendChild(docLink);\n",
              "        }\n",
              "      </script>\n",
              "    </div>\n",
              "  </div>\n",
              "  "
            ],
            "text/plain": [
              "                                                                                                                                                                                                                                                                                                                                                                                                                                                                                                                                                                                                                                                                                                                                                                                                                                                                                                                                                                                                                                                                                                                                                                                                                                                                                                                                                                                                                                                                                                                                                                                                                                                                                                                                                                                                                                                                                                                                                                                                                                                                                                                                                                                                                                                                                                                                                                                                                                                                                                                                                                                                                                                                                                                                                                                                                                                                                                                                                                                                                                                                                                                       text              result\n",
              "0                                                                                                                                                                                                                                                                                                                                                                                                                                                                                                                                                                                                                                                                                                                                                                                                                                                                                                                                                                                                                                                                                                                                                                                                                                                                                                                                                                                                                                                                                                                                                                                                                                                                                                                                                                                                                                                                                                                                                                                                                                                                                                                                                                       PREOPERATIVE DIAGNOSIS: Anemia. PROCEDURE: Upper gastrointestinal endoscopy. POSTOPERATIVE DIAGNOSES: 1. Severe duodenitis. 2. Gastroesophageal junction small ulceration seen. 3. No major bleeding seen in the stomach. PROCEDURE IN DETAIL: The patient was put in left lateral position. Olympus scope was inserted from the mouth, under direct visualization advanced to the upper part of the stomach, upper part of esophagus, middle of esophagus, GE junction, and some intermittent bleeding was seen at the GE junction. Advanced into the upper part of the stomach into the antrum. The duodenum showed extreme duodenitis and the scope was then brought back. Retroflexion was performed, which was normal. Scope was then brought back slowly. Duodenitis was seen and a little bit of ulceration seen at GE junction. FINDING: Severe duodenitis, may be some source of bleeding from there, but no active bleeding at this time.  [Gastroenterology]\n",
              "1    CC: Lethargy. HX: This 28y/o RHM was admitted to a local hospital on 7/14/95 for marked lethargy. He had been complaining of intermittent headaches and was noted to have subtle changes in personality for two weeks prior to 7/14/95. On the morning of 7/14/95, his partner found him markedly lethargic and complaingin of abdominal pain and vomiting. He denied fevers, chills, sweats, cough, CP, SOB or diarrhea. Upon evaluation locally, he had a temperature of 99.5F and appeared lethargic. He also had anisocoria with left pupil 0.5mm bigger than the right. There was also question of left facial weakness. An MRI was obtained and revealed a large left hemispheric mass lesion with surrounding edema and mass effect. He was given 10mg of IV Decardron,100gm of IV Mannitol, intubated and hyperventilated and transferred to UIHC. He was admitted to the Department of Medicine on 7/14/95, and transferred to the Department of Neurology on 7/17/95, after being extubated. MEDS ON ADMISSION: Bactrim DS qd, Diflucan 100mg qd, Acyclovir 400mg bid, Xanax, Stavudine 40mg bid, Rifabutin 300mg qd. PMH: 1) surgical correction of pyoloric stenosis, age 1, 2)appendectomy, 3) HIV/AIDS dx 1991. He was initially treated with AZT, then DDI. He developed chronic diarrhea and was switched to D4T in 1/95. However, he developed severe neuropathy and this was stopped 4/95. The diarrhea recured. He has Acyclovir resistant genital herpes and generalized psoriasis. He most recent CD4 count (within 1 month of admission) was 20. FHX: HTN and multiple malignancies of unknown type. SHX: Homosexual, in monogamous relationship with an HIV infected partner for the past 3 years. EXAM: 7/14/95 (by Internal Medicine): BP134/80, HR118, RR16 on vent, 38.2C, Intubated. MS: Somnolent, but opened eyes to loud voices and would follow most commands. CN: Pupils 2.5/3.0 and &quot;equally reactive to light.&quot; Mild horizontal nystagmus on rightward gaze. EOM were otherwise intact. MOTOR: Moved 4 extremities well. Sensory/Coord/Gait/Station/Reflexes: not done. Gen EXAM: Penil ulcerations. EXAM: 7/17/96 (by Neurology): BP144/73, HR59, RR20, 36.0, extubated. MS: Alert and mildly lethargic. Oriented to name only. Thought he was a local hospital and that it was 1/17/1994. Did not understand he had a brain lesion. CN: Pupils 6/5.5 decreasing to 4/4 on exposure to light. EOM were full and smooth. No RAPD or light-near dissociation. papilledema (OU). Right lower facial weakness and intact facial sensation to PP testing. Gag-shrug and corneal responses were intact, bilaterally. Tongue midline. MOTOR: Grade 5- strength on the right side. Sensory: no loss of sensation on PP/VIB/PROP testing. Coord: reduced speed and accuracy on right FNF and right HKS movements. Station: RUE pronator drift. Gait: not done. Reflexes: 2+/2 throughout. Babinski sign present on right and absent on left. Gen Exam: unremarkable except for the genital lesion noted by Internal medicine. COURSE: The outside MRI was reviewed and was not...         [Neurology]\n",
              "2                                                                                                                                                                                                                                                                                                                                                                                                                                                                                                                                                                                                                                                                                                                                                                                                                                                                                                                                                                                                                                                                                                                                                                                                                                                                                                                                                                                                                                                                                                                                                                                                                                                                                                                                                                                                                                                                                                                                                                                                                                                              EXAM: Barium enema. CLINICAL HISTORY: A 4-year-old male with a history of encopresis and constipation. TECHNIQUE: A single frontal scout radiograph of the abdomen was performed. A rectal tube was inserted in usual sterile fashion, and retrograde instillation of barium contrast was followed via spot fluoroscopic images. A post-evacuation overhead radiograph of the abdomen was performed. FINDINGS: The scout radiograph demonstrates a nonobstructive gastrointestinal pattern. There are no suspicious calcifications seen or evidence of gross free intraperitoneal air. The visualized lung bases and osseous structures are within normal limits. The rectum and colon is of normal caliber throughout its course. There is no evidence of obstruction, as contrast is seen to flow without difficulty into the right colon and cecum. A small amount of contrast is seen to opacify small bowel loops on the post-evacuation image. There is also opacification of a normal-appearing appendix documented. IMPRESSION: Normal barium enema.  [Gastroenterology]\n",
              "3    PROCEDURES: Total knee replacement. PROCEDURE DESCRIPTION: The patient was bought to the operating room and placed in the supine position. After induction of anesthesia, a tourniquet was placed on the upper thigh. Sterile prepping and draping proceeded. The tourniquet was inflated to 300 mmHg. A midline incision was made, centered over the patella. Dissection was sharply carried down through the subcutaneous tissues. A median parapatellar arthrotomy was performed. The lateral patellar retinacular ligaments were released and the patella was retracted laterally. Proximal medial tibia was denuded, with mild release of medial soft tissues. The ACL and PCL were released. The medial and lateral menisci and suprapatellar fat pad were removed. These releases allowed for anterior subluxation of tibia. An extramedullary tibial cutting jig was pinned to the proximal tibia in the appropriate alignment and flush cut was made along tibial plateau, perpendicular to the axis of the tibia. Its alignment was checked with the rod and found to be adequate. The tibia was then allowed to relocate under the femur. An intramedullary hole was drilled into the femur and a femoral rod attached to the anterior cutting block was inserted, and the block was pinned in appropriate position, judging correct rotation using a variety of techniques. An anterior rough cut was made. The distal cutting jig was placed atop this cut surface and pinned to the distal femur, and the rod was removed. The distal cut was performed. A spacer block was placed, and adequate balance in extension was adjusted and confirmed, as was knee alignment. Femoral sizing was performed with the sizer, and the appropriate size femoral 4-in-1 chamfer-cutting block was pinned in place and the cuts were made. The notch-cutting block was pinned to the cut surface, slightly laterally, and the notch cut was then made. The trial femoral component was impacted onto the distal femur and found to have an excellent fit. A trial tibial plate and polyethylene were inserted, and stability was judged and found to be adequate in all planes. Appropriate rotation of the tibial component was identified and marked. The trials were removed and the tibia was brought forward again. The tibial plate size was checked and the plate was pinned to plateau. A keel guide was placed and the keel was then made. The femoral intramedullary hole was plugged with bone from the tibia. The trial tibial component and poly placed; and, after placement of the femoral component, range of motion and stability were checked and found to be adequate in various ranges of flexion and extension. The patella was held in a slightly everted position with knee in extension. Patellar width was checked with calipers. A free-hand cut of the patellar articular surface was performed and checked to ensure symmetry with the calipers. Sizing was then performed and 3 lug holes were drilled with the jig in place, taking care to medialize and superiorize the componen...        [Orthopedic]\n",
              "4    PREOPERATIVE DIAGNOSES: 1. Epidural hematoma, cervical spine. 2. Status post cervical laminectomy, C3 through C7 postop day #10. 3. Central cord syndrome. 4. Acute quadriplegia. POSTOPERATIVE DIAGNOSES: 1. Epidural hematoma, cervical spine. 2. Status post cervical laminectomy, C3 through C7 postop day #10. 3. Central cord syndrome. 4. Acute quadriplegia. PROCEDURE PERFORMED: 1. Evacuation of epidural hematoma. 2. Insertion of epidural drain. ANESTHESIA: General. COMPLICATIONS: None. ESTIMATED BLOOD LOSS: 200 cc. HISTORY: This is a 64-year-old female who has had an extensive medical history beginning with coronary artery bypass done on emergent basis while she was in Maryland in April of 2003 after having myocardial infarction. She was then transferred to Beaumont Hospital, at which point, she developed a sternal abscess. The patient was treated for the abscess in Beaumont and then subsequently transferred to some other type of facility near her home in Warren, Michigan at which point, she developed a second what was termed minor myocardial infarction. The patient subsequently recovered in a Cardiac Rehab Facility and approximately two weeks later, brings us to the month of August, at which time she was at home ambulating with a walker or a cane, and then sustained a fall and at that point she was unable to walk and had acute progressive weakness and was identified as having a central cord syndrome based on an MRI, which showed record signal change. The patient underwent cervical laminectomy and seemed to be improving subjectively in terms of neurologic recovery, but objectively there was not much improvement. Approximately 10 days after the surgery, brings us to today's date, the health officer was notified of the patient's labored breathing. When she examined the patient, she also noted that the patient was unable to move her extremities. She was concerned and called the Orthopedic resident who identified the patient to be truly quadriplegic. I was notified and ordered the operative crew to report immediately and recommended emergent decompression for the possibility of an epidural hematoma. On clinical examination, there was swelling in the posterior aspect of the neck. The patient has no active movement in the upper and lower extremity muscle groups. Reflexes are absent in the upper and lower extremities. Long track signs are absent. Sensory level is at the C4 dermatome. Rectal tone is absent. I discussed the findings with the patient and also the daughter. We discussed the possibility of this is permanent quadriplegia, but at this time, the compression of the epidural space was warranted and certainly for exploration reasons be sure that there is a hematoma there and they have agreed to proceed with surgery. They are aware that it is possible she had known permanent neurologic status regardless of my intervention and they have agreed to accept this and has signed the consent form for surgery. OPERATIVE PROCEDURE: The patient was taken to...        [Orthopedic]\n",
              "5                                                                                                                                                                                                                                                                                                                                                                                                                                                                                                                                                                                                                                                                                                                                                                                                                                                                                                                                                                                                                                                                                                                                                                                                                                                                                                                                                                                                                                                                                                                                                                                                                                                                                                                                                                                                                                                                                                                                                                                                                                                                                                                                                                                                                                                                                                                                                 The patient was identified. Risks, benefits, and alternatives of the procedure were discussed with the patient. The patient understood, was consented, brought in the procedure room, and connected to the appropriate monitoring devices. Versed and fentanyl were given in divided doses. After appropriate sedation was achieved, a digital rectal examination was done and was normal. A well-lubricated colonoscope was then inserted and advanced under direct visualization to the level of the cecum. A picture was taken at the level of the cecum and the colonoscope was then slowly withdrawn. After the procedure was done, the colonoscope was removed, and the patient was returned to the recovery room in stable condition. There were no complications.  [Gastroenterology]\n",
              "6    This is a middle-aged female with two month history of low back pain and leg pain. FINDINGS: Axial scans were performed from L1 to S2 and reformatted images were obtained in the sagittal and coronal planes. Preliminary scout film demonstrates anterior end plate spondylosis at T11-12 and T12-L1. L1-2: There is normal disc height, anterior end plate spondylosis, very minimal vacuum change with no posterior annular disc bulging or protrusion. Normal central canal, intervertebral neural foramina and facet joints (image #4). L2-3: There is mild decreased disc height, anterior end plate spondylosis, circumferential disc protrusion measuring 4.6mm (AP) and right extraforaminal osteophyte disc complex. There is mild non-compressive right neural foraminal narrowing, minimal facet arthrosis, normal central canal and left neural foramen (image #13). L3-4: There is normal disc height, anterior end plate spondylosis, and circumferential non-compressive annular disc bulging. The disc bulging flattens the ventral thecal sac and there is minimal non-compressive right neural foraminal narrowing, minimal to mild facet arthrosis with vacuum change on the right, normal central canal and left neural foramen (image #25). L4-5: There is normal disc height, minimal anterior end plate spondylosis, and posterior non-compressive annular disc bulging. There is minimal narrowing of the lateral recesses of L5, mild to moderate facet arthrosis greater on the right, normal central canal and intervertebral neural foramina (image #35). L5-S1: There is severe loss of disc height with vacuum change, spondylolisthesis with 6.9mm of anterolisthesis of L5 with no disc protrusion. There is mild to moderate neural foraminal stenosis with possible neural impingement greater on the right with elongation of the neural foramina, mild facet arthrosis, and moderate degenerative change at the level of the pars interarticularis defect. Normal central canal (image #39, 40, 42). There is no significant degenerative change at the SI joints. There is moderate arteriosclerotic calcifications in the abdominal aorta and proximal common iliac arteries. IMPRESSION: T11-12, T12-L1 anterior end plate spondylosis. L1-2 anterior end plate spondylosis, and very minimal vacuum change within the disc space. L2-3 loss of disc height, anterior end plate spondylosis, circumferential disc protrusion, right extraforaminal osteophyte disc complex, non-displaced right neural foraminal narrowing, and facet arthrosis. L3-4 anterior end plate spondylosis, circumferential non-compressive annular disc bulging, facet arthrosis, with vacuum change on the right and non-compressive right neural foraminal narrowing. L4-5 anterior end plate spondylosis, posterior annular disc bulging, facet arthrosis and narrowing of the lateral recesses of L5. L5-S1 Grade I spondylolisthesis, advanced degenerative disc disease with vacuum change, neural foraminal stenosis possibly impinging exiting L5 nerve roots, degenerative change at t...         [Radiology]\n",
              "7                                                                                                                                                                                                                                                                                                                                                                                                                                                                                                                                                                                                                                                                                                                                                                                                                                                                                                                                                                                                                                                                      PROCEDURES PERFORMED: Phenol neurolysis left musculocutaneous nerve and bilateral obturator nerves. Botulinum toxin injection left pectoralis major, left wrist flexors, and bilateral knee extensors. PROCEDURE CODES: 64640 times three, 64614 times four, 95873 times four. PREOPERATIVE DIAGNOSIS: Spastic quadriparesis secondary to traumatic brain injury, 907.0. POSTOPERATIVE DIAGNOSIS: Spastic quadriparesis secondary to traumatic brain injury, 907.0. ANESTHESIA: MAC. COMPLICATIONS: None. DESCRIPTION OF TECHNIQUE: Informed consent was obtained from the patient's brother. The patient was brought to the minor procedure area and sedated per their protocol. The patient was positioned lying supine. Skin overlying all areas injected was prepped with chlorhexidine. The obturator nerves were identified lateral to the adductor longus tendon origin and below the femoral pulse using active EMG stimulation. Approximately 7 mL was injected on the right side and 5 mL on the left side. At all sites of phenol injections in this area injections were done at the site of maximum hip adduction contraction with least amount of stimulus. Negative drawback for blood was done prior to each injection of phenol. The musculocutaneous nerve was identified in the left upper extremity above the brachial pulse using active EMG stimulation. Approximately 5 mL of 5% phenol was injected in this location. Injections in this area were done at the site of maximum elbow flexion contraction with least amount of stimulus. Negative drawback for blood was done prior to each injection of phenol. Muscles injected with botulinum toxin were identified using active EMG stimulation. Approximately 150 units was injected in the knee extensors bilaterally, 100 units in the left pectoralis major, and 50 units in the left wrist flexors. Total amount of botulinum toxin injected was 450 units diluted 25 units to 1 mL. The patient tolerated the procedure well and no complications were encountered.         [Radiology]\n",
              "8                                                                                                                                                                                                                                                                                                                                              CHIEF COMPLAINT: I have blood in my urine. HEMATURIA HISTORY: The patient describes the sudden onset of gross painless hematuria. The character of the urine is red with clots. The hematuria is in the total urinary stream. The patient has urinary symptoms that include hesitancy and urgency. The patient denies any associated abdominal, back, flank, or pelvic pain. No fever or chills have been recorded by the patient with the hematuria. PAST MEDICAL HISTORY: Type II Diabetes Mellitus, on insulin. Chronic sinusitis. Urolithiasis. PAST SURGICAL HISTORY: Appendectomy (1997). Laparoscopic Cholecystectomy (1998). FAMILY MEDICAL HISTORY: The patient's mother with history of Diabetes and breast cancer. OCCUPATIONAL HISTORY: Self employed. SOCIAL HISTORY: Divorced and sexually active. Smokes 1-2 packs/cigarettes per day and drinks alcohol socially. ALLERGIES: Intolerance�s / Antibiotic (s): Keflex. Intolerance/Analgesic (s): Codeine. MEDICATIONS: Diabeta. Insulin. REVIEW OF SYSTEMS: Constitutional: Generally healthy. Weight is stable. The patient is a good historian. Cardiovascular: The patient has no history of any cardiovascular problems and denies any present problems. Gastrointestinal: Patient denies any present or past gastrointestinal problems. Genitourinary: See chief complaint and history of present illness. Endocrine: Diabetes, Type 2 but on insulin supplementation. PHYSICAL EXAMINATION: Constitutional: General Appearance: Healthy, moderately overweight for habitus and anxious. Cardiovascular: Regular heart rate and rhythm without murmur or gallop. Abdomen/Flank: The abdomen is soft without tenderness or palpable masses. The liver and spleen are not palpable. Bowel sounds are active and normal. Genitalia Male: Scrotum: rash consistent with tinea cruris and Angiomata Scroti. Testes: Both testes are normally descended and normal size. Prostate: For age of the patient, the prostate is normal in size and symmetry. The prostate is not tender and there is no palpable induration. Seminal vesicles not palpable. LAB: Chemstix of the urine is positive for 3+non hemolyzed blood and 1+ glucose. Microscopic U/A: 50-100 RBCs. Cystoscopy: A lesion consistent with Transitional Cell Cancer. TC lesion located: dome. IMPRESSION / DIAGNOSIS: Transitional Cell Cancer of the Bladder (188.9). Diabetes, Type II Insulin. (250.00). MEDICATIONS PRESCRIBED: Noroxin 400mg and Detrol 2mg #2 of each. DISCUSSION/TREATMENT PLAN: Explained the diagnosis, possible etiologies, and treatment plan. The patient indicates they understand and agree with the proposed treatment plan. PROCEDURE (S) SCHEDULED: TURBT. Outpatient surgery scheduled at Hospital, 3/10/01.           [Urology]\n",
              "9                                                                                                                                                                                                                                                                                                                                                                                                                                                                                                                                                                                                                                                                                                                                                                                                                                                                                                                                                                                                                                                                                                                                                                                                                                                                                                                                                                                                                                                                                                                                                                                                                                                                                                                                                                                                                                                                                                                                                                                                                                                                                                                                                                                                                                                                                                                 PREOPERATIVE DIAGNOSIS: Recurring bladder infections with frequency and urge incontinence, not helped with Detrol LA. POSTOPERATIVE DIAGNOSIS: Normal cystoscopy with atrophic vaginitis. PROCEDURE PERFORMED: Flexible cystoscopy. FINDINGS: Atrophic vaginitis. PROCEDURE: The patient was brought in to the procedure suite, prepped and draped in the dorsal lithotomy position. The patient then had flexible scope placed through the urethral meatus and into the bladder. Bladder was systematically scanned noting no suspicious areas of erythema, tumor or foreign body. Significant atrophic vaginitis is noted. IMPRESSION: Atrophic vaginitis with overactive bladder with urge incontinence. PLAN: The patient will try VESIcare 5 mg with Estrace and follow up in approximately 4 weeks.           [Urology]\n",
              "10                    PROCEDURES: Esophagogastroduodenoscopy and colonoscopy with biopsy and polypectomy. REASON FOR PROCEDURE: Child with abdominal pain and rectal bleeding. Rule out inflammatory bowel disease, allergic enterocolitis, rectal polyps, and rectal vascular malformations. CONSENT: History and physical examination was performed. The procedure, indications, alternatives available, and complications, i.e. bleeding, perforation, infection, adverse medication reaction, the possible need for blood transfusion, and surgery should a complication occur were discussed with the parents who understood and indicated this. Opportunity for questions was provided and informed consent was obtained. MEDICATION: General anesthesia. INSTRUMENT: Olympus GIF-160. COMPLICATIONS: None. FINDINGS: With the patient in the supine position and intubated, the endoscope was inserted without difficulty into the hypopharynx. The esophageal mucosa and vascular pattern appeared normal. The lower esophageal sphincter was located at 25 cm from the central incisors. It appeared normal. A Z-line was identified within the lower esophageal sphincter. The endoscope was advanced into the stomach, which distended with excess air. Rugal folds flattened completely. Gastric mucosa appeared normal throughout. No hiatal hernia was noted. Pyloric valve appeared normal. The endoscope was advanced into the first, second, and third portions of duodenum, which had normal mucosa, coloration, and fold pattern. Biopsies were obtained x2 in the second portion of duodenum, antrum, and distal esophagus at 22 cm from the central incisors for histology. Additional 2 biopsies were obtained for CLO testing in the antrum. Excess air was evacuated from the stomach. The scope was removed from the patient who tolerated that part of procedure well. The patient was turned and the scope was advanced with some difficulty to the terminal ileum. The terminal ileum mucosa and the colonic mucosa throughout was normal except at approximately 10 cm where a 1 x 1 cm pedunculated juvenile-appearing polyp was noted. Biopsies were obtained x2 in the terminal ileum, cecum, ascending colon, transverse colon, descending colon, sigmoid, and rectum. Then, the polyp was snared right at the base of the polyp on the stalk and 20 watts of pure coag was applied in 2-second bursts x3. The polyp was severed. There was no bleeding at the stalk after removal of the polyp head. The polyp head was removed by suction. Excess air was evacuated from the colon. The patient tolerated that part of the procedure well and was taken to recovery in satisfactory condition. Estimated blood loss approximately 5 mL. IMPRESSION: Normal esophagus, stomach, duodenum, and colon as well as terminal ileum except for a 1 x 1-cm rectal polyp, which was removed successfully by polypectomy snare. PLAN: Histologic evaluation and CLO testing. I will contact the parents next week with biopsy results and further management plans will be discussed at that time.  [Gastroenterology]\n",
              "11                                                                                                                                                                                                                                                                                                                                                                                                                                                                                                                                                                                                                                                                                                                                                                                                                                                                                                                                                                                                                                                                                                                                                                                                                                                                                                                                                                                                                                                                                                                                                                                                                                                                                                                                                                                                                                                                                                                                                                                                                                                                                                                                                                                                                                                                                                                                                                                                                                                                                                                                                                                                                                                                                                                                 EXAM:MRI OF THE RIGHT ANKLE CLINICAL:Pain. FINDINGS: The bone marrow demonstrates normal signal intensity. There is no evidence of bone contusion or fracture. There is no evidence of joint effusion. Tendinous structures surrounding the ankle joint are intact. No abnormal mass or fluid collection is seen surrounding the ankle joint. IMPRESSION: NORMAL MRI OF THE RIGHT ANKLE.         [Radiology]\n",
              "12                                                                                                                                                                                                                                                                                                                                                                                                                                                                                                                                                                                                                                                                                                                                                                                                                                                                                                                                                                                                                                                                                                                                                                                                                                                                                                                                                                                                                                                                                                                                                                                                                                                                                                                                                                                                                                                                                                                       EXAM: CT stone protocol. REASON FOR EXAM: History of stones, rule out stones. TECHNIQUE: Noncontrast CT abdomen and pelvis per renal stone protocol. FINDINGS: Correlation is made with a prior examination dated 01/20/09. Again identified are small intrarenal stones bilaterally. These are unchanged. There is no hydronephrosis or significant ureteral dilatation. There is no stone along the expected course of the ureters or within the bladder. There is a calcification in the low left pelvis not in line with ureter, this finding is stable and is compatible with a phlebolith. There is no asymmetric renal enlargement or perinephric stranding. The appendix is normal. There is no evidence of a pericolonic inflammatory process or small bowel obstruction. Scans through the pelvis disclose no free fluid or adenopathy. Lung bases aside from very mild dependent atelectasis appear clear. Given the lack of contrast, liver, spleen, adrenal glands, and the pancreas are grossly unremarkable. The gallbladder is present. There is no abdominal free fluid or pathologic adenopathy. IMPRESSION: 1. Bilateral intrarenal stones, no obstruction. 2. Normal appendix.         [Radiology]\n",
              "13   HISTORY: The patient is a 76-year-old male, with previous history of dysphagia, status post stroke. The patient stated that he was at Hospital, secondary to his stroke, where he had his initial modified barium swallow study. The patient stated that the results of that modified revealed aspiration with thin liquids only. He is currently eating and drinking without difficulty and he feels that he can return to a regular diet with thin liquids. A modified barium swallow study was ordered to objectively evaluate the patient's swallowing function and safety and to rule out aspiration. STUDY: Modified barium swallow study was performed in the radiology suite in cooperation with Dr. X. The patient was seated upright and in a video-imaging chair throughout this assessment. To evaluate the patient's swallowing function and safety, he was administered graduated amounts of liquid and food mixed with barium in the form of thin liquids (teaspoon x3, cup sip x3); nectar-thick liquid (teaspoon x2, cup sip x3); pureed consistency (teaspoon x3); solid consistency (1/4 cracker x1). FINDINGS ORAL STAGE: The patient had no spillage out lips. Oral residual after swallow with increased viscosity requiring multiple swallows to clear oral cavity. The patient has reduced lingual retraction contributing to vallecula pooling after the swallow. Trace premature spillage was noted with thin liquids during this assessment. PHARYNGEAL STAGE: Aspiration noted on cup sips of thin liquid. Trace-to-mild penetration with teaspoon amounts of thin liquid during and after the swallow. The penetration after the swallow occurred secondary to spillage on the piriform sinuses into the laryngeal vestibule. The patient has incomplete laryngeal closure, which allowed the aspiration and penetration with thin liquids. The patient had no aspiration or penetration occur with nectar-thick liquid, puree, and solid food. The patient has a mildly reduced hyolaryngeal elevation and anterior movement that leads to incomplete epiglottic inversion that contributes to vallecula pooling. Mild-to-moderate pooling in the vallecula after the swallow with liquids and puree, this residual did decrease with the solid feed presentation. The patient has mild residual of pooling in the piriform sinuses after a swallow that did clear with sequential swallows. CERVICAL ESOPHAGEAL STAGE: The patient's upper esophageal sphincter opening is well coordinated with swallow and readily accepted the bolus. DIAGNOSTIC IMPRESSION: Mild aspiration with cup sips of thin liquid, penetration during and after the swallow with teaspoon amounts of thin liquid. No aspiration or penetration occurred with thick liquid, pureed, or solid food during this assessment. PROGNOSTIC IMPRESSION: With a modified diet, the patient's potential for swallowing safety is good. PLAN: Based on this evaluation, the following is recommended: 1. The patient should be on a regular diet with nectar-thick liquids to help prevent aspiration and penetratio...  [Gastroenterology]\n",
              "14   PROCEDURE:: After informed consent was obtained, the patient was brought to the operating room and placed supine on the operating room table. General endotracheal anesthesia was induced. The patient was then prepped and draped in the usual sterile fashion. An #11 blade scalpel was used to make a small infraumbilical skin incision in the midline. The fascia was elevated between two Ochsner clamps and then incised. A figure-of-eight stitch of 2-0 Vicryl was placed through the fascial edges. The 11-mm port without the trocar engaged was then placed into the abdomen. A pneumoperitoneum was established. After an adequate pneumoperitoneum had been established, the laparoscope was inserted. Three additional ports were placed all under direct vision. An 11-mm port was placed in the epigastric area. Two 5-mm ports were placed in the right upper quadrant. The patient was placed in reverse Trendelenburg position and slightly rotated to the left. The fundus of the gallbladder was retracted superiorly and laterally. The infundibulum was retracted inferiorly and laterally. Electrocautery was used to carefully begin dissection of the peritoneum down around the base of the gallbladder. The triangle of Calot was carefully opened up. The cystic duct was identified heading up into the base of the gallbladder. The cystic artery was also identified within the triangle of Calot. After the triangle of Calot had been carefully dissected, a clip was then placed high up on the cystic duct near its junction with the gallbladder. The cystic artery was clipped twice proximally and once distally. Scissors were then introduced and used to make a small ductotomy in the cystic duct, and the cystic artery was divided. An intraoperative cholangiogram was obtained. This revealed good flow through the cystic duct and into the common bile duct. There was good flow into the duodenum without any filling defects. The hepatic radicals were clearly visualized. The cholangiocatheter was removed, and two clips were then placed distal to the ductotomy on the cystic duct. The cystic duct was then divided using scissors. The gallbladder was then removed up away from the liver bed using electrocautery. The gallbladder was easily removed through the epigastric port site. The liver bed was then irrigated and suctioned. All dissection areas were inspected. They were hemostatic. There was not any bile leakage. All clips were in place. The right gutter up over the edge of the liver was likewise irrigated and suctioned until dry. All ports were then removed under direct vision. The abdominal cavity was allowed to deflate. The fascia at the epigastric port site was closed with a stitch of 2-0 Vicryl. The fascia at the umbilical port was closed by tying the previously placed stitch. All skin incisions were then closed with subcuticular sutures of 4-0 Monocryl and 0.25% Marcaine with epinephrine was infiltrated into all port sites. The patient tolerated the procedure well. The patient is currently ...  [Gastroenterology]\n",
              "15                                                                                                                                                                                                                                                                                                                                                                                                                                                                                                                                                                                                                                                                                                                                                                                                                                                                                                                                                              PREOPERATIVE DIAGNOSES: Phimosis and adhesions. POSTOPERATIVE DIAGNOSES: Phimosis and adhesions. PROCEDURES PERFORMED: Circumcision and release of ventral chordee. ANESTHESIA: Local MAC. ESTIMATED BLOOD LOSS: Minimal. FLUIDS: Crystalloid. The patient was given antibiotics preop. BRIEF HISTORY: This is a 43-year-old male who presented to us with significant phimosis, difficulty retracting the foreskin. The patient had buried penis with significant obesity issues in the suprapubic area. Options such as watchful waiting, continuation of slowly retracting the skin, applying betamethasone cream, and circumcision were discussed. Risk of anesthesia, bleeding, infection, pain, MI, DVT, PE, and CVA risks were discussed. The patient had discussed this issue with Dr Khan and had been approved to get off of the Plavix. Consent had been obtained. Risk of scarring, decrease in penile sensation, and unexpected complications were discussed. The patient was told about removing the dressing tomorrow morning, okay to shower after 48 hours, etc. Consent was obtained. DESCRIPTION OF PROCEDURE: The patient was brought to the OR. Anesthesia was applied. The patient was placed in supine position. The patient was prepped and draped in usual sterile fashion. Local MAC anesthesia was applied. After draping, 17 mL of mixture of 0.25% Marcaine and 1% lidocaine plain were applied around the dorsal aspect of the penis for dorsal block. The patient had significant phimosis and slight ventral chordee. Using marking pen, the excess foreskin was marked off. Using a knife, the ventral chordee was released. The urethra was intact. The excess foreskin was removed. Hemostasis was obtained using electrocautery. A 5-0 Monocryl stitches were used for 4 interrupted stitches and horizontal mattresses were done. The patient tolerated the procedure well. There was excellent hemostasis. The penis was straight. Vaseline gauze and Kerlix were applied. The patient was brought to the recovery in stable condition. Plan was for removal of the dressing tomorrow. Okay to shower after 48 hours.           [Urology]\n",
              "16                                                                                                                                                                                                                                                                                                                                                                                               CLINICAL HISTORY: This is a 64-year-old male patient, who had a previous stress test, which was abnormal and hence has been referred for a stress test with imaging for further classification of coronary artery disease and ischemia. PERTINENT MEDICATIONS: Include Tylenol, Robitussin, Colace, Fosamax, multivitamins, hydrochlorothiazide, Protonix and flaxseed oil. With the patient at rest 10.5 mCi of Cardiolite technetium-99 m sestamibi was injected and myocardial perfusion imaging was obtained. PROCEDURE AND INTERPRETATION: The patient exercised for a total of 4 minutes and 41 seconds on the standard Bruce protocol. The peak workload was 7 METs. The resting heart rate was 61 beats per minute and the peak heart rate was 173 beats per minute, which was 85% of the age-predicted maximum heart rate response. The blood pressure response was normal with the resting blood pressure 126/86, and the peak blood pressure of 134/90. EKG at rest showed normal sinus rhythm with a right-bundle branch block. The peak stress EKG was abnormal with 2 mm of ST segment depression in V3 to V6, which remained abnormal till about 6 to 8 minutes into recovery. There were occasional PVCs, but no sustained arrhythmia. The patient had an episode of supraventricular tachycardia at peak stress. The ischemic threshold was at a heart rate of 118 beats per minute and at 4.6 METs. At peak stress, the patient was injected with 30.3 mCi of Cardiolite technetium-99 m sestamibi and myocardial perfusion imaging was obtained, and was compared to resting images. MYOCARDIAL PERFUSION IMAGING: 1. The overall quality of the scan was fair in view of increased abdominal uptake, increased bowel uptake seen. 2. There was a large area of moderate to reduced tracer concentration seen in the inferior wall and the inferior apex. This appeared to be partially reversible in the resting images. 3. The left ventricle appeared normal in size. 4. Gated SPECT images revealed normal wall motion and normal left ventricular systolic function with normal wall thickening. The calculated ejection fraction was 70% at rest. CONCLUSIONS: 1. Average exercise tolerance. 2. Adequate cardiac stress. 3. Abnormal EKG response to stress, consistent with ischemia. No symptoms of chest pain at rest. 4. Myocardial perfusion imaging was abnormal with a large-sized, moderate intensity partially reversible inferior wall and inferior apical defect, consistent with inferior wall ischemia and inferior apical ischemia. 5. The patient had run of SVT at peak stress. 6. Gated SPECT images revealed normal wall motion and normal left ventricular systolic function.         [Radiology]\n",
              "17                                                                                                                                                                                                                                                                                                                                                                                                                                                                                                                                                                                                                                                                                                                                                                                                                                                                                                                                                                                                                                                                                                                                                                                                                                                                                                                                                                                                                                               COMMENTS: 1. The left ventricular cavity size and wall thickness appear normal. The wall motion and left ventricular systolic function appears hyperdynamic with estimated ejection fraction of 70% to 75%. There is near-cavity obliteration seen. There also appears to be increased left ventricular outflow tract gradient at the mid cavity level consistent with hyperdynamic left ventricular systolic function. There is abnormal left ventricular relaxation pattern seen as well as elevated left atrial pressures seen by Doppler examination. 2. The left atrium appears mildly dilated. 3. The right atrium and right ventricle appear normal. 4. The aortic root appears normal. 5. The aortic valve appears calcified with mild aortic valve stenosis, calculated aortic valve area is 1.3 cm square with a maximum instantaneous gradient of 34 and a mean gradient of 19 mm. 6. There is mitral annular calcification extending to leaflets and supportive structures with thickening of mitral valve leaflets with mild mitral regurgitation. 7. The tricuspid valve appears normal with trace tricuspid regurgitation with moderate pulmonary artery hypertension. Estimated pulmonary artery systolic pressure is 49 mmHg. Estimated right atrial pressure of 10 mmHg. 8. The pulmonary valve appears normal with trace pulmonary insufficiency. 9. There is no pericardial effusion or intracardiac mass seen. 10. There is a color Doppler suggestive of a patent foramen ovale with lipomatous hypertrophy of the interatrial septum. 11. The study was somewhat technically limited and hence subtle abnormalities could be missed from the study.         [Radiology]\n",
              "18                                                                                                                                                                                                                                                                                                                                                                                                                                                                                                                                                                                                                                                                                                                                                                                                                                                                                                                                                                                                                                                                                                                                                                                                                                                                                                                                                                                                                                                                                                                                                                                                                                                                                                                                                                                                                                                                                                                                           EXAM:MRI LEFT KNEE WITHOUT CONTRAST CLINICAL:Left knee pain. FINDINGS: Comparison is made with 10/13/05 radiographs. There is a prominent suprapatellar effusion. Patient has increased signal within the medial collateral ligament as well as fluid around it, compatible with type 2 sprain. There is fluid around the lateral collateral ligament without increased signal within the ligament itself, compatible with type 1 sprain. Medial and lateral menisci contain some minimal increased signal centrally that does not extend through an articular surface and findings are felt to represent minimal myxoid degeneration. No tear is seen. Anterior cruciate and posterior cruciate ligaments are intact. There is a bone bruise of medial patellar facet measuring approximately 8 x 5 mm. There is suggestion of some mild posterior aspect of the lateral tibial plateau. MR signal on the bone marrow is otherwise normal. IMPRESSION: Type 2 sprain in the medial collateral ligament and type sprain in the lateral collateral ligament. Joint effusion and bone bruise with suggestion of some minimal overlying chondromalacia and medial patellar facet.         [Radiology]\n",
              "19                                                                                                                                                                                                                                                                                                                                                                                                                                                                                                                                                                                                                                                                                                                                                                                                                                                                                                                                                                                                                                                                                                                                                                                                                                                                                                                                                                                                                                                                                                                                                                                      PREOPERATIVE DIAGNOSIS: Low back pain. POSTOPERATIVE DIAGNOSIS: Low back pain. PROCEDURE PERFORMED: 1. Lumbar discogram L2-3. 2. Lumbar discogram L3-4. 3. Lumbar discogram L4-5. 4. Lumbar discogram L5-S1. ANESTHESIA: IV sedation. PROCEDURE IN DETAIL: The patient was brought to the Radiology Suite and placed prone onto a radiolucent table. The C-arm was brought into the operative field and AP, left right oblique and lateral fluoroscopic images of the L1-2 through L5-S1 levels were obtained. We then proceeded to prepare the low back with a Betadine solution and draped sterile. Using an oblique approach to the spine, the L5-S1 level was addressed using an oblique projection angled C-arm in order to allow for perpendicular penetration of the disc space. A metallic marker was then placed laterally and a needle entrance point was determined. A skin wheal was raised with 1% Xylocaine and an #18-gauge needle was advanced up to the level of the disc space using AP, oblique and lateral fluoroscopic projections. A second needle, #22-gauge 6-inch needle was then introduced into the disc space and with AP and lateral fluoroscopic projections, was placed into the center of the nucleus. We then proceeded to perform a similar placement of needles at the L4-5, L3-4 and L2-3 levels. A solution of Isovue 300 with 1 gm of Ancef was then drawn into a 10 cc syringe and without informing the patient of our injecting, we then proceeded to inject the disc spaces sequentially.         [Radiology]\n",
              "20                                                                                                                                                                                                                                                                                                                                                                                                                                                                                                                                                                                                                                                                                                                                                                                                                                                                                                                                                                                                                                                                                                                                                                                                                                                                                                                                                                                                                                                                                                                                                                                                                       Date XYZ, M.D. Suite 123, ABC Avenue City, STATE 12345 RE: XXXX, XXXX MR#: 0000000 Dear Dr. XYZ: XXXX was seen in followup in the Pediatric Urology Clinic. I appreciate you speaking with me while he was in clinic. He continues to have abdominal pain, and he had a diuretic renal scan, which indicates no evidence of obstruction and good differential function bilaterally. When I examined him, he seems to indicate that his pain is essentially in the lower abdomen in the suprapubic region; however, on actual physical examination, he seems to complain of pain through his entire right side. His parents have brought up the question of whether this could be gastrointestinal in origin and that is certainly an appropriate consideration. They also feel that since he has been on Detrol, his pain levels have been somewhat worse, and so, I have given them the option of stopping the Detrol initially. I think he should stay on MiraLax for management of his bowels. I would also suggest that he be referred to Pediatric Gastroenterology for evaluation. If they do not find any abnormalities from a gastrointestinal perspective, then the next step would be to endoscope his bladder and then make sure that he does not have any evidence of bladder anatomic abnormalities that is leading to this pain. Thank you for following XXXX along with us in Pediatric Urology Clinic. If you have any questions, please feel free to contact me. Sincerely yours,           [Urology]\n",
              "21                                                                                                                                                                                                                                                                                                                                                                                                                                                                                                                                                                                                                                                                                                                                                                                                                                                                                                                                         PREOPERATIVE DIAGNOSES: 1. Benign prostatic hypertrophy. 2. Urinary retention. POSTOPERATIVE DIAGNOSES: 1. Benign prostatic hypertrophy. 2. Urinary retention. PROCEDURE PERFORMED: 1. Cystourethroscopy. 2. Transurethral resection of prostate (TURP). ANESTHESIA: Spinal. DRAIN: A #24 French three-way Foley catheter. SPECIMENS: Prostatic resection chips. ESTIMATED BLOOD LOSS: 150 cc. DISPOSITION: The patient was transferred to the PACU in stable condition. INDICATIONS AND FINDINGS: This is an 84-year-old male with history of BPH and subsequent urinary retention with failure of trial of void, scheduled for elective TURP procedure. FINDINGS: At the time of surgery, cystourethroscopy revealed trilobar enlargement of the prostate with prostatic varices of the median lobe. Cystoscopy showed a few cellules of the bladder with no obvious bladder tumors noted. DESCRIPTION OF PROCEDURE: After informed consent was obtained, the patient was moved to operating room and spinal anesthesia was induced by the Department of Anesthesia. The patient was prepped and draped in the normal sterile fashion and a #21 French cystoscope inserted into urethra and into the bladder. Cystoscopy performed with the above findings. Cystoscope was removed. A #27 French resectoscope with a #26 cutting loop was inserted into the bladder. Verumontanum was identified as a landmark and systematic transurethral resection of the prostate tissue was undertaken in an circumferential fashion with good resection of tissue completed. ________ irrigator was used to evacuate the bladder of prostatic chips. Resectoscope was then inserted and any residual chips were removed in piecemeal fashion with a resectoscope loop. Any obvious bleeding from the prostatic fossa was controlled with electrocautery. Resectoscope was removed. A #24 French three-way Foley catheter inserted into the urethra and into the bladder. Bladder was irrigated and connected to three-way irrigation. The patient was cleaned and sent to recovery in stable condition to be admitted overnight for continuous bladder irrigation and postop monitoring.           [Urology]\n",
              "22   CHIEF COMPLAINT: Worsening seizures. HISTORY OF PRESENT ILLNESS: A pleasant 43-year-old female with past medical history of CP since birth, seizure disorder, complex partial seizure with secondary generalization and on top of generalized epilepsy, hypertension, dyslipidemia, and obesity. The patient stated she was in her normal state of well being when she was experiencing having frequent seizures. She lives in assisted living. She has been falling more frequently. The patient was driving a scooter and apparently was hitting into the wall with unresponsiveness in association with this. There was no head trauma, but apparently she was doing that many times and there was no responsiveness. The patient has no memory of the event. She is now back to her baseline. She states her seizures are worse in the setting of stress, but it is not clear to her why this has occurred. She is on Carbatrol 300 mg b.i.d. and she has been very compliant and without any problems. The patient is admitted for EMU monitoring for the characterization of these episodes and for the possibility of complex partial epilepsy syndrome or better characterization of this current syndrome. PAST MEDICAL HISTORY: Include dyslipidemia and hypertension. FAMILY HISTORY: Positive for stroke and sleep apnea. SOCIAL HISTORY: No smoking or drinking. No drugs. MEDICATIONS AT HOME: Include, Avapro, lisinopril, and dyslipidemia medication, she does not remember. REVIEW OF SYSTEMS: The patient does complain of gasping for air, witnessed apneas, and dry mouth in the morning. The patient also has excessive daytime sleepiness with EDS of 16. PHYSICAL EXAMINATION: VITAL SIGNS: Last blood pressure 130/85, respirations 20, and pulse 70. GENERAL: Normal. NEUROLOGICAL: As follows. Right-handed female, normal orientation, normal recollection to 3 objects. The patient has underlying MR. Speech, no aphasia, no dysarthria. Cranial nerves, funduscopic intact without papilledema. Pupils are equal, round, and reactive to light. Extraocular movements intact. No nystagmus. Her mood is intact. Symmetric face sensation. Symmetric smile and forehead. Intact hearing. Symmetric palate elevation. Symmetric shoulder shrug and tongue midline. Motor 5/5 proximal and distal. The patient does have limp on the right lower extremity. Her Babinski is hyperactive on the left lower extremity, upgoing toes on the left. Sensory, the patient does have sharp, soft touch, vibration intact and symmetric. The patient has trouble with ambulation. She does have ataxia and uses a walker to ambulate. There is no bradykinesia. Romberg is positive to the left. Cerebellar, finger-nose-finger is intact. Rapid alternating movements are intact. Upper airway examination, the patient has a Friedman tongue position with 4 oropharyngeal crowding. Neck more than 16 to 17 inches, BMI elevated above 33. Head and neck circumference very high. IMPRESSION: 1. Cerebral palsy, worsening seizures. 2. Hypertension. 3. Dyslipidemia. 4. Obstructive sleep ...         [Neurology]\n",
              "23                                                                                                                                                                                                                                                                                                                                                                                                                                                                                                                                                                                                                                                                 PREOPERATIVE DIAGNOSIS: Bladder tumor. POSTOPERATIVE DIAGNOSIS: Bladder tumor. PROCEDURE PERFORMED: Transurethral resection of a medium bladder tumor (TURBT), left lateral wall. ANESTHESIA: Spinal. SPECIMEN TO PATHOLOGY: Bladder tumor and specimen from base of bladder tumor. DRAINS: A 22-French 3-way Foley catheter, 30 mL balloon. ESTIMATED BLOOD LOSS: Minimal. INDICATIONS FOR PROCEDURE: This is a 74-year-old male who presented with microscopic and an episode of gross hematuria. He underwent an IVP, which demonstrated enlarged prostate and normal upper tracts. Cystoscopy in the office demonstrated a 2.5- to 3-cm left lateral wall bladder tumor. He is brought to the operating room for transurethral resection of that bladder tumor. DESCRIPTION OF OPERATION: After preoperative counseling of the patient and his wife, the patient was taken to the operating room and administered a spinal anesthetic. He was placed in lithotomy position and prepped and draped in the usual fashion. Using the visual obturator, the resectoscope was then inserted per urethra into the bladder. The bladder was inspected confirming previous cystoscopic findings of a 2.5- to 3-cm left lateral wall bladder tumor away from the ureteral orifice. Using the resectoscope loop, the tumor was then resected down to its base in a stepwise fashion. Following completion of resection down to the base, the bladder was _______ free of tumor specimen. The resectoscope was then reinserted and the base of the bladder tumor was then resected to get the base of the bladder tumor specimen, this was sent as a separate pathological specimen. Hemostasis was assured with electrocautery. The base of the tumor was then fulgurated again and into the periphery out in the normal mucosa surrounding the base of the bladder tumor. Following completion of the fulguration, there was good hemostasis. The remainder of the bladder was without evidence of significant abnormality. Both ureteral orifices were visualized and noted to drain freely of clear urine. The bladder was filled and the resectoscope was removed. A 22-French 3-way Foley catheter was inserted per urethra into the bladder. The balloon was inflated to 30 mL. The catheter with sterile continuous irrigation and was noted to drain clear irrigant. The patient was then removed from lithotomy position. He was in stable condition.           [Urology]\n",
              "24                                                                                                                                                                                                                                                                                                                                                                                                                                                                                                                                                                                                                                                                                                                                                                                                                                                                                                                                                                                                                                                                                                                                                                                                                                                                                                       PREOPERATIVE DIAGNOSES: Nonhealing decubitus ulcer, left ischial region? Osteomyelitis, paraplegia, and history of spina bifida. POSTOPERATIVE DIAGNOSES: Nonhealing decubitus ulcer, left ischial region? Osteomyelitis, paraplegia, and history of spina bifida. PROCEDURE PERFORMED: Debridement left ischial ulcer. ANESTHESIA: Local MAC. INDICATIONS: This is a 27-year-old white male patient, with a history of spina bifida who underwent spinal surgery about two years ago and subsequently he has been paraplegic. The patient has a nonhealing decubitus ulcer in the left ischial region, which is quite deep. It appears to be right down to the bone. MRI shows findings suggestive of osteomyelitis. The patient is being brought to operating room for debridement of this ulcer. Procedure, indication, and risks were explained to the patient. Consent obtained. PROCEDURE IN DETAIL: The patient was put in right lateral position and left buttock and ischial region was prepped and draped. Examination at this time showed fair amount of chronic granulation tissue and scarred tissue circumferentially as well as the base of this decubitus ulcer. This was sharply excised until bleeding and healthy tissue was obtained circumferentially as well as the base. The ulcer does not appear to be going into the bone itself as there was a covering on the bone, which appears to be quite healthy, normal and bone itself appeared solid. I did not rongeur the bone. The deeper portion of the excised tissue was also sent for tissue cultures. Hemostasis was achieved with cautery and the wound was irrigated with sterile saline solution and then packed with medicated Kerlix. Sterile dressing was applied. The patient transferred to recovery room in stable condition.  [Gastroenterology]\n",
              "25   PREOPERATIVE DIAGNOSIS: Grade 1 compound fracture, right mid-shaft radius and ulna with complete displacement and shortening. POSTOPERATIVE DIAGNOSIS: Grade 1 compound fracture, right mid-shaft radius and ulna with complete displacement and shortening. OPERATIONS: 1. Irrigation and debridement of skin subcutaneous tissues, muscle, and bone, right forearm. 2. Open reduction, right both bone forearm fracture with placement of long-arm cast. COMPLICATIONS: None. TOURNIQUET: None. ESTIMATED BLOOD LOSS: 25 mL. ANESTHESIA: General. INDICATIONS: The patient suffered injury at which time he fell over a concrete bench. He landed mostly on the right arm. He noted some bleeding at the time of the injury and a small puncture wound. He was taken to the emergency room and diagnosed a compound both bone forearm fracture, and based on this, he was seen for malalignment. He was indicated the above-noted procedure. This procedure as well as alternatives of this procedure was discussed at length with the patient's parents and they understood them well. Risks and benefits were also discussed. Risks such as bleeding, infection, damage to blood vessels, damage to nerve roots, need for further surgeries, chronic pain on full range of motion, risk of continued discomfort, risk of need for repeat debridement, risk of need for internal fixation, risk of blood clots, pulmonary embolism, myocardial infarction, and risk of death were discussed. They understood these well. All questions were answered and they signed the consent for procedure as described. DESCRIPTION OF PROCEDURE: The patient was placed on the operating table and general anesthesia was achieved. The right forearm was inspected. There was noted to be a 3-mm puncture-type wound over the volar aspect of the forearm in the middle one-third overlying the radial one-half. There was bleeding in this region. No gross contamination was seen. At this point, under fluoroscopic control, I did attempt to see a fracture. I was unable to do the forearm under the close reduction techniques. At this point, the right upper extremity was then prepped and draped in the usual sterile manner. An incision was made through the puncture wound site extending this proximally and distally. There was noted to be some slight amount of nonviable tissue at the skin edge and debridement was required and performed. I also did perform a light debridement of the nonviable subcutaneous tissue, muscle, and small bony fragments were also removed. These were all completely debrided appropriately and then at this point, a thorough irrigation was performed of the radius, which I communicated through the puncture wound. Both ends were clearly visualized, and thorough irrigation was performed using total of 6 L of antibiotic solution. All nonviable gross contaminated tissue was removed. At this point with the bones in direct visualization, I did reduce the bony ends to anatomic alignment with excellent bony approximation. Proper alignment of tissu...        [Orthopedic]\n",
              "26   ADMISSION DIAGNOSIS: Left hip fracture. CHIEF COMPLAINT: Diminished function, secondary to the above. HISTORY: This pleasant 70-year-old gentleman had a ground-level fall at home on 05/05/03 and was brought into ABCD Medical Center, evaluated by Dr. X and brought in for orthopedic stay. He had left hip fracture identified on x-rays at that time. Pain and inability to ambulate brought him in. He was evaluated and then underwent medical consultation as well, where they found a history of resolving pneumonia, hypertension, chronic obstructive pulmonary disease, congestive heart failure, hypothyroidism, depression, anxiety, seizure and chronic renal failure, as well as anemia. His medical issues are under good control. The patient underwent left femoral neck fixation with hemiarthroplasty on that left side on 05/06/03. The patient has had some medical issues including respiratory insufficiency, perioperative anemia, pneumonia, and hypertension. Cardiology has followed closely, and the patient has responded well to medical treatment, as well as physical therapy and occupational therapy. He is gradually tolerating more activities with less difficulties, made good progress and tolerated more consistent and more prolonged interventions. PAST MEDICAL HISTORY: Positive for congestive heart failure, chronic renal insufficiency, azotemia, hyperglycemia, coronary artery disease, history of paroxysmal atrial fibrillation. Remote history of subdural hematoma precluding the use of Coumadin. History of depression, panic attacks on Doxepin. Perioperative anemia. Swallowing difficulties. ALLERGIES: Zyloprim, penicillin, Vioxx, NSAIDs. CURRENT MEDICATIONS 1. Heparin. 2. Albuterol inhaler. 3. Combivent. 4. Aldactone. 5. Doxepin. 6. Xanax. 7. Aspirin. 8. Amiodarone. 9. Tegretol. 10. Synthroid. 11. Colace. SOCIAL HISTORY: Lives in a 1-story home with 1 step down; wife is there. Speech and language pathology following with current swallowing dysfunction. He is minimum assist for activities of daily living, bed mobility. REVIEW OF SYSTEMS: Currently negative for headache, nausea and vomiting, fevers, chills or shortness of breath or chest pain. PHYSICAL EXAMINATION HEENT: Oropharynx clear. CV: Regular rate and rhythm without murmurs, rubs or gallops. LUNGS: Clear to auscultation bilaterally. ABDOMEN: Nontender, nondistended. Bowel sounds positive. EXTREMITIES: Without clubbing, cyanosis, or edema. NEUROLOGIC: There are no focal motor or sensory losses to the lower extremities. Bulk and tone normal in the lower extremities. Wound site has healed well with staples out. IMPRESSION 1. Status post left hip fracture and hemiarthroplasty. 2. History of panic attack, anxiety, depression. 3. Myocardial infarction with stent placement. 4. Hypertension. 5. Hypothyroidism. 6. Subdural hematoma. 7. Seizures. 8. History of chronic obstructive pulmonary disease. Recent respiratory insufficiency. 9. Renal insufficiency. 10. Recent pneumonia. 11. O2 requiring. 12. Perioperative anem...         [Neurology]\n",
              "27                                                                                                                                                                                                                                       DOBUTAMINE STRESS ECHOCARDIOGRAM REASON FOR EXAM: Chest discomfort, evaluation for coronary artery disease. PROCEDURE IN DETAIL: The patient was brought to the cardiac center. Cardiac images at rest were obtained in the parasternal long and short axis, apical four and apical two views followed by starting with a dobutamine drip in the usual fashion at 10 mcg/kg per minute for low dose, increased every 2 to 3 minutes by 10 mcg/kg per minute. The patient maximized at 30 mcg/kg per minute. Images were obtained at that level after adding 0.7 mg of atropine to reach maximal heart rate of 145. Maximal images were obtained in the same windows of parasternal long and short axis, apical four and apical two windows. Wall motion assessed at all levels as well as at recovery. The patient got nauseated, had some mild shortness of breath. No angina during the procedure and the maximal amount of dobutamine was 30 mcg/kg per minute. The resting heart rate was 78 with the resting blood pressure 186/98. Heart rate reduced by the vasodilator effects of dobutamine to 130/80. Maximal heart rate achieved was 145, which is 85% of age-predicted heart rate. The EKG at rest showed sinus rhythm with no ST-T wave depression suggestive of ischemia or injury. Incomplete right bundle-branch block was seen. The maximal stress test EKG showed sinus tachycardia. There was subtle upsloping ST depression in III and aVF, which is a normal response to the tachycardia with dobutamine, but no significant depression suggestive of ischemia and no ST elevation seen. No ventricular tachycardia or ventricular ectopy seen during the test. The heart rate recovered in a normal fashion after using metoprolol 5 mg. The heart images were somewhat suboptimal to evaluate because of obesity and some problems with the short axis windows mainly at peak exercise. The EF at rest appeared to be normal at 55 to 60 with normal wall motion including anterior, anteroseptal, inferior, lateral, and septal walls at low dose. All walls mentioned were augmented in a normal fashion. At maximum dose, all walls were augmented on all views except for the short axis was foreshortened, was uncertain about the anterolateral wall at peak exercise; however, of the other views, the lateral wall was showing normal thickening and normal augmentation. EF improved to about 70%. The wall motion score was unchanged. IMPRESSION: 1. Maximal dobutamine stress echocardiogram test achieving more than 85% of age-predicted heart rate. 2. Negative EKG criteria for ischemia. 3. Normal augmentation at low and maximum stress test with some uncertainty about the anterolateral wall in peak exercise only on the short axis view. This is considered the negative dobutamine stress echocardiogram test, medical management.         [Radiology]\n",
              "28                                                                                                                                                                                                                                                                                                                                                                                                                                                                                                                                                                                                                                                                                                                                                                                                                                                                                                                                                                                                                                                                                                                                                                                                                                                                                                                                                                                                                                                                                                                                                                                                                                                                                                                                                                                                                                                                                                                                                                                                                                                                                                                                                                                                                                                                                                                                                                Informed consent was obtained after explanation of the procedure, as well as risk factors of bleeding, perforation, adverse medication reaction. The patient was placed in the left lateral decubitus position, medicated with the above medications to achieve and maintain a conscious sedation. Vital signs were monitored throughout the procedure without evidence of hemodynamic compromise or desaturation. The Olympus single-channel endoscope was passed under direct visualization through the oral cavity and advanced to the second portion of the duodenum. FINDINGS: ESOPHAGUS: Proximal and mid esophagus were without abnormalities. STOMACH: Insufflated and retroflexed visualization of the gastric cavity revealed DUODENUM: Normal.  [Gastroenterology]\n",
              "29   PREOPERATIVE DIAGNOSIS: Recurrent degenerative spondylolisthesis and stenosis at L4-5 and L5-S1 with L3 compression fracture adjacent to an instrumented fusion from T11 through L2 with hardware malfunction distal at the L2 end of the hardware fixation. POSTOPERATIVE DIAGNOSIS: Recurrent degenerative spondylolisthesis and stenosis at L4-5 and L5-S1 with L3 compression fracture adjacent to an instrumented fusion from T11 through L2 with hardware malfunction distal at the L2 end of the hardware fixation. PROCEDURE: Lumbar re-exploration for removal of fractured internal fixation plate from T11 through L2 followed by a repositioning of the L2 pedicle screws and evaluation of the fusion from T11 through L2 followed by a bilateral hemilaminectomy and diskectomy for decompression at L4-5 and L5-S1 with posterior lumbar interbody fusion using morselized autograft bone and the synthetic spacers from the Capstone system at L4-5 and L5-S1 followed by placement of the pedicle screw fixation devices at L3, L4, L5, and S1 and insertion of a 20 cm fixation plate that range from the T11 through S1 levels and then subsequent onlay fusion using morselized autograft bone and bone morphogenetic soaked sponge at L1-2 and then at L3-L4, L4-L5, and L5-S1 bilaterally. DESCRIPTION OF PROCEDURE: This is a 68-year-old lady who presents with a history of osteomyelitis associated with the percutaneous vertebroplasty that was actually treated several months ago with removal of the infected vertebral augmentation and placement of a posterior pedicle screw plate fixation device from T11 through L2. She subsequently actually done reasonably well until about a month ago when she developed progressive severe intractable pain. Imaging study showed that the distal hardware at the plate itself had fractured consistent with incomplete fusion across her osteomyelitis area. There was no evidence of infection on the imaging or with her laboratory studies. In addition, she developed a pretty profound stenosis at L4-L5 and L5-S1 that appeared to be recurrent as well. She now presents for revision of her hardware, extension of fusion, and decompression. The patient was brought to the operating room, placed under satisfactory general endotracheal anesthesia. She was placed on the operative table in the prone position. Back was prepared with Betadine, iodine, and alcohol. We elliptically excised her old incision and extended this caudally so that we had access from the existing hardware fixation all the way down to her sacrum. The locking nuts were removed from the screw post and both plates refractured or significantly weakened and had a crease in it. After these were removed, it was obvious that the bottom screws were somewhat loosened in the pedicle zone so we actually tightened one up and that fit good snugly into the nail when we redirected so that it actually reamed up into the upper aspect of the vertebral body in much more secure purchase. We then dressed the L4-L5 and L5-S1 leve...        [Orthopedic]"
            ]
          },
          "metadata": {},
          "execution_count": 61
        }
      ]
    }
  ]
}